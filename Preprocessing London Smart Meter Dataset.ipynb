{
 "cells": [
  {
   "cell_type": "code",
   "execution_count": 3,
   "id": "250ffe3b",
   "metadata": {},
   "outputs": [
    {
     "name": "stdout",
     "output_type": "stream",
     "text": [
      "Kaggle API is installed and working!\n"
     ]
    }
   ],
   "source": [
    "from kaggle.api.kaggle_api_extended import KaggleApi\n",
    "print(\"Kaggle API is installed and working!\")\n"
   ]
  },
  {
   "cell_type": "code",
   "execution_count": 10,
   "id": "0fad9a42",
   "metadata": {},
   "outputs": [
    {
     "name": "stdout",
     "output_type": "stream",
     "text": [
      "Kaggle API authentication successful!\n"
     ]
    }
   ],
   "source": [
    "from kaggle.api.kaggle_api_extended import KaggleApi\n",
    "\n",
    "api = KaggleApi()\n",
    "api.authenticate()\n",
    "\n",
    "print(\"Kaggle API authentication successful!\")\n"
   ]
  },
  {
   "cell_type": "code",
   "execution_count": 13,
   "id": "2f30a5f2",
   "metadata": {},
   "outputs": [
    {
     "name": "stdout",
     "output_type": "stream",
     "text": [
      "https://www.kaggle.com/competitions/ai-mathematical-olympiad-progress-prize-2: AI Mathematical Olympiad - Progress Prize 2\n",
      "https://www.kaggle.com/competitions/konwinski-prize: Konwinski Prize\n",
      "https://www.kaggle.com/competitions/czii-cryo-et-object-identification: CZII - CryoET Object Identification\n",
      "https://www.kaggle.com/competitions/equity-post-HCT-survival-predictions: CIBMTR - Equity in post-HCT Survival Predictions\n",
      "https://www.kaggle.com/competitions/santa-2024: Santa 2024 - The Perplexity Permutation Puzzle\n"
     ]
    }
   ],
   "source": [
    "competitions = api.competitions_list()\n",
    "for comp in competitions[:5]:  # Show first 5 competitions\n",
    "    print(f\"{comp.ref}: {comp.title}\")\n"
   ]
  },
  {
   "cell_type": "code",
   "execution_count": 7,
   "id": "ac10e7ff",
   "metadata": {},
   "outputs": [],
   "source": [
    "import random\n",
    "import numpy as np\n",
    "import matplotlib.pyplot as plt\n",
    "import plotly.express as px\n",
    "import os\n",
    "import kaggle\n",
    "import plotly.io as pio\n",
    "pio.templates.default = \"plotly_white\"\n",
    "import pandas as pd\n",
    "from pathlib import Path\n",
    "from tqdm.autonotebook import tqdm\n",
    "# %load_ext autoreload\n",
    "# %autoreload 2\n",
    "np.random.seed()\n",
    "tqdm.pandas()"
   ]
  },
  {
   "cell_type": "markdown",
   "id": "e3efe5ed",
   "metadata": {},
   "source": [
    "# Reading data to pandas dataframe\n",
    "Let's use London Smart Meters dataset from Kaggle for the current exercise. The source of the data is from London Data Store and Jean-Michel D. has augumented the dataset with a few more details and packaged it as a Kaggle Dataset.\n",
    "\n",
    "# About the Dataset\n",
    "London Data Store, free and open data-sharing portal, provided this dataset, which was collected and enriched by Jean-Michel D and uploaded on Kaggle @ https://www.kaggle.com/jeanmidev/smart-meters-in-london. The dataset has energy consumption readings for a sample of 5,567 London Households that took part in the UK Power Networks led Low Carbon London project between November 2011 and February 2014. Readings were taken at half hourly intervals. Some metadata about the households are also available as part of the dataset.\n",
    "\n",
    "# Data Wrangling\n",
    "The Kaggle dataset also has the time series data preprocessed on a daily level and combined all the separate files, etc. But let’s ignore those files and start with the raw files, which is in the hhblock_dataset folder."
   ]
  },
  {
   "cell_type": "code",
   "execution_count": 19,
   "id": "f515403c",
   "metadata": {},
   "outputs": [],
   "source": [
    "os.makedirs(\"imgs/chapter_2\", exist_ok=True)\n",
    "source_data = Path(\"data/london_smart_meters/\")\n",
    "block_data_path = source_data/\"hhblock_dataset\"/\"hhblock_dataset\""
   ]
  },
  {
   "cell_type": "code",
   "execution_count": 21,
   "id": "afbca0f8",
   "metadata": {},
   "outputs": [
    {
     "name": "stdout",
     "output_type": "stream",
     "text": [
      "Expected path: data/london_smart_meters/hhblock_dataset/hhblock_dataset\n",
      "Does path exist? False\n",
      "Is it a directory? False\n",
      "Available folders in 'data/london_smart_meters/': ['uk_bank_holidays.csv', 'weather_hourly_darksky.csv', 'smart_meters.zip']\n"
     ]
    }
   ],
   "source": [
    "import os\n",
    "\n",
    "print(f\"Expected path: {block_data_path}\")\n",
    "print(f\"Does path exist? {block_data_path.exists()}\")\n",
    "print(f\"Is it a directory? {block_data_path.is_dir()}\")\n",
    "print(\"Available folders in 'data/london_smart_meters/':\", os.listdir(\"data/london_smart_meters\") if os.path.exists(\"data/london_smart_meters\") else \"Folder not found\")\n"
   ]
  },
  {
   "cell_type": "code",
   "execution_count": 65,
   "id": "13d9bdec",
   "metadata": {
    "scrolled": true
   },
   "outputs": [
    {
     "name": "stdout",
     "output_type": "stream",
     "text": [
      "/Users/tomaszosuchowski/data/london_smart_meters.zip\n"
     ]
    }
   ],
   "source": [
    "import os\n",
    "print(os.path.abspath(\"data/london_smart_meters.zip\"))\n"
   ]
  },
  {
   "cell_type": "code",
   "execution_count": 66,
   "id": "6e21c7aa",
   "metadata": {},
   "outputs": [
    {
     "name": "stdout",
     "output_type": "stream",
     "text": [
      "True\n"
     ]
    }
   ],
   "source": [
    "import os\n",
    "print(os.path.exists(\"/Users/tomaszosuchowski/data/london_smart_meters/smart_meters.zip\"))\n"
   ]
  },
  {
   "cell_type": "code",
   "execution_count": 70,
   "id": "9e1d0eaa",
   "metadata": {},
   "outputs": [],
   "source": [
    "block_data_path.mkdir(parents=True, exist_ok=True)\n",
    "\n"
   ]
  },
  {
   "cell_type": "code",
   "execution_count": 73,
   "id": "1d8709aa",
   "metadata": {},
   "outputs": [
    {
     "name": "stdout",
     "output_type": "stream",
     "text": [
      "True\n",
      "True\n"
     ]
    }
   ],
   "source": [
    "print(block_data_path.exists())  # Should now return True\n",
    "print(block_data_path.is_dir())  # Should return True\n",
    "assert block_data_path.is_dir(), \"Please check if the dataset has been downloaded properly. Refer to the Preface of the book or the Readme in the repo for expected data\"\n"
   ]
  },
  {
   "cell_type": "code",
   "execution_count": 76,
   "id": "96bb1ad3",
   "metadata": {},
   "outputs": [],
   "source": [
    "assert block_data_path.is_dir(), \"Please check if the dataset has been downloaded properly. Refer to the Preface of the book or the Readme in the repo for expected data\""
   ]
  },
  {
   "cell_type": "markdown",
   "id": "8f593d93",
   "metadata": {},
   "source": [
    "# Converting the half hourly block level dataset into a time series data\n",
    "Let's pick one block and see how we can transform the data."
   ]
  },
  {
   "cell_type": "code",
   "execution_count": 98,
   "id": "9797f8f8",
   "metadata": {},
   "outputs": [
    {
     "name": "stdout",
     "output_type": "stream",
     "text": [
      "/Users/tomaszosuchowski/data/london_smart_meters/hhblock_dataset/hhblock_dataset/block_0.csv\n",
      "False\n"
     ]
    }
   ],
   "source": [
    "print(block_data_path / \"block_0.csv\")  # Print the full path\n",
    "print((block_data_path / \"block_0.csv\").exists())  # Check if the file exists\n"
   ]
  },
  {
   "cell_type": "code",
   "execution_count": 92,
   "id": "3ff3684f",
   "metadata": {},
   "outputs": [
    {
     "name": "stdout",
     "output_type": "stream",
     "text": [
      "[]\n"
     ]
    }
   ],
   "source": [
    "print(os.listdir(block_data_path))\n"
   ]
  },
  {
   "cell_type": "code",
   "execution_count": 96,
   "id": "be0b1630",
   "metadata": {},
   "outputs": [
    {
     "name": "stdout",
     "output_type": "stream",
     "text": [
      "True\n"
     ]
    }
   ],
   "source": [
    "import os\n",
    "print(os.path.exists(block_data_path))  # Should return True if the path exists\n"
   ]
  },
  {
   "cell_type": "code",
   "execution_count": 100,
   "id": "63135f72",
   "metadata": {},
   "outputs": [
    {
     "name": "stdout",
     "output_type": "stream",
     "text": [
      "True\n",
      "File exists: False\n"
     ]
    }
   ],
   "source": [
    "import os\n",
    "print(os.access(block_data_path, os.R_OK))  # Check read permission\n",
    "\n",
    "\n",
    "file_path = os.path.join(block_data_path, \"block_0.csv\")\n",
    "print(\"File exists:\", os.path.exists(file_path))\n"
   ]
  },
  {
   "cell_type": "code",
   "execution_count": 104,
   "id": "cbdc85eb",
   "metadata": {},
   "outputs": [],
   "source": [
    "os.makedirs(\"imgs/chapter_2\", exist_ok=True)\n",
    "source_data = Path(\"data/london_smart_meters/\")\n",
    "block_data_path = source_data/\"hhblock_dataset\"/\"hhblock_dataset\""
   ]
  },
  {
   "cell_type": "code",
   "execution_count": 112,
   "id": "a75690d6",
   "metadata": {},
   "outputs": [],
   "source": [
    "assert block_data_path.is_dir(), \"Please check if the dataset has been downloaded properly.\""
   ]
  },
  {
   "cell_type": "markdown",
   "id": "6c430d1d",
   "metadata": {},
   "source": [
    "# Converting the half hourly block level dataset into a time series data\n",
    "Let's pick one block and see how we can transform the data."
   ]
  },
  {
   "cell_type": "code",
   "execution_count": 207,
   "id": "a5b4ad6b",
   "metadata": {},
   "outputs": [
    {
     "name": "stdout",
     "output_type": "stream",
     "text": [
      "       LCLid        day   hh_0   hh_1   hh_2   hh_3   hh_4   hh_5   hh_6  \\\n",
      "0  MAC000002 2012-10-13  0.263  0.269  0.275  0.256  0.211  0.136  0.161   \n",
      "1  MAC000002 2012-10-14  0.262  0.166  0.226  0.088  0.126  0.082  0.123   \n",
      "2  MAC000002 2012-10-15  0.192  0.097  0.141  0.083  0.132  0.070  0.130   \n",
      "3  MAC000002 2012-10-16  0.237  0.237  0.193  0.118  0.098  0.107  0.094   \n",
      "4  MAC000002 2012-10-17  0.157  0.211  0.155  0.169  0.101  0.117  0.084   \n",
      "\n",
      "    hh_7  ...  hh_38  hh_39  hh_40  hh_41  hh_42  hh_43  hh_44  hh_45  hh_46  \\\n",
      "0  0.119  ...  0.918  0.278  0.267  0.239  0.230  0.233  0.235  0.188  0.259   \n",
      "1  0.083  ...  1.075  0.956  0.821  0.745  0.712  0.511  0.231  0.210  0.278   \n",
      "2  0.074  ...  1.164  0.249  0.225  0.258  0.260  0.334  0.299  0.236  0.241   \n",
      "3  0.109  ...  0.966  0.172  0.192  0.228  0.203  0.211  0.188  0.213  0.157   \n",
      "4  0.118  ...  0.223  0.075  0.230  0.208  0.265  0.377  0.327  0.277  0.288   \n",
      "\n",
      "   hh_47  \n",
      "0  0.250  \n",
      "1  0.159  \n",
      "2  0.237  \n",
      "3  0.202  \n",
      "4  0.256  \n",
      "\n",
      "[5 rows x 50 columns]\n"
     ]
    }
   ],
   "source": [
    "import pandas as pd\n",
    "from pathlib import Path\n",
    "\n",
    "# Define path\n",
    "block_data_path = Path(\"data/london_smart_meters/hhblock_dataset\")\n",
    "\n",
    "# Check if the file exists before loading\n",
    "block_file = block_data_path / \"block_0.csv\"\n",
    "\n",
    "if block_file.exists():\n",
    "    block_1 = pd.read_csv(block_file, parse_dates=False)\n",
    "    block_1['day'] = pd.to_datetime(block_1['day'], yearfirst=True)\n",
    "    print(block_1.head())\n",
    "else:\n",
    "    print(f\"⚠️ Error: File not found - {block_file}\")\n",
    "    print(\"📌 Make sure you've downloaded and extracted the dataset.\")\n"
   ]
  },
  {
   "cell_type": "code",
   "execution_count": 117,
   "id": "3a785973",
   "metadata": {},
   "outputs": [
    {
     "name": "stdout",
     "output_type": "stream",
     "text": [
      "total 48\r\n",
      "drwxr-xr-x    7 tomaszosuchowski  staff    224 Jan 30 16:03 \u001b[34m.\u001b[m\u001b[m/\r\n",
      "drwxr-xr-x  440 tomaszosuchowski  staff  14080 Jan 29 18:11 \u001b[34m..\u001b[m\u001b[m/\r\n",
      "-rw-r--r--@   1 tomaszosuchowski  staff   6148 Jan 30 16:03 .DS_Store\r\n",
      "drwxr-xr-x    4 tomaszosuchowski  staff    128 Jan 30 16:03 \u001b[34mhhblock_dataset\u001b[m\u001b[m/\r\n",
      "-rw-r--r--    1 tomaszosuchowski  staff   4918 Jan 29 18:12 smart_meters.zip\r\n",
      "-rw-r--r--    1 tomaszosuchowski  staff   1256 Jan 29 18:12 uk_bank_holidays.csv\r\n",
      "-rw-r--r--    1 tomaszosuchowski  staff   1256 Jan 29 18:12 weather_hourly_darksky.csv\r\n"
     ]
    }
   ],
   "source": [
    "ls -la data/london_smart_meters/\n"
   ]
  },
  {
   "cell_type": "code",
   "execution_count": 119,
   "id": "2816ee92",
   "metadata": {},
   "outputs": [
    {
     "name": "stdout",
     "output_type": "stream",
     "text": [
      "Found: data/london_smart_meters/uk_bank_holidays.csv\n",
      "Found: data/london_smart_meters/weather_hourly_darksky.csv\n"
     ]
    }
   ],
   "source": [
    "import os\n",
    "\n",
    "search_path = \"data/london_smart_meters/\"\n",
    "for root, dirs, files in os.walk(search_path):\n",
    "    for file in files:\n",
    "        if file.endswith(\".csv\"):\n",
    "            print(f\"Found: {os.path.join(root, file)}\")\n"
   ]
  },
  {
   "cell_type": "code",
   "execution_count": 123,
   "id": "b0c24a88",
   "metadata": {},
   "outputs": [
    {
     "name": "stdout",
     "output_type": "stream",
     "text": [
      "       LCLid        day   hh_0   hh_1   hh_2   hh_3   hh_4   hh_5   hh_6  \\\n",
      "0  MAC000002 2012-10-13  0.263  0.269  0.275  0.256  0.211  0.136  0.161   \n",
      "1  MAC000002 2012-10-14  0.262  0.166  0.226  0.088  0.126  0.082  0.123   \n",
      "2  MAC000002 2012-10-15  0.192  0.097  0.141  0.083  0.132  0.070  0.130   \n",
      "3  MAC000002 2012-10-16  0.237  0.237  0.193  0.118  0.098  0.107  0.094   \n",
      "4  MAC000002 2012-10-17  0.157  0.211  0.155  0.169  0.101  0.117  0.084   \n",
      "\n",
      "    hh_7  ...  hh_38  hh_39  hh_40  hh_41  hh_42  hh_43  hh_44  hh_45  hh_46  \\\n",
      "0  0.119  ...  0.918  0.278  0.267  0.239  0.230  0.233  0.235  0.188  0.259   \n",
      "1  0.083  ...  1.075  0.956  0.821  0.745  0.712  0.511  0.231  0.210  0.278   \n",
      "2  0.074  ...  1.164  0.249  0.225  0.258  0.260  0.334  0.299  0.236  0.241   \n",
      "3  0.109  ...  0.966  0.172  0.192  0.228  0.203  0.211  0.188  0.213  0.157   \n",
      "4  0.118  ...  0.223  0.075  0.230  0.208  0.265  0.377  0.327  0.277  0.288   \n",
      "\n",
      "   hh_47  \n",
      "0  0.250  \n",
      "1  0.159  \n",
      "2  0.237  \n",
      "3  0.202  \n",
      "4  0.256  \n",
      "\n",
      "[5 rows x 50 columns]\n"
     ]
    }
   ],
   "source": [
    "import pandas as pd\n",
    "from pathlib import Path\n",
    "\n",
    "# Define the path to the dataset\n",
    "block_data_path = Path(\"data/london_smart_meters/hhblock_dataset\")\n",
    "block_file = block_data_path / \"block_0.csv\"\n",
    "\n",
    "# Load the CSV file and process it\n",
    "if block_file.exists():\n",
    "    block_1 = pd.read_csv(block_file, parse_dates=False)\n",
    "    # Convert the 'day' column to datetime if it exists\n",
    "    if 'day' in block_1.columns:\n",
    "        block_1['day'] = pd.to_datetime(block_1['day'], yearfirst=True)\n",
    "    print(block_1.head())\n",
    "else:\n",
    "    print(f\"⚠️ File not found: {block_file}\")\n",
    "\n"
   ]
  },
  {
   "cell_type": "code",
   "execution_count": 126,
   "id": "fdc5d232",
   "metadata": {},
   "outputs": [
    {
     "data": {
      "text/plain": [
       "LCLid\n",
       "MAC005492   2014-02-27\n",
       "MAC003740   2014-02-27\n",
       "MAC003863   2014-02-27\n",
       "MAC003463   2013-08-11\n",
       "MAC004034   2013-09-18\n",
       "Name: day, dtype: datetime64[ns]"
      ]
     },
     "execution_count": 126,
     "metadata": {},
     "output_type": "execute_result"
    }
   ],
   "source": [
    "#Check End Dates of all time series\n",
    "block_1.groupby(\"LCLid\")['day'].max().sample(5)"
   ]
  },
  {
   "cell_type": "code",
   "execution_count": 131,
   "id": "f90ad08e",
   "metadata": {},
   "outputs": [
    {
     "data": {
      "application/vnd.jupyter.widget-view+json": {
       "model_id": "b548a896124845bfb5bed2cb87e6447c",
       "version_major": 2,
       "version_minor": 0
      },
      "text/plain": [
       "0it [00:00, ?it/s]"
      ]
     },
     "metadata": {},
     "output_type": "display_data"
    },
    {
     "name": "stdout",
     "output_type": "stream",
     "text": [
      "Max Date across all blocks: 2014-02-27 00:00:00\n"
     ]
    }
   ],
   "source": [
    "max_date = None\n",
    "for f in tqdm(block_data_path.glob(\"*.csv\")):\n",
    "    df = pd.read_csv(f, parse_dates=False)\n",
    "    df['day'] = pd.to_datetime(df['day'], yearfirst=True)\n",
    "    if max_date is None:\n",
    "        max_date = df['day'].max()\n",
    "    else:\n",
    "        if df['day'].max()>max_date:\n",
    "            max_date = df['day'].max()\n",
    "print(f\"Max Date across all blocks: {max_date}\")\n",
    "del df"
   ]
  },
  {
   "cell_type": "code",
   "execution_count": 151,
   "id": "c6c802e4",
   "metadata": {},
   "outputs": [
    {
     "name": "stdout",
     "output_type": "stream",
     "text": [
      "       LCLid         day   hh_0   hh_1   hh_2   hh_3   hh_4   hh_5   hh_6  \\\n",
      "0  MAC000002  2012-10-13  0.263  0.269  0.275  0.256  0.211  0.136  0.161   \n",
      "1  MAC000002  2012-10-14  0.262  0.166  0.226  0.088  0.126  0.082  0.123   \n",
      "2  MAC000002  2012-10-15  0.192  0.097  0.141  0.083  0.132  0.070  0.130   \n",
      "3  MAC000002  2012-10-16  0.237  0.237  0.193  0.118  0.098  0.107  0.094   \n",
      "4  MAC000002  2012-10-17  0.157  0.211  0.155  0.169  0.101  0.117  0.084   \n",
      "\n",
      "    hh_7  ...  hh_38  hh_39  hh_40  hh_41  hh_42  hh_43  hh_44  hh_45  hh_46  \\\n",
      "0  0.119  ...  0.918  0.278  0.267  0.239  0.230  0.233  0.235  0.188  0.259   \n",
      "1  0.083  ...  1.075  0.956  0.821  0.745  0.712  0.511  0.231  0.210  0.278   \n",
      "2  0.074  ...  1.164  0.249  0.225  0.258  0.260  0.334  0.299  0.236  0.241   \n",
      "3  0.109  ...  0.966  0.172  0.192  0.228  0.203  0.211  0.188  0.213  0.157   \n",
      "4  0.118  ...  0.223  0.075  0.230  0.208  0.265  0.377  0.327  0.277  0.288   \n",
      "\n",
      "   hh_47  \n",
      "0  0.250  \n",
      "1  0.159  \n",
      "2  0.237  \n",
      "3  0.202  \n",
      "4  0.256  \n",
      "\n",
      "[5 rows x 50 columns]\n"
     ]
    }
   ],
   "source": [
    "import pandas as pd\n",
    "\n",
    "# Load the CSV file again\n",
    "block_1 = pd.read_csv(\"data/london_smart_meters/hhblock_dataset/block_0.csv\", parse_dates=False)\n",
    "\n",
    "# Print the first few rows to verify\n",
    "print(block_1.head())"
   ]
  },
  {
   "cell_type": "code",
   "execution_count": 153,
   "id": "f1f76b30",
   "metadata": {},
   "outputs": [
    {
     "name": "stdout",
     "output_type": "stream",
     "text": [
      "       LCLid         day hour_block  energy_consumption  offset\n",
      "0  MAC000002  2012-10-13       hh_0               0.263       0\n",
      "1  MAC000002  2012-10-13       hh_1               0.269       1\n",
      "2  MAC000002  2012-10-13       hh_2               0.275       2\n",
      "3  MAC000002  2012-10-13       hh_3               0.256       3\n",
      "4  MAC000002  2012-10-13       hh_4               0.211       4\n"
     ]
    }
   ],
   "source": [
    "# Identify the hourly columns\n",
    "hour_columns = [col for col in block_1.columns if col.startswith(\"hh_\")]\n",
    "\n",
    "# Reshape the DataFrame using `stack()`\n",
    "reshaped_block_1 = (\n",
    "    block_1.set_index(['LCLid', 'day'])[hour_columns]  # Set LCLid and day as index\n",
    "    .stack()  # Stack only the hourly columns\n",
    "    .reset_index()  # Reset index to flatten\n",
    "    .rename(columns={\"level_2\": \"hour_block\", 0: \"energy_consumption\"})  # Rename columns\n",
    ")\n",
    "\n",
    "# Convert 'hour_block' to numeric offsets (hour numbers)\n",
    "reshaped_block_1['offset'] = reshaped_block_1['hour_block'].str.replace(\"hh_\", \"\", regex=False).astype(int)\n",
    "\n",
    "# Print the first few rows to verify\n",
    "print(reshaped_block_1.head())\n"
   ]
  },
  {
   "cell_type": "code",
   "execution_count": 159,
   "id": "f38ecd1d",
   "metadata": {},
   "outputs": [
    {
     "name": "stdout",
     "output_type": "stream",
     "text": [
      "Index(['LCLid', 'day', 'hh_0', 'hh_1', 'hh_2', 'hh_3', 'hh_4', 'hh_5', 'hh_6',\n",
      "       'hh_7', 'hh_8', 'hh_9', 'hh_10', 'hh_11', 'hh_12', 'hh_13', 'hh_14',\n",
      "       'hh_15', 'hh_16', 'hh_17', 'hh_18', 'hh_19', 'hh_20', 'hh_21', 'hh_22',\n",
      "       'hh_23', 'hh_24', 'hh_25', 'hh_26', 'hh_27', 'hh_28', 'hh_29', 'hh_30',\n",
      "       'hh_31', 'hh_32', 'hh_33', 'hh_34', 'hh_35', 'hh_36', 'hh_37', 'hh_38',\n",
      "       'hh_39', 'hh_40', 'hh_41', 'hh_42', 'hh_43', 'hh_44', 'hh_45', 'hh_46',\n",
      "       'hh_47'],\n",
      "      dtype='object')\n"
     ]
    }
   ],
   "source": [
    "print(block_1.columns)\n"
   ]
  },
  {
   "cell_type": "code",
   "execution_count": 162,
   "id": "c6474595",
   "metadata": {},
   "outputs": [
    {
     "name": "stdout",
     "output_type": "stream",
     "text": [
      "       LCLid         day hour_block  energy_consumption  offset\n",
      "0  MAC000002  2012-10-13       hh_0               0.263       0\n",
      "1  MAC000002  2012-10-13       hh_1               0.269       1\n",
      "2  MAC000002  2012-10-13       hh_2               0.275       2\n",
      "3  MAC000002  2012-10-13       hh_3               0.256       3\n",
      "4  MAC000002  2012-10-13       hh_4               0.211       4\n"
     ]
    }
   ],
   "source": [
    "# Identify the hourly columns\n",
    "hour_columns = [col for col in block_1.columns if col.startswith(\"hh_\")]\n",
    "\n",
    "# Reshape the DataFrame to long format\n",
    "reshaped_block_1 = (\n",
    "    block_1.set_index(['LCLid', 'day'])[hour_columns]\n",
    "    .stack()\n",
    "    .reset_index()\n",
    "    .rename(columns={\"level_2\": \"hour_block\", 0: \"energy_consumption\"})\n",
    ")\n",
    "\n",
    "# Convert 'hour_block' to numerical hour offsets\n",
    "reshaped_block_1['offset'] = reshaped_block_1['hour_block'].str.replace(\"hh_\", \"\", regex=False).astype(int)\n",
    "\n",
    "# Print the first few rows\n",
    "print(reshaped_block_1.head())\n"
   ]
  },
  {
   "cell_type": "code",
   "execution_count": 165,
   "id": "b32f4b64",
   "metadata": {},
   "outputs": [
    {
     "name": "stdout",
     "output_type": "stream",
     "text": [
      "Index(['LCLid', 'day', 'hour_block', 'energy_consumption', 'offset'], dtype='object')\n"
     ]
    }
   ],
   "source": [
    "print(reshaped_block_1.columns)\n"
   ]
  },
  {
   "cell_type": "code",
   "execution_count": 168,
   "id": "c58ecc58",
   "metadata": {},
   "outputs": [
    {
     "name": "stdout",
     "output_type": "stream",
     "text": [
      "['hh_0' 'hh_1' 'hh_2' 'hh_3' 'hh_4' 'hh_5' 'hh_6' 'hh_7' 'hh_8' 'hh_9'\n",
      " 'hh_10' 'hh_11' 'hh_12' 'hh_13' 'hh_14' 'hh_15' 'hh_16' 'hh_17' 'hh_18'\n",
      " 'hh_19' 'hh_20' 'hh_21' 'hh_22' 'hh_23' 'hh_24' 'hh_25' 'hh_26' 'hh_27'\n",
      " 'hh_28' 'hh_29' 'hh_30' 'hh_31' 'hh_32' 'hh_33' 'hh_34' 'hh_35' 'hh_36'\n",
      " 'hh_37' 'hh_38' 'hh_39' 'hh_40' 'hh_41' 'hh_42' 'hh_43' 'hh_44' 'hh_45'\n",
      " 'hh_46' 'hh_47']\n"
     ]
    }
   ],
   "source": [
    "print(reshaped_block_1['hour_block'].unique())\n"
   ]
  },
  {
   "cell_type": "code",
   "execution_count": 175,
   "id": "9bee3ad1",
   "metadata": {},
   "outputs": [],
   "source": [
    "reshaped_block_1['day'] = pd.to_datetime(reshaped_block_1['day'], format=\"%Y-%m-%d\")\n",
    "\n"
   ]
  },
  {
   "cell_type": "code",
   "execution_count": 181,
   "id": "dfb31353",
   "metadata": {},
   "outputs": [
    {
     "name": "stdout",
     "output_type": "stream",
     "text": [
      "       LCLid start_timestamp frequency  \\\n",
      "0  MAC000002      2012-10-13     30min   \n",
      "1  MAC000246      2011-12-04     30min   \n",
      "2  MAC000450      2012-03-23     30min   \n",
      "3  MAC001074      2012-05-09     30min   \n",
      "4  MAC003223      2012-09-18     30min   \n",
      "\n",
      "                                  energy_consumption  series_length  \n",
      "0  [0.263, 0.2689999999999999, 0.275, 0.256, 0.21...          24144  \n",
      "1  [0.175, 0.098, 0.144, 0.065, 0.071, 0.037, 0.0...          39216  \n",
      "2  [1.337, 1.426, 0.996, 0.971, 0.994, 0.952, 0.8...          33936  \n",
      "3  [0.18, 0.086, 0.106, 0.173, 0.146, 0.223, 0.21...          31680  \n",
      "4  [0.076, 0.079, 0.123, 0.109, 0.051, 0.069, 0.0...          25344  \n"
     ]
    }
   ],
   "source": [
    "print(block1_compact.head())\n"
   ]
  },
  {
   "cell_type": "code",
   "execution_count": 185,
   "id": "f19b338f",
   "metadata": {},
   "outputs": [
    {
     "data": {
      "image/png": "[encoded data removed]",
      "text/plain": [
       "<Figure size 1200x500 with 1 Axes>"
      ]
     },
     "metadata": {},
     "output_type": "display_data"
    }
   ],
   "source": [
    "# Select a random customer\n",
    "random_customer = random.choice(block1_compact[\"LCLid\"].unique())\n",
    "\n",
    "# Extract the customer's energy consumption and timestamps\n",
    "customer_data = block1_compact[block1_compact[\"LCLid\"] == random_customer]\n",
    "timestamps = pd.date_range(start=customer_data[\"start_timestamp\"].values[0], periods=customer_data[\"series_length\"].values[0], freq=\"30min\")\n",
    "energy_values = np.array(customer_data[\"energy_consumption\"].values[0])\n",
    "\n",
    "# Plot\n",
    "plt.figure(figsize=(12, 5))\n",
    "plt.plot(timestamps, energy_values, label=f\"Energy Usage for {random_customer}\", color=\"blue\")\n",
    "plt.xlabel(\"Time\")\n",
    "plt.ylabel(\"Energy Consumption (kWh)\")\n",
    "plt.title(f\"Energy Consumption Over Time - Customer {random_customer}\")\n",
    "plt.legend()\n",
    "plt.grid(True)\n",
    "plt.show()\n"
   ]
  },
  {
   "cell_type": "code",
   "execution_count": 187,
   "id": "772027d5",
   "metadata": {},
   "outputs": [
    {
     "data": {
      "image/png": "[encoded data removed]",
      "text/plain": [
       "<Figure size 1000x500 with 1 Axes>"
      ]
     },
     "metadata": {},
     "output_type": "display_data"
    }
   ],
   "source": [
    "# Convert energy consumption series into a NumPy array for easy averaging\n",
    "hourly_consumption = np.zeros(48)  # Since we have 48 half-hour slots\n",
    "counts = np.zeros(48)\n",
    "\n",
    "for i, row in block1_compact.iterrows():\n",
    "    energy_values = np.array(row[\"energy_consumption\"])\n",
    "    hourly_consumption += energy_values[:48]  # First 48 values (1 day)\n",
    "    counts += 1\n",
    "\n",
    "# Compute the average energy consumption per hour\n",
    "hourly_avg = hourly_consumption / counts\n",
    "\n",
    "# Plot\n",
    "plt.figure(figsize=(10, 5))\n",
    "plt.bar(range(48), hourly_avg, color=\"green\")\n",
    "plt.xlabel(\"Hour of the Day (Half-hour slots)\")\n",
    "plt.ylabel(\"Average Energy Consumption (kWh)\")\n",
    "plt.title(\"Average Energy Consumption Per Hour of the Day\")\n",
    "plt.xticks(range(0, 48, 2), labels=[f\"{h//2}:30\" if h % 2 else f\"{h//2}:00\" for h in range(0, 48, 2)], rotation=45)\n",
    "plt.grid(axis=\"y\")\n",
    "plt.show()\n"
   ]
  },
  {
   "cell_type": "code",
   "execution_count": 189,
   "id": "187c1490",
   "metadata": {},
   "outputs": [
    {
     "data": {
      "image/png": "[encoded data removed]",
      "text/plain": [
       "<Figure size 1200x600 with 1 Axes>"
      ]
     },
     "metadata": {},
     "output_type": "display_data"
    }
   ],
   "source": [
    "# Select 5 random customers\n",
    "random_customers = random.sample(list(block1_compact[\"LCLid\"].unique()), 5)\n",
    "\n",
    "plt.figure(figsize=(12, 6))\n",
    "\n",
    "for customer in random_customers:\n",
    "    customer_data = block1_compact[block1_compact[\"LCLid\"] == customer]\n",
    "    timestamps = pd.date_range(start=customer_data[\"start_timestamp\"].values[0], periods=customer_data[\"series_length\"].values[0], freq=\"30min\")\n",
    "    energy_values = np.array(customer_data[\"energy_consumption\"].values[0])\n",
    "\n",
    "    # Plot each customer's energy usage\n",
    "    plt.plot(timestamps[:500], energy_values[:500], label=f\"Customer {customer}\")\n",
    "\n",
    "plt.xlabel(\"Time\")\n",
    "plt.ylabel(\"Energy Consumption (kWh)\")\n",
    "plt.title(\"Comparison of Energy Usage Between Customers\")\n",
    "plt.legend()\n",
    "plt.grid(True)\n",
    "plt.show()\n"
   ]
  },
  {
   "cell_type": "code",
   "execution_count": 191,
   "id": "6d53d45a",
   "metadata": {},
   "outputs": [
    {
     "data": {
      "image/png": "[encoded data removed]",
      "text/plain": [
       "<Figure size 1200x600 with 1 Axes>"
      ]
     },
     "metadata": {},
     "output_type": "display_data"
    }
   ],
   "source": [
    "from mpl_toolkits.mplot3d import Axes3D\n",
    "\n",
    "# Select a random customer\n",
    "random_customer = random.choice(block1_compact[\"LCLid\"].unique())\n",
    "\n",
    "# Extract customer data\n",
    "customer_data = block1_compact[block1_compact[\"LCLid\"] == random_customer]\n",
    "timestamps = pd.date_range(start=customer_data[\"start_timestamp\"].values[0], periods=customer_data[\"series_length\"].values[0], freq=\"30min\")\n",
    "energy_values = np.array(customer_data[\"energy_consumption\"].values[0])\n",
    "\n",
    "# Convert timestamps to numerical values\n",
    "time_numeric = np.arange(len(timestamps))\n",
    "\n",
    "# Create 3D plot\n",
    "fig = plt.figure(figsize=(12, 6))\n",
    "ax = fig.add_subplot(111, projection=\"3d\")\n",
    "\n",
    "ax.plot(time_numeric[:500], energy_values[:500], zs=0, zdir=\"z\", label=\"Energy Consumption\", color=\"blue\")\n",
    "\n",
    "ax.set_xlabel(\"Time Step\")\n",
    "ax.set_ylabel(\"Energy Consumption (kWh)\")\n",
    "ax.set_zlabel(\"Index\")\n",
    "ax.set_title(f\"3D Energy Consumption Over Time - Customer {random_customer}\")\n",
    "\n",
    "plt.show()\n"
   ]
  },
  {
   "cell_type": "code",
   "execution_count": 196,
   "id": "793cd3a1",
   "metadata": {},
   "outputs": [
    {
     "data": {
      "image/png": "[encoded data removed]",
      "text/plain": [
       "<Figure size 1000x600 with 2 Axes>"
      ]
     },
     "metadata": {},
     "output_type": "display_data"
    }
   ],
   "source": [
    "import seaborn as sns\n",
    "\n",
    "# Create a matrix of hourly energy consumption averages\n",
    "hourly_avg_matrix = np.zeros((7, 48))  # 7 days, 48 half-hour slots\n",
    "\n",
    "# Iterate over the first 7 customers\n",
    "for i, row in block1_compact.iloc[:7].iterrows():\n",
    "    energy_values = np.array(row[\"energy_consumption\"])[:48]\n",
    "    hourly_avg_matrix[i, :] = energy_values\n",
    "\n",
    "# Plot the heatmap\n",
    "plt.figure(figsize=(10, 6))\n",
    "sns.heatmap(hourly_avg_matrix, cmap=\"coolwarm\", xticklabels=range(48), yticklabels=[\"Mon\", \"Tue\", \"Wed\", \"Thu\", \"Fri\", \"Sat\", \"Sun\"])\n",
    "plt.xlabel(\"Hour of the Day (Half-hour slots)\")\n",
    "plt.ylabel(\"Day of the Week\")\n",
    "plt.title(\"Heatmap of Energy Usage Per Hour & Day\")\n",
    "plt.show()\n"
   ]
  },
  {
   "cell_type": "code",
   "execution_count": 200,
   "id": "775d9ecb",
   "metadata": {},
   "outputs": [
    {
     "data": {
      "image/png": "[encoded data removed]",
      "text/plain": [
       "<Figure size 1000x500 with 1 Axes>"
      ]
     },
     "metadata": {},
     "output_type": "display_data"
    }
   ],
   "source": [
    "plt.figure(figsize=(10, 5))\n",
    "all_energy_values = np.concatenate(block1_compact[\"energy_consumption\"].values)\n",
    "plt.hist(all_energy_values, bins=50, color=\"purple\", alpha=0.7)\n",
    "\n",
    "plt.xlabel(\"Energy Consumption (kWh)\")\n",
    "plt.ylabel(\"Frequency\")\n",
    "plt.title(\"Histogram of Energy Consumption\")\n",
    "plt.grid(True)\n",
    "plt.show()\n"
   ]
  },
  {
   "cell_type": "markdown",
   "id": "829a8339",
   "metadata": {},
   "source": [
    "# Compact Form"
   ]
  },
  {
   "cell_type": "code",
   "execution_count": 202,
   "id": "d454bdea",
   "metadata": {},
   "outputs": [],
   "source": [
    "def preprocess_compact(x):\n",
    "    start_date = x['day'].min()\n",
    "    name = x['LCLid'].unique()[0]\n",
    "    ### Fill missing dates with NaN ###\n",
    "    # Create a date range from  min to max\n",
    "    dr = pd.date_range(start=x['day'].min(), end=max_date, freq=\"1D\")\n",
    "    # Add hh_0 to hh_47 to columns and with some unstack magic recreating date-hh_x combinations\n",
    "    dr = pd.DataFrame(columns=[f\"hh_{i}\" for i in range(48)], index=dr).unstack().reset_index()\n",
    "    # renaming the columns\n",
    "    dr.columns = [\"hour_block\", \"day\", \"_\"]\n",
    "    # left merging the dataframe to the standard dataframe\n",
    "    # now the missing values will be left as NaN\n",
    "    dr = dr.merge(x, on=['hour_block','day'], how='left')\n",
    "    # sorting the rows\n",
    "    dr.sort_values(['day',\"offset\"], inplace=True)\n",
    "    # extracting the timeseries array\n",
    "    ts = dr['energy_consumption'].values\n",
    "    len_ts = len(ts)\n",
    "    return start_date, name, ts, len_ts"
   ]
  },
  {
   "cell_type": "code",
   "execution_count": 208,
   "id": "7f768cf7",
   "metadata": {},
   "outputs": [
    {
     "name": "stdout",
     "output_type": "stream",
     "text": [
      "block_1 columns: Index(['LCLid', 'day', 'hh_0', 'hh_1', 'hh_2', 'hh_3', 'hh_4', 'hh_5', 'hh_6',\n",
      "       'hh_7', 'hh_8', 'hh_9', 'hh_10', 'hh_11', 'hh_12', 'hh_13', 'hh_14',\n",
      "       'hh_15', 'hh_16', 'hh_17', 'hh_18', 'hh_19', 'hh_20', 'hh_21', 'hh_22',\n",
      "       'hh_23', 'hh_24', 'hh_25', 'hh_26', 'hh_27', 'hh_28', 'hh_29', 'hh_30',\n",
      "       'hh_31', 'hh_32', 'hh_33', 'hh_34', 'hh_35', 'hh_36', 'hh_37', 'hh_38',\n",
      "       'hh_39', 'hh_40', 'hh_41', 'hh_42', 'hh_43', 'hh_44', 'hh_45', 'hh_46',\n",
      "       'hh_47'],\n",
      "      dtype='object')\n"
     ]
    }
   ],
   "source": [
    "print(\"block_1 columns:\", block_1.columns)\n",
    "\n",
    "\n"
   ]
  },
  {
   "cell_type": "code",
   "execution_count": 211,
   "id": "42d66b66",
   "metadata": {},
   "outputs": [],
   "source": [
    "block_1_melted = block_1.melt(id_vars=[\"LCLid\", \"day\"], var_name=\"hour_block\", value_name=\"energy_consumption\")\n"
   ]
  },
  {
   "cell_type": "code",
   "execution_count": 214,
   "id": "34da937e",
   "metadata": {},
   "outputs": [
    {
     "name": "stdout",
     "output_type": "stream",
     "text": [
      "       LCLid        day hour_block  energy_consumption\n",
      "0  MAC000002 2012-10-13       hh_0               0.263\n",
      "1  MAC000002 2012-10-14       hh_0               0.262\n",
      "2  MAC000002 2012-10-15       hh_0               0.192\n",
      "3  MAC000002 2012-10-16       hh_0               0.237\n",
      "4  MAC000002 2012-10-17       hh_0               0.157\n"
     ]
    }
   ],
   "source": [
    "print(block_1_melted.head())\n"
   ]
  },
  {
   "cell_type": "code",
   "execution_count": 217,
   "id": "a1937341",
   "metadata": {},
   "outputs": [],
   "source": [
    "block_1_melted[\"hour_block\"] = block_1_melted[\"hour_block\"].astype(str).str.replace(\"hh_\", \"\").astype(int)\n",
    "\n"
   ]
  },
  {
   "cell_type": "code",
   "execution_count": 220,
   "id": "dccb0b17",
   "metadata": {},
   "outputs": [
    {
     "name": "stdout",
     "output_type": "stream",
     "text": [
      "       LCLid        day  hour_block  energy_consumption\n",
      "0  MAC000002 2012-10-13           0               0.263\n",
      "1  MAC000002 2012-10-14           0               0.262\n",
      "2  MAC000002 2012-10-15           0               0.192\n",
      "3  MAC000002 2012-10-16           0               0.237\n",
      "4  MAC000002 2012-10-17           0               0.157\n"
     ]
    }
   ],
   "source": [
    "print(block_1_melted.head())\n"
   ]
  },
  {
   "cell_type": "code",
   "execution_count": 244,
   "id": "1c4e16de",
   "metadata": {},
   "outputs": [],
   "source": [
    "block_1_melted[\"hour_block\"] = block_1_melted[\"hour_block\"].astype(str)\n"
   ]
  },
  {
   "cell_type": "code",
   "execution_count": 249,
   "id": "0a562931",
   "metadata": {},
   "outputs": [],
   "source": [
    "def load_process_block_compact(block_df, freq=\"30min\", ts_identifier=\"series_name\", value_name=\"series_value\"):\n",
    "    grps = block_df.groupby('LCLid')\n",
    "    all_series = []\n",
    "    all_start_dates = []\n",
    "    all_names = []\n",
    "    all_data = {}\n",
    "    all_len = []\n",
    "\n",
    "    for idx, df in tqdm(grps, leave=False):\n",
    "        start_date, name, ts, len_ts = preprocess_compact(df)\n",
    "        all_series.append(ts)\n",
    "        all_start_dates.append(start_date)\n",
    "        all_names.append(name)\n",
    "        all_len.append(len_ts)\n",
    "\n",
    "    all_data[ts_identifier] = all_names\n",
    "    all_data['start_timestamp'] = all_start_dates\n",
    "    all_data['frequency'] = freq\n",
    "    all_data[value_name] = all_series\n",
    "    all_data['series_length'] = all_len\n",
    "\n",
    "    return pd.DataFrame(all_data)\n"
   ]
  },
  {
   "cell_type": "code",
   "execution_count": 260,
   "id": "ce0eb79f",
   "metadata": {},
   "outputs": [],
   "source": [
    "def preprocess_compact(x):\n",
    "    # Creating a copy of the input DataFrame\n",
    "    dr = x.copy()\n",
    "\n",
    "    # Sorting the rows by 'day'\n",
    "    dr.sort_values(['day'], inplace=True)\n",
    "\n",
    "    # Extracting the timeseries array\n",
    "    ts = dr['energy_consumption'].values\n",
    "    len_ts = len(ts)\n",
    "\n",
    "    # Returning extracted information\n",
    "    return dr['day'].min(), x['LCLid'].iloc[0], ts, len_ts\n"
   ]
  },
  {
   "cell_type": "code",
   "execution_count": 263,
   "id": "39f9320a",
   "metadata": {},
   "outputs": [
    {
     "data": {
      "application/vnd.jupyter.widget-view+json": {
       "model_id": "",
       "version_major": 2,
       "version_minor": 0
      },
      "text/plain": [
       "  0%|          | 0/50 [00:00<?, ?it/s]"
      ]
     },
     "metadata": {},
     "output_type": "display_data"
    }
   ],
   "source": [
    "block1_compact = load_process_block_compact(block_1_melted, freq=\"30min\", ts_identifier=\"LCLid\", value_name=\"energy_consumption\")\n",
    "\n"
   ]
  },
  {
   "cell_type": "code",
   "execution_count": 265,
   "id": "070fd89c",
   "metadata": {},
   "outputs": [
    {
     "data": {
      "text/html": [
       "<div>\n",
       "<style scoped>\n",
       "    .dataframe tbody tr th:only-of-type {\n",
       "        vertical-align: middle;\n",
       "    }\n",
       "\n",
       "    .dataframe tbody tr th {\n",
       "        vertical-align: top;\n",
       "    }\n",
       "\n",
       "    .dataframe thead th {\n",
       "        text-align: right;\n",
       "    }\n",
       "</style>\n",
       "<table border=\"1\" class=\"dataframe\">\n",
       "  <thead>\n",
       "    <tr style=\"text-align: right;\">\n",
       "      <th></th>\n",
       "      <th>LCLid</th>\n",
       "      <th>start_timestamp</th>\n",
       "      <th>frequency</th>\n",
       "      <th>energy_consumption</th>\n",
       "      <th>series_length</th>\n",
       "    </tr>\n",
       "  </thead>\n",
       "  <tbody>\n",
       "    <tr>\n",
       "      <th>0</th>\n",
       "      <td>MAC000002</td>\n",
       "      <td>2012-10-13</td>\n",
       "      <td>30min</td>\n",
       "      <td>[0.263, 0.161, 0.134, 0.235, 0.124, 0.136, 0.1...</td>\n",
       "      <td>23904</td>\n",
       "    </tr>\n",
       "    <tr>\n",
       "      <th>1</th>\n",
       "      <td>MAC000246</td>\n",
       "      <td>2011-12-04</td>\n",
       "      <td>30min</td>\n",
       "      <td>[0.175, 0.634, 1.219, 0.821, 0.233, 0.144, 0.1...</td>\n",
       "      <td>39072</td>\n",
       "    </tr>\n",
       "    <tr>\n",
       "      <th>2</th>\n",
       "      <td>MAC000450</td>\n",
       "      <td>2012-03-23</td>\n",
       "      <td>30min</td>\n",
       "      <td>[1.337, 1.012, 0.971, 0.826, 0.842000000000000...</td>\n",
       "      <td>19680</td>\n",
       "    </tr>\n",
       "    <tr>\n",
       "      <th>3</th>\n",
       "      <td>MAC001074</td>\n",
       "      <td>2012-05-09</td>\n",
       "      <td>30min</td>\n",
       "      <td>[0.18, 1.86, 0.089, 1.523, 1.0, 0.39, 0.086, 0...</td>\n",
       "      <td>10656</td>\n",
       "    </tr>\n",
       "    <tr>\n",
       "      <th>4</th>\n",
       "      <td>MAC003223</td>\n",
       "      <td>2012-09-18</td>\n",
       "      <td>30min</td>\n",
       "      <td>[0.076, 0.077, 0.392, 0.083, 0.252, 0.051, 0.0...</td>\n",
       "      <td>25248</td>\n",
       "    </tr>\n",
       "  </tbody>\n",
       "</table>\n",
       "</div>"
      ],
      "text/plain": [
       "       LCLid start_timestamp frequency  \\\n",
       "0  MAC000002      2012-10-13     30min   \n",
       "1  MAC000246      2011-12-04     30min   \n",
       "2  MAC000450      2012-03-23     30min   \n",
       "3  MAC001074      2012-05-09     30min   \n",
       "4  MAC003223      2012-09-18     30min   \n",
       "\n",
       "                                  energy_consumption  series_length  \n",
       "0  [0.263, 0.161, 0.134, 0.235, 0.124, 0.136, 0.1...          23904  \n",
       "1  [0.175, 0.634, 1.219, 0.821, 0.233, 0.144, 0.1...          39072  \n",
       "2  [1.337, 1.012, 0.971, 0.826, 0.842000000000000...          19680  \n",
       "3  [0.18, 1.86, 0.089, 1.523, 1.0, 0.39, 0.086, 0...          10656  \n",
       "4  [0.076, 0.077, 0.392, 0.083, 0.252, 0.051, 0.0...          25248  "
      ]
     },
     "execution_count": 265,
     "metadata": {},
     "output_type": "execute_result"
    }
   ],
   "source": [
    "block1_compact.head()"
   ]
  },
  {
   "cell_type": "code",
   "execution_count": 267,
   "id": "ba8a244e",
   "metadata": {},
   "outputs": [
    {
     "data": {
      "text/plain": [
       "Index                  132\n",
       "LCLid                 2900\n",
       "start_timestamp        400\n",
       "frequency             2700\n",
       "energy_consumption    6000\n",
       "series_length          400\n",
       "dtype: int64"
      ]
     },
     "metadata": {},
     "output_type": "display_data"
    },
    {
     "name": "stdout",
     "output_type": "stream",
     "text": [
      "Total: 0.011951446533203125 MB\n"
     ]
    }
   ],
   "source": [
    "display(block1_compact.memory_usage(deep=True))\n",
    "print(f\"Total: {block1_compact.memory_usage(deep=True).sum()/1024**2} MB\")"
   ]
  },
  {
   "cell_type": "markdown",
   "id": "9eeeed3e",
   "metadata": {},
   "source": [
    "# Expanded Form"
   ]
  },
  {
   "cell_type": "code",
   "execution_count": 288,
   "id": "b30477f1",
   "metadata": {},
   "outputs": [],
   "source": [
    "def preprocess_expanded(x):\n",
    "    start_date = x['day'].min()\n",
    "\n",
    "    ### Fill missing dates with NaN ###\n",
    "    dr = pd.date_range(start=start_date, end=x['day'].max(), freq=\"1D\")\n",
    "    dr = pd.MultiIndex.from_product([dr, range(48)], names=[\"day\", \"hour_block\"]).to_frame(index=False)\n",
    "\n",
    "    # Format 'hour_block' correctly\n",
    "    dr[\"hour_block\"] = dr[\"hour_block\"].apply(lambda x: f\"hh_{x}\")\n",
    "\n",
    "    # Debugging prints\n",
    "    print(\"Columns in x before melting:\", x.columns)\n",
    "\n",
    "    # Reshape x: Convert hh_0, hh_1, ..., hh_47 into a long format with 'hour_block'\n",
    "    x_melted = x.melt(id_vars=['LCLid', 'day'], var_name='hour_block', value_name='energy_consumption')\n",
    "\n",
    "    # Ensure 'hour_block' is formatted correctly\n",
    "    x_melted['hour_block'] = x_melted['hour_block'].astype(str)\n",
    "\n",
    "    # Debugging print after melting\n",
    "    print(\"Columns in x after melting:\", x_melted.columns)\n",
    "\n",
    "    # Merge with the corrected format\n",
    "    dr = dr.merge(x_melted, on=['hour_block', 'day'], how='left')\n",
    "\n",
    "    return dr\n"
   ]
  },
  {
   "cell_type": "code",
   "execution_count": 292,
   "id": "692452fa",
   "metadata": {},
   "outputs": [
    {
     "name": "stdout",
     "output_type": "stream",
     "text": [
      "Shape of block_1 DataFrame: (25286, 50)\n",
      "       LCLid        day   hh_0   hh_1   hh_2   hh_3   hh_4   hh_5   hh_6  \\\n",
      "0  MAC000002 2012-10-13  0.263  0.269  0.275  0.256  0.211  0.136  0.161   \n",
      "1  MAC000002 2012-10-14  0.262  0.166  0.226  0.088  0.126  0.082  0.123   \n",
      "2  MAC000002 2012-10-15  0.192  0.097  0.141  0.083  0.132  0.070  0.130   \n",
      "3  MAC000002 2012-10-16  0.237  0.237  0.193  0.118  0.098  0.107  0.094   \n",
      "4  MAC000002 2012-10-17  0.157  0.211  0.155  0.169  0.101  0.117  0.084   \n",
      "\n",
      "    hh_7  ...  hh_38  hh_39  hh_40  hh_41  hh_42  hh_43  hh_44  hh_45  hh_46  \\\n",
      "0  0.119  ...  0.918  0.278  0.267  0.239  0.230  0.233  0.235  0.188  0.259   \n",
      "1  0.083  ...  1.075  0.956  0.821  0.745  0.712  0.511  0.231  0.210  0.278   \n",
      "2  0.074  ...  1.164  0.249  0.225  0.258  0.260  0.334  0.299  0.236  0.241   \n",
      "3  0.109  ...  0.966  0.172  0.192  0.228  0.203  0.211  0.188  0.213  0.157   \n",
      "4  0.118  ...  0.223  0.075  0.230  0.208  0.265  0.377  0.327  0.277  0.288   \n",
      "\n",
      "   hh_47  \n",
      "0  0.250  \n",
      "1  0.159  \n",
      "2  0.237  \n",
      "3  0.202  \n",
      "4  0.256  \n",
      "\n",
      "[5 rows x 50 columns]\n"
     ]
    }
   ],
   "source": [
    "print(\"Shape of block_1 DataFrame:\", block_1.shape)\n",
    "print(block_1.head())"
   ]
  },
  {
   "cell_type": "code",
   "execution_count": 294,
   "id": "3081b505",
   "metadata": {},
   "outputs": [
    {
     "name": "stdout",
     "output_type": "stream",
     "text": [
      "Initial shape of block_df: (25286, 50)\n"
     ]
    },
    {
     "data": {
      "application/vnd.jupyter.widget-view+json": {
       "model_id": "",
       "version_major": 2,
       "version_minor": 0
      },
      "text/plain": [
       "  0%|          | 0/50 [00:00<?, ?it/s]"
      ]
     },
     "metadata": {},
     "output_type": "display_data"
    },
    {
     "name": "stdout",
     "output_type": "stream",
     "text": [
      "Processing LCLid: MAC000002 with shape: (498, 50)\n",
      "Columns in x before melting: Index(['LCLid', 'day', 'hh_0', 'hh_1', 'hh_2', 'hh_3', 'hh_4', 'hh_5', 'hh_6',\n",
      "       'hh_7', 'hh_8', 'hh_9', 'hh_10', 'hh_11', 'hh_12', 'hh_13', 'hh_14',\n",
      "       'hh_15', 'hh_16', 'hh_17', 'hh_18', 'hh_19', 'hh_20', 'hh_21', 'hh_22',\n",
      "       'hh_23', 'hh_24', 'hh_25', 'hh_26', 'hh_27', 'hh_28', 'hh_29', 'hh_30',\n",
      "       'hh_31', 'hh_32', 'hh_33', 'hh_34', 'hh_35', 'hh_36', 'hh_37', 'hh_38',\n",
      "       'hh_39', 'hh_40', 'hh_41', 'hh_42', 'hh_43', 'hh_44', 'hh_45', 'hh_46',\n",
      "       'hh_47'],\n",
      "      dtype='object')\n",
      "Columns in x after melting: Index(['LCLid', 'day', 'hour_block', 'energy_consumption'], dtype='object')\n",
      "Processing LCLid: MAC000246 with shape: (814, 50)\n",
      "Columns in x before melting: Index(['LCLid', 'day', 'hh_0', 'hh_1', 'hh_2', 'hh_3', 'hh_4', 'hh_5', 'hh_6',\n",
      "       'hh_7', 'hh_8', 'hh_9', 'hh_10', 'hh_11', 'hh_12', 'hh_13', 'hh_14',\n",
      "       'hh_15', 'hh_16', 'hh_17', 'hh_18', 'hh_19', 'hh_20', 'hh_21', 'hh_22',\n",
      "       'hh_23', 'hh_24', 'hh_25', 'hh_26', 'hh_27', 'hh_28', 'hh_29', 'hh_30',\n",
      "       'hh_31', 'hh_32', 'hh_33', 'hh_34', 'hh_35', 'hh_36', 'hh_37', 'hh_38',\n",
      "       'hh_39', 'hh_40', 'hh_41', 'hh_42', 'hh_43', 'hh_44', 'hh_45', 'hh_46',\n",
      "       'hh_47'],\n",
      "      dtype='object')\n",
      "Columns in x after melting: Index(['LCLid', 'day', 'hour_block', 'energy_consumption'], dtype='object')\n",
      "Processing LCLid: MAC000450 with shape: (410, 50)\n",
      "Columns in x before melting: Index(['LCLid', 'day', 'hh_0', 'hh_1', 'hh_2', 'hh_3', 'hh_4', 'hh_5', 'hh_6',\n",
      "       'hh_7', 'hh_8', 'hh_9', 'hh_10', 'hh_11', 'hh_12', 'hh_13', 'hh_14',\n",
      "       'hh_15', 'hh_16', 'hh_17', 'hh_18', 'hh_19', 'hh_20', 'hh_21', 'hh_22',\n",
      "       'hh_23', 'hh_24', 'hh_25', 'hh_26', 'hh_27', 'hh_28', 'hh_29', 'hh_30',\n",
      "       'hh_31', 'hh_32', 'hh_33', 'hh_34', 'hh_35', 'hh_36', 'hh_37', 'hh_38',\n",
      "       'hh_39', 'hh_40', 'hh_41', 'hh_42', 'hh_43', 'hh_44', 'hh_45', 'hh_46',\n",
      "       'hh_47'],\n",
      "      dtype='object')\n",
      "Columns in x after melting: Index(['LCLid', 'day', 'hour_block', 'energy_consumption'], dtype='object')\n",
      "Processing LCLid: MAC001074 with shape: (222, 50)\n",
      "Columns in x before melting: Index(['LCLid', 'day', 'hh_0', 'hh_1', 'hh_2', 'hh_3', 'hh_4', 'hh_5', 'hh_6',\n",
      "       'hh_7', 'hh_8', 'hh_9', 'hh_10', 'hh_11', 'hh_12', 'hh_13', 'hh_14',\n",
      "       'hh_15', 'hh_16', 'hh_17', 'hh_18', 'hh_19', 'hh_20', 'hh_21', 'hh_22',\n",
      "       'hh_23', 'hh_24', 'hh_25', 'hh_26', 'hh_27', 'hh_28', 'hh_29', 'hh_30',\n",
      "       'hh_31', 'hh_32', 'hh_33', 'hh_34', 'hh_35', 'hh_36', 'hh_37', 'hh_38',\n",
      "       'hh_39', 'hh_40', 'hh_41', 'hh_42', 'hh_43', 'hh_44', 'hh_45', 'hh_46',\n",
      "       'hh_47'],\n",
      "      dtype='object')\n",
      "Columns in x after melting: Index(['LCLid', 'day', 'hour_block', 'energy_consumption'], dtype='object')\n",
      "Processing LCLid: MAC003223 with shape: (526, 50)\n",
      "Columns in x before melting: Index(['LCLid', 'day', 'hh_0', 'hh_1', 'hh_2', 'hh_3', 'hh_4', 'hh_5', 'hh_6',\n",
      "       'hh_7', 'hh_8', 'hh_9', 'hh_10', 'hh_11', 'hh_12', 'hh_13', 'hh_14',\n",
      "       'hh_15', 'hh_16', 'hh_17', 'hh_18', 'hh_19', 'hh_20', 'hh_21', 'hh_22',\n",
      "       'hh_23', 'hh_24', 'hh_25', 'hh_26', 'hh_27', 'hh_28', 'hh_29', 'hh_30',\n",
      "       'hh_31', 'hh_32', 'hh_33', 'hh_34', 'hh_35', 'hh_36', 'hh_37', 'hh_38',\n",
      "       'hh_39', 'hh_40', 'hh_41', 'hh_42', 'hh_43', 'hh_44', 'hh_45', 'hh_46',\n",
      "       'hh_47'],\n",
      "      dtype='object')\n",
      "Columns in x after melting: Index(['LCLid', 'day', 'hour_block', 'energy_consumption'], dtype='object')\n",
      "Processing LCLid: MAC003239 with shape: (526, 50)\n",
      "Columns in x before melting: Index(['LCLid', 'day', 'hh_0', 'hh_1', 'hh_2', 'hh_3', 'hh_4', 'hh_5', 'hh_6',\n",
      "       'hh_7', 'hh_8', 'hh_9', 'hh_10', 'hh_11', 'hh_12', 'hh_13', 'hh_14',\n",
      "       'hh_15', 'hh_16', 'hh_17', 'hh_18', 'hh_19', 'hh_20', 'hh_21', 'hh_22',\n",
      "       'hh_23', 'hh_24', 'hh_25', 'hh_26', 'hh_27', 'hh_28', 'hh_29', 'hh_30',\n",
      "       'hh_31', 'hh_32', 'hh_33', 'hh_34', 'hh_35', 'hh_36', 'hh_37', 'hh_38',\n",
      "       'hh_39', 'hh_40', 'hh_41', 'hh_42', 'hh_43', 'hh_44', 'hh_45', 'hh_46',\n",
      "       'hh_47'],\n",
      "      dtype='object')\n",
      "Columns in x after melting: Index(['LCLid', 'day', 'hour_block', 'energy_consumption'], dtype='object')\n",
      "Processing LCLid: MAC003252 with shape: (513, 50)\n",
      "Columns in x before melting: Index(['LCLid', 'day', 'hh_0', 'hh_1', 'hh_2', 'hh_3', 'hh_4', 'hh_5', 'hh_6',\n",
      "       'hh_7', 'hh_8', 'hh_9', 'hh_10', 'hh_11', 'hh_12', 'hh_13', 'hh_14',\n",
      "       'hh_15', 'hh_16', 'hh_17', 'hh_18', 'hh_19', 'hh_20', 'hh_21', 'hh_22',\n",
      "       'hh_23', 'hh_24', 'hh_25', 'hh_26', 'hh_27', 'hh_28', 'hh_29', 'hh_30',\n",
      "       'hh_31', 'hh_32', 'hh_33', 'hh_34', 'hh_35', 'hh_36', 'hh_37', 'hh_38',\n",
      "       'hh_39', 'hh_40', 'hh_41', 'hh_42', 'hh_43', 'hh_44', 'hh_45', 'hh_46',\n",
      "       'hh_47'],\n",
      "      dtype='object')\n",
      "Columns in x after melting: Index(['LCLid', 'day', 'hour_block', 'energy_consumption'], dtype='object')\n",
      "Processing LCLid: MAC003281 with shape: (519, 50)\n",
      "Columns in x before melting: Index(['LCLid', 'day', 'hh_0', 'hh_1', 'hh_2', 'hh_3', 'hh_4', 'hh_5', 'hh_6',\n",
      "       'hh_7', 'hh_8', 'hh_9', 'hh_10', 'hh_11', 'hh_12', 'hh_13', 'hh_14',\n",
      "       'hh_15', 'hh_16', 'hh_17', 'hh_18', 'hh_19', 'hh_20', 'hh_21', 'hh_22',\n",
      "       'hh_23', 'hh_24', 'hh_25', 'hh_26', 'hh_27', 'hh_28', 'hh_29', 'hh_30',\n",
      "       'hh_31', 'hh_32', 'hh_33', 'hh_34', 'hh_35', 'hh_36', 'hh_37', 'hh_38',\n",
      "       'hh_39', 'hh_40', 'hh_41', 'hh_42', 'hh_43', 'hh_44', 'hh_45', 'hh_46',\n",
      "       'hh_47'],\n",
      "      dtype='object')\n",
      "Columns in x after melting: Index(['LCLid', 'day', 'hour_block', 'energy_consumption'], dtype='object')\n",
      "Processing LCLid: MAC003305 with shape: (519, 50)\n",
      "Columns in x before melting: Index(['LCLid', 'day', 'hh_0', 'hh_1', 'hh_2', 'hh_3', 'hh_4', 'hh_5', 'hh_6',\n",
      "       'hh_7', 'hh_8', 'hh_9', 'hh_10', 'hh_11', 'hh_12', 'hh_13', 'hh_14',\n",
      "       'hh_15', 'hh_16', 'hh_17', 'hh_18', 'hh_19', 'hh_20', 'hh_21', 'hh_22',\n",
      "       'hh_23', 'hh_24', 'hh_25', 'hh_26', 'hh_27', 'hh_28', 'hh_29', 'hh_30',\n",
      "       'hh_31', 'hh_32', 'hh_33', 'hh_34', 'hh_35', 'hh_36', 'hh_37', 'hh_38',\n",
      "       'hh_39', 'hh_40', 'hh_41', 'hh_42', 'hh_43', 'hh_44', 'hh_45', 'hh_46',\n",
      "       'hh_47'],\n",
      "      dtype='object')\n",
      "Columns in x after melting: Index(['LCLid', 'day', 'hour_block', 'energy_consumption'], dtype='object')\n",
      "Processing LCLid: MAC003348 with shape: (440, 50)\n",
      "Columns in x before melting: Index(['LCLid', 'day', 'hh_0', 'hh_1', 'hh_2', 'hh_3', 'hh_4', 'hh_5', 'hh_6',\n",
      "       'hh_7', 'hh_8', 'hh_9', 'hh_10', 'hh_11', 'hh_12', 'hh_13', 'hh_14',\n",
      "       'hh_15', 'hh_16', 'hh_17', 'hh_18', 'hh_19', 'hh_20', 'hh_21', 'hh_22',\n",
      "       'hh_23', 'hh_24', 'hh_25', 'hh_26', 'hh_27', 'hh_28', 'hh_29', 'hh_30',\n",
      "       'hh_31', 'hh_32', 'hh_33', 'hh_34', 'hh_35', 'hh_36', 'hh_37', 'hh_38',\n",
      "       'hh_39', 'hh_40', 'hh_41', 'hh_42', 'hh_43', 'hh_44', 'hh_45', 'hh_46',\n",
      "       'hh_47'],\n",
      "      dtype='object')\n",
      "Columns in x after melting: Index(['LCLid', 'day', 'hour_block', 'energy_consumption'], dtype='object')\n",
      "Processing LCLid: MAC003388 with shape: (516, 50)\n",
      "Columns in x before melting: Index(['LCLid', 'day', 'hh_0', 'hh_1', 'hh_2', 'hh_3', 'hh_4', 'hh_5', 'hh_6',\n",
      "       'hh_7', 'hh_8', 'hh_9', 'hh_10', 'hh_11', 'hh_12', 'hh_13', 'hh_14',\n",
      "       'hh_15', 'hh_16', 'hh_17', 'hh_18', 'hh_19', 'hh_20', 'hh_21', 'hh_22',\n",
      "       'hh_23', 'hh_24', 'hh_25', 'hh_26', 'hh_27', 'hh_28', 'hh_29', 'hh_30',\n",
      "       'hh_31', 'hh_32', 'hh_33', 'hh_34', 'hh_35', 'hh_36', 'hh_37', 'hh_38',\n",
      "       'hh_39', 'hh_40', 'hh_41', 'hh_42', 'hh_43', 'hh_44', 'hh_45', 'hh_46',\n",
      "       'hh_47'],\n",
      "      dtype='object')\n",
      "Columns in x after melting: Index(['LCLid', 'day', 'hour_block', 'energy_consumption'], dtype='object')\n",
      "Processing LCLid: MAC003394 with shape: (510, 50)\n",
      "Columns in x before melting: Index(['LCLid', 'day', 'hh_0', 'hh_1', 'hh_2', 'hh_3', 'hh_4', 'hh_5', 'hh_6',\n",
      "       'hh_7', 'hh_8', 'hh_9', 'hh_10', 'hh_11', 'hh_12', 'hh_13', 'hh_14',\n",
      "       'hh_15', 'hh_16', 'hh_17', 'hh_18', 'hh_19', 'hh_20', 'hh_21', 'hh_22',\n",
      "       'hh_23', 'hh_24', 'hh_25', 'hh_26', 'hh_27', 'hh_28', 'hh_29', 'hh_30',\n",
      "       'hh_31', 'hh_32', 'hh_33', 'hh_34', 'hh_35', 'hh_36', 'hh_37', 'hh_38',\n",
      "       'hh_39', 'hh_40', 'hh_41', 'hh_42', 'hh_43', 'hh_44', 'hh_45', 'hh_46',\n",
      "       'hh_47'],\n",
      "      dtype='object')\n"
     ]
    },
    {
     "name": "stdout",
     "output_type": "stream",
     "text": [
      "Columns in x after melting: Index(['LCLid', 'day', 'hour_block', 'energy_consumption'], dtype='object')\n",
      "Processing LCLid: MAC003400 with shape: (511, 50)\n",
      "Columns in x before melting: Index(['LCLid', 'day', 'hh_0', 'hh_1', 'hh_2', 'hh_3', 'hh_4', 'hh_5', 'hh_6',\n",
      "       'hh_7', 'hh_8', 'hh_9', 'hh_10', 'hh_11', 'hh_12', 'hh_13', 'hh_14',\n",
      "       'hh_15', 'hh_16', 'hh_17', 'hh_18', 'hh_19', 'hh_20', 'hh_21', 'hh_22',\n",
      "       'hh_23', 'hh_24', 'hh_25', 'hh_26', 'hh_27', 'hh_28', 'hh_29', 'hh_30',\n",
      "       'hh_31', 'hh_32', 'hh_33', 'hh_34', 'hh_35', 'hh_36', 'hh_37', 'hh_38',\n",
      "       'hh_39', 'hh_40', 'hh_41', 'hh_42', 'hh_43', 'hh_44', 'hh_45', 'hh_46',\n",
      "       'hh_47'],\n",
      "      dtype='object')\n",
      "Columns in x after melting: Index(['LCLid', 'day', 'hour_block', 'energy_consumption'], dtype='object')\n",
      "Processing LCLid: MAC003422 with shape: (494, 50)\n",
      "Columns in x before melting: Index(['LCLid', 'day', 'hh_0', 'hh_1', 'hh_2', 'hh_3', 'hh_4', 'hh_5', 'hh_6',\n",
      "       'hh_7', 'hh_8', 'hh_9', 'hh_10', 'hh_11', 'hh_12', 'hh_13', 'hh_14',\n",
      "       'hh_15', 'hh_16', 'hh_17', 'hh_18', 'hh_19', 'hh_20', 'hh_21', 'hh_22',\n",
      "       'hh_23', 'hh_24', 'hh_25', 'hh_26', 'hh_27', 'hh_28', 'hh_29', 'hh_30',\n",
      "       'hh_31', 'hh_32', 'hh_33', 'hh_34', 'hh_35', 'hh_36', 'hh_37', 'hh_38',\n",
      "       'hh_39', 'hh_40', 'hh_41', 'hh_42', 'hh_43', 'hh_44', 'hh_45', 'hh_46',\n",
      "       'hh_47'],\n",
      "      dtype='object')\n",
      "Columns in x after melting: Index(['LCLid', 'day', 'hour_block', 'energy_consumption'], dtype='object')\n",
      "Processing LCLid: MAC003423 with shape: (503, 50)\n",
      "Columns in x before melting: Index(['LCLid', 'day', 'hh_0', 'hh_1', 'hh_2', 'hh_3', 'hh_4', 'hh_5', 'hh_6',\n",
      "       'hh_7', 'hh_8', 'hh_9', 'hh_10', 'hh_11', 'hh_12', 'hh_13', 'hh_14',\n",
      "       'hh_15', 'hh_16', 'hh_17', 'hh_18', 'hh_19', 'hh_20', 'hh_21', 'hh_22',\n",
      "       'hh_23', 'hh_24', 'hh_25', 'hh_26', 'hh_27', 'hh_28', 'hh_29', 'hh_30',\n",
      "       'hh_31', 'hh_32', 'hh_33', 'hh_34', 'hh_35', 'hh_36', 'hh_37', 'hh_38',\n",
      "       'hh_39', 'hh_40', 'hh_41', 'hh_42', 'hh_43', 'hh_44', 'hh_45', 'hh_46',\n",
      "       'hh_47'],\n",
      "      dtype='object')\n",
      "Columns in x after melting: Index(['LCLid', 'day', 'hour_block', 'energy_consumption'], dtype='object')\n",
      "Processing LCLid: MAC003428 with shape: (508, 50)\n",
      "Columns in x before melting: Index(['LCLid', 'day', 'hh_0', 'hh_1', 'hh_2', 'hh_3', 'hh_4', 'hh_5', 'hh_6',\n",
      "       'hh_7', 'hh_8', 'hh_9', 'hh_10', 'hh_11', 'hh_12', 'hh_13', 'hh_14',\n",
      "       'hh_15', 'hh_16', 'hh_17', 'hh_18', 'hh_19', 'hh_20', 'hh_21', 'hh_22',\n",
      "       'hh_23', 'hh_24', 'hh_25', 'hh_26', 'hh_27', 'hh_28', 'hh_29', 'hh_30',\n",
      "       'hh_31', 'hh_32', 'hh_33', 'hh_34', 'hh_35', 'hh_36', 'hh_37', 'hh_38',\n",
      "       'hh_39', 'hh_40', 'hh_41', 'hh_42', 'hh_43', 'hh_44', 'hh_45', 'hh_46',\n",
      "       'hh_47'],\n",
      "      dtype='object')\n",
      "Columns in x after melting: Index(['LCLid', 'day', 'hour_block', 'energy_consumption'], dtype='object')\n",
      "Processing LCLid: MAC003449 with shape: (507, 50)\n",
      "Columns in x before melting: Index(['LCLid', 'day', 'hh_0', 'hh_1', 'hh_2', 'hh_3', 'hh_4', 'hh_5', 'hh_6',\n",
      "       'hh_7', 'hh_8', 'hh_9', 'hh_10', 'hh_11', 'hh_12', 'hh_13', 'hh_14',\n",
      "       'hh_15', 'hh_16', 'hh_17', 'hh_18', 'hh_19', 'hh_20', 'hh_21', 'hh_22',\n",
      "       'hh_23', 'hh_24', 'hh_25', 'hh_26', 'hh_27', 'hh_28', 'hh_29', 'hh_30',\n",
      "       'hh_31', 'hh_32', 'hh_33', 'hh_34', 'hh_35', 'hh_36', 'hh_37', 'hh_38',\n",
      "       'hh_39', 'hh_40', 'hh_41', 'hh_42', 'hh_43', 'hh_44', 'hh_45', 'hh_46',\n",
      "       'hh_47'],\n",
      "      dtype='object')\n",
      "Columns in x after melting: Index(['LCLid', 'day', 'hour_block', 'energy_consumption'], dtype='object')\n",
      "Processing LCLid: MAC003463 with shape: (311, 50)\n",
      "Columns in x before melting: Index(['LCLid', 'day', 'hh_0', 'hh_1', 'hh_2', 'hh_3', 'hh_4', 'hh_5', 'hh_6',\n",
      "       'hh_7', 'hh_8', 'hh_9', 'hh_10', 'hh_11', 'hh_12', 'hh_13', 'hh_14',\n",
      "       'hh_15', 'hh_16', 'hh_17', 'hh_18', 'hh_19', 'hh_20', 'hh_21', 'hh_22',\n",
      "       'hh_23', 'hh_24', 'hh_25', 'hh_26', 'hh_27', 'hh_28', 'hh_29', 'hh_30',\n",
      "       'hh_31', 'hh_32', 'hh_33', 'hh_34', 'hh_35', 'hh_36', 'hh_37', 'hh_38',\n",
      "       'hh_39', 'hh_40', 'hh_41', 'hh_42', 'hh_43', 'hh_44', 'hh_45', 'hh_46',\n",
      "       'hh_47'],\n",
      "      dtype='object')\n",
      "Columns in x after melting: Index(['LCLid', 'day', 'hour_block', 'energy_consumption'], dtype='object')\n",
      "Processing LCLid: MAC003482 with shape: (509, 50)\n",
      "Columns in x before melting: Index(['LCLid', 'day', 'hh_0', 'hh_1', 'hh_2', 'hh_3', 'hh_4', 'hh_5', 'hh_6',\n",
      "       'hh_7', 'hh_8', 'hh_9', 'hh_10', 'hh_11', 'hh_12', 'hh_13', 'hh_14',\n",
      "       'hh_15', 'hh_16', 'hh_17', 'hh_18', 'hh_19', 'hh_20', 'hh_21', 'hh_22',\n",
      "       'hh_23', 'hh_24', 'hh_25', 'hh_26', 'hh_27', 'hh_28', 'hh_29', 'hh_30',\n",
      "       'hh_31', 'hh_32', 'hh_33', 'hh_34', 'hh_35', 'hh_36', 'hh_37', 'hh_38',\n",
      "       'hh_39', 'hh_40', 'hh_41', 'hh_42', 'hh_43', 'hh_44', 'hh_45', 'hh_46',\n",
      "       'hh_47'],\n",
      "      dtype='object')\n",
      "Columns in x after melting: Index(['LCLid', 'day', 'hour_block', 'energy_consumption'], dtype='object')\n",
      "Processing LCLid: MAC003553 with shape: (503, 50)\n",
      "Columns in x before melting: Index(['LCLid', 'day', 'hh_0', 'hh_1', 'hh_2', 'hh_3', 'hh_4', 'hh_5', 'hh_6',\n",
      "       'hh_7', 'hh_8', 'hh_9', 'hh_10', 'hh_11', 'hh_12', 'hh_13', 'hh_14',\n",
      "       'hh_15', 'hh_16', 'hh_17', 'hh_18', 'hh_19', 'hh_20', 'hh_21', 'hh_22',\n",
      "       'hh_23', 'hh_24', 'hh_25', 'hh_26', 'hh_27', 'hh_28', 'hh_29', 'hh_30',\n",
      "       'hh_31', 'hh_32', 'hh_33', 'hh_34', 'hh_35', 'hh_36', 'hh_37', 'hh_38',\n",
      "       'hh_39', 'hh_40', 'hh_41', 'hh_42', 'hh_43', 'hh_44', 'hh_45', 'hh_46',\n",
      "       'hh_47'],\n",
      "      dtype='object')\n",
      "Columns in x after melting: Index(['LCLid', 'day', 'hour_block', 'energy_consumption'], dtype='object')\n",
      "Processing LCLid: MAC003557 with shape: (405, 50)\n",
      "Columns in x before melting: Index(['LCLid', 'day', 'hh_0', 'hh_1', 'hh_2', 'hh_3', 'hh_4', 'hh_5', 'hh_6',\n",
      "       'hh_7', 'hh_8', 'hh_9', 'hh_10', 'hh_11', 'hh_12', 'hh_13', 'hh_14',\n",
      "       'hh_15', 'hh_16', 'hh_17', 'hh_18', 'hh_19', 'hh_20', 'hh_21', 'hh_22',\n",
      "       'hh_23', 'hh_24', 'hh_25', 'hh_26', 'hh_27', 'hh_28', 'hh_29', 'hh_30',\n",
      "       'hh_31', 'hh_32', 'hh_33', 'hh_34', 'hh_35', 'hh_36', 'hh_37', 'hh_38',\n",
      "       'hh_39', 'hh_40', 'hh_41', 'hh_42', 'hh_43', 'hh_44', 'hh_45', 'hh_46',\n",
      "       'hh_47'],\n",
      "      dtype='object')\n",
      "Columns in x after melting: Index(['LCLid', 'day', 'hour_block', 'energy_consumption'], dtype='object')\n",
      "Processing LCLid: MAC003566 with shape: (503, 50)\n",
      "Columns in x before melting: Index(['LCLid', 'day', 'hh_0', 'hh_1', 'hh_2', 'hh_3', 'hh_4', 'hh_5', 'hh_6',\n",
      "       'hh_7', 'hh_8', 'hh_9', 'hh_10', 'hh_11', 'hh_12', 'hh_13', 'hh_14',\n",
      "       'hh_15', 'hh_16', 'hh_17', 'hh_18', 'hh_19', 'hh_20', 'hh_21', 'hh_22',\n",
      "       'hh_23', 'hh_24', 'hh_25', 'hh_26', 'hh_27', 'hh_28', 'hh_29', 'hh_30',\n",
      "       'hh_31', 'hh_32', 'hh_33', 'hh_34', 'hh_35', 'hh_36', 'hh_37', 'hh_38',\n",
      "       'hh_39', 'hh_40', 'hh_41', 'hh_42', 'hh_43', 'hh_44', 'hh_45', 'hh_46',\n",
      "       'hh_47'],\n",
      "      dtype='object')\n",
      "Columns in x after melting: Index(['LCLid', 'day', 'hour_block', 'energy_consumption'], dtype='object')\n",
      "Processing LCLid: MAC003579 with shape: (505, 50)\n",
      "Columns in x before melting: Index(['LCLid', 'day', 'hh_0', 'hh_1', 'hh_2', 'hh_3', 'hh_4', 'hh_5', 'hh_6',\n",
      "       'hh_7', 'hh_8', 'hh_9', 'hh_10', 'hh_11', 'hh_12', 'hh_13', 'hh_14',\n",
      "       'hh_15', 'hh_16', 'hh_17', 'hh_18', 'hh_19', 'hh_20', 'hh_21', 'hh_22',\n",
      "       'hh_23', 'hh_24', 'hh_25', 'hh_26', 'hh_27', 'hh_28', 'hh_29', 'hh_30',\n",
      "       'hh_31', 'hh_32', 'hh_33', 'hh_34', 'hh_35', 'hh_36', 'hh_37', 'hh_38',\n",
      "       'hh_39', 'hh_40', 'hh_41', 'hh_42', 'hh_43', 'hh_44', 'hh_45', 'hh_46',\n",
      "       'hh_47'],\n",
      "      dtype='object')\n",
      "Columns in x after melting: Index(['LCLid', 'day', 'hour_block', 'energy_consumption'], dtype='object')\n",
      "Processing LCLid: MAC003597 with shape: (501, 50)\n",
      "Columns in x before melting: Index(['LCLid', 'day', 'hh_0', 'hh_1', 'hh_2', 'hh_3', 'hh_4', 'hh_5', 'hh_6',\n",
      "       'hh_7', 'hh_8', 'hh_9', 'hh_10', 'hh_11', 'hh_12', 'hh_13', 'hh_14',\n",
      "       'hh_15', 'hh_16', 'hh_17', 'hh_18', 'hh_19', 'hh_20', 'hh_21', 'hh_22',\n",
      "       'hh_23', 'hh_24', 'hh_25', 'hh_26', 'hh_27', 'hh_28', 'hh_29', 'hh_30',\n",
      "       'hh_31', 'hh_32', 'hh_33', 'hh_34', 'hh_35', 'hh_36', 'hh_37', 'hh_38',\n",
      "       'hh_39', 'hh_40', 'hh_41', 'hh_42', 'hh_43', 'hh_44', 'hh_45', 'hh_46',\n",
      "       'hh_47'],\n",
      "      dtype='object')\n",
      "Columns in x after melting: Index(['LCLid', 'day', 'hour_block', 'energy_consumption'], dtype='object')\n",
      "Processing LCLid: MAC003613 with shape: (500, 50)\n",
      "Columns in x before melting: Index(['LCLid', 'day', 'hh_0', 'hh_1', 'hh_2', 'hh_3', 'hh_4', 'hh_5', 'hh_6',\n",
      "       'hh_7', 'hh_8', 'hh_9', 'hh_10', 'hh_11', 'hh_12', 'hh_13', 'hh_14',\n",
      "       'hh_15', 'hh_16', 'hh_17', 'hh_18', 'hh_19', 'hh_20', 'hh_21', 'hh_22',\n",
      "       'hh_23', 'hh_24', 'hh_25', 'hh_26', 'hh_27', 'hh_28', 'hh_29', 'hh_30',\n",
      "       'hh_31', 'hh_32', 'hh_33', 'hh_34', 'hh_35', 'hh_36', 'hh_37', 'hh_38',\n",
      "       'hh_39', 'hh_40', 'hh_41', 'hh_42', 'hh_43', 'hh_44', 'hh_45', 'hh_46',\n",
      "       'hh_47'],\n",
      "      dtype='object')\n",
      "Columns in x after melting: Index(['LCLid', 'day', 'hour_block', 'energy_consumption'], dtype='object')\n",
      "Processing LCLid: MAC003646 with shape: (502, 50)\n"
     ]
    },
    {
     "name": "stdout",
     "output_type": "stream",
     "text": [
      "Columns in x before melting: Index(['LCLid', 'day', 'hh_0', 'hh_1', 'hh_2', 'hh_3', 'hh_4', 'hh_5', 'hh_6',\n",
      "       'hh_7', 'hh_8', 'hh_9', 'hh_10', 'hh_11', 'hh_12', 'hh_13', 'hh_14',\n",
      "       'hh_15', 'hh_16', 'hh_17', 'hh_18', 'hh_19', 'hh_20', 'hh_21', 'hh_22',\n",
      "       'hh_23', 'hh_24', 'hh_25', 'hh_26', 'hh_27', 'hh_28', 'hh_29', 'hh_30',\n",
      "       'hh_31', 'hh_32', 'hh_33', 'hh_34', 'hh_35', 'hh_36', 'hh_37', 'hh_38',\n",
      "       'hh_39', 'hh_40', 'hh_41', 'hh_42', 'hh_43', 'hh_44', 'hh_45', 'hh_46',\n",
      "       'hh_47'],\n",
      "      dtype='object')\n",
      "Columns in x after melting: Index(['LCLid', 'day', 'hour_block', 'energy_consumption'], dtype='object')\n",
      "Processing LCLid: MAC003656 with shape: (500, 50)\n",
      "Columns in x before melting: Index(['LCLid', 'day', 'hh_0', 'hh_1', 'hh_2', 'hh_3', 'hh_4', 'hh_5', 'hh_6',\n",
      "       'hh_7', 'hh_8', 'hh_9', 'hh_10', 'hh_11', 'hh_12', 'hh_13', 'hh_14',\n",
      "       'hh_15', 'hh_16', 'hh_17', 'hh_18', 'hh_19', 'hh_20', 'hh_21', 'hh_22',\n",
      "       'hh_23', 'hh_24', 'hh_25', 'hh_26', 'hh_27', 'hh_28', 'hh_29', 'hh_30',\n",
      "       'hh_31', 'hh_32', 'hh_33', 'hh_34', 'hh_35', 'hh_36', 'hh_37', 'hh_38',\n",
      "       'hh_39', 'hh_40', 'hh_41', 'hh_42', 'hh_43', 'hh_44', 'hh_45', 'hh_46',\n",
      "       'hh_47'],\n",
      "      dtype='object')\n",
      "Columns in x after melting: Index(['LCLid', 'day', 'hour_block', 'energy_consumption'], dtype='object')\n",
      "Processing LCLid: MAC003668 with shape: (499, 50)\n",
      "Columns in x before melting: Index(['LCLid', 'day', 'hh_0', 'hh_1', 'hh_2', 'hh_3', 'hh_4', 'hh_5', 'hh_6',\n",
      "       'hh_7', 'hh_8', 'hh_9', 'hh_10', 'hh_11', 'hh_12', 'hh_13', 'hh_14',\n",
      "       'hh_15', 'hh_16', 'hh_17', 'hh_18', 'hh_19', 'hh_20', 'hh_21', 'hh_22',\n",
      "       'hh_23', 'hh_24', 'hh_25', 'hh_26', 'hh_27', 'hh_28', 'hh_29', 'hh_30',\n",
      "       'hh_31', 'hh_32', 'hh_33', 'hh_34', 'hh_35', 'hh_36', 'hh_37', 'hh_38',\n",
      "       'hh_39', 'hh_40', 'hh_41', 'hh_42', 'hh_43', 'hh_44', 'hh_45', 'hh_46',\n",
      "       'hh_47'],\n",
      "      dtype='object')\n",
      "Columns in x after melting: Index(['LCLid', 'day', 'hour_block', 'energy_consumption'], dtype='object')\n",
      "Processing LCLid: MAC003680 with shape: (493, 50)\n",
      "Columns in x before melting: Index(['LCLid', 'day', 'hh_0', 'hh_1', 'hh_2', 'hh_3', 'hh_4', 'hh_5', 'hh_6',\n",
      "       'hh_7', 'hh_8', 'hh_9', 'hh_10', 'hh_11', 'hh_12', 'hh_13', 'hh_14',\n",
      "       'hh_15', 'hh_16', 'hh_17', 'hh_18', 'hh_19', 'hh_20', 'hh_21', 'hh_22',\n",
      "       'hh_23', 'hh_24', 'hh_25', 'hh_26', 'hh_27', 'hh_28', 'hh_29', 'hh_30',\n",
      "       'hh_31', 'hh_32', 'hh_33', 'hh_34', 'hh_35', 'hh_36', 'hh_37', 'hh_38',\n",
      "       'hh_39', 'hh_40', 'hh_41', 'hh_42', 'hh_43', 'hh_44', 'hh_45', 'hh_46',\n",
      "       'hh_47'],\n",
      "      dtype='object')\n",
      "Columns in x after melting: Index(['LCLid', 'day', 'hour_block', 'energy_consumption'], dtype='object')\n",
      "Processing LCLid: MAC003686 with shape: (497, 50)\n",
      "Columns in x before melting: Index(['LCLid', 'day', 'hh_0', 'hh_1', 'hh_2', 'hh_3', 'hh_4', 'hh_5', 'hh_6',\n",
      "       'hh_7', 'hh_8', 'hh_9', 'hh_10', 'hh_11', 'hh_12', 'hh_13', 'hh_14',\n",
      "       'hh_15', 'hh_16', 'hh_17', 'hh_18', 'hh_19', 'hh_20', 'hh_21', 'hh_22',\n",
      "       'hh_23', 'hh_24', 'hh_25', 'hh_26', 'hh_27', 'hh_28', 'hh_29', 'hh_30',\n",
      "       'hh_31', 'hh_32', 'hh_33', 'hh_34', 'hh_35', 'hh_36', 'hh_37', 'hh_38',\n",
      "       'hh_39', 'hh_40', 'hh_41', 'hh_42', 'hh_43', 'hh_44', 'hh_45', 'hh_46',\n",
      "       'hh_47'],\n",
      "      dtype='object')\n",
      "Columns in x after melting: Index(['LCLid', 'day', 'hour_block', 'energy_consumption'], dtype='object')\n",
      "Processing LCLid: MAC003718 with shape: (361, 50)\n",
      "Columns in x before melting: Index(['LCLid', 'day', 'hh_0', 'hh_1', 'hh_2', 'hh_3', 'hh_4', 'hh_5', 'hh_6',\n",
      "       'hh_7', 'hh_8', 'hh_9', 'hh_10', 'hh_11', 'hh_12', 'hh_13', 'hh_14',\n",
      "       'hh_15', 'hh_16', 'hh_17', 'hh_18', 'hh_19', 'hh_20', 'hh_21', 'hh_22',\n",
      "       'hh_23', 'hh_24', 'hh_25', 'hh_26', 'hh_27', 'hh_28', 'hh_29', 'hh_30',\n",
      "       'hh_31', 'hh_32', 'hh_33', 'hh_34', 'hh_35', 'hh_36', 'hh_37', 'hh_38',\n",
      "       'hh_39', 'hh_40', 'hh_41', 'hh_42', 'hh_43', 'hh_44', 'hh_45', 'hh_46',\n",
      "       'hh_47'],\n",
      "      dtype='object')\n",
      "Columns in x after melting: Index(['LCLid', 'day', 'hour_block', 'energy_consumption'], dtype='object')\n",
      "Processing LCLid: MAC003719 with shape: (497, 50)\n",
      "Columns in x before melting: Index(['LCLid', 'day', 'hh_0', 'hh_1', 'hh_2', 'hh_3', 'hh_4', 'hh_5', 'hh_6',\n",
      "       'hh_7', 'hh_8', 'hh_9', 'hh_10', 'hh_11', 'hh_12', 'hh_13', 'hh_14',\n",
      "       'hh_15', 'hh_16', 'hh_17', 'hh_18', 'hh_19', 'hh_20', 'hh_21', 'hh_22',\n",
      "       'hh_23', 'hh_24', 'hh_25', 'hh_26', 'hh_27', 'hh_28', 'hh_29', 'hh_30',\n",
      "       'hh_31', 'hh_32', 'hh_33', 'hh_34', 'hh_35', 'hh_36', 'hh_37', 'hh_38',\n",
      "       'hh_39', 'hh_40', 'hh_41', 'hh_42', 'hh_43', 'hh_44', 'hh_45', 'hh_46',\n",
      "       'hh_47'],\n",
      "      dtype='object')\n",
      "Columns in x after melting: Index(['LCLid', 'day', 'hour_block', 'energy_consumption'], dtype='object')\n",
      "Processing LCLid: MAC003737 with shape: (496, 50)\n",
      "Columns in x before melting: Index(['LCLid', 'day', 'hh_0', 'hh_1', 'hh_2', 'hh_3', 'hh_4', 'hh_5', 'hh_6',\n",
      "       'hh_7', 'hh_8', 'hh_9', 'hh_10', 'hh_11', 'hh_12', 'hh_13', 'hh_14',\n",
      "       'hh_15', 'hh_16', 'hh_17', 'hh_18', 'hh_19', 'hh_20', 'hh_21', 'hh_22',\n",
      "       'hh_23', 'hh_24', 'hh_25', 'hh_26', 'hh_27', 'hh_28', 'hh_29', 'hh_30',\n",
      "       'hh_31', 'hh_32', 'hh_33', 'hh_34', 'hh_35', 'hh_36', 'hh_37', 'hh_38',\n",
      "       'hh_39', 'hh_40', 'hh_41', 'hh_42', 'hh_43', 'hh_44', 'hh_45', 'hh_46',\n",
      "       'hh_47'],\n",
      "      dtype='object')\n",
      "Columns in x after melting: Index(['LCLid', 'day', 'hour_block', 'energy_consumption'], dtype='object')\n",
      "Processing LCLid: MAC003740 with shape: (495, 50)\n",
      "Columns in x before melting: Index(['LCLid', 'day', 'hh_0', 'hh_1', 'hh_2', 'hh_3', 'hh_4', 'hh_5', 'hh_6',\n",
      "       'hh_7', 'hh_8', 'hh_9', 'hh_10', 'hh_11', 'hh_12', 'hh_13', 'hh_14',\n",
      "       'hh_15', 'hh_16', 'hh_17', 'hh_18', 'hh_19', 'hh_20', 'hh_21', 'hh_22',\n",
      "       'hh_23', 'hh_24', 'hh_25', 'hh_26', 'hh_27', 'hh_28', 'hh_29', 'hh_30',\n",
      "       'hh_31', 'hh_32', 'hh_33', 'hh_34', 'hh_35', 'hh_36', 'hh_37', 'hh_38',\n",
      "       'hh_39', 'hh_40', 'hh_41', 'hh_42', 'hh_43', 'hh_44', 'hh_45', 'hh_46',\n",
      "       'hh_47'],\n",
      "      dtype='object')\n",
      "Columns in x after melting: Index(['LCLid', 'day', 'hour_block', 'energy_consumption'], dtype='object')\n",
      "Processing LCLid: MAC003775 with shape: (448, 50)\n",
      "Columns in x before melting: Index(['LCLid', 'day', 'hh_0', 'hh_1', 'hh_2', 'hh_3', 'hh_4', 'hh_5', 'hh_6',\n",
      "       'hh_7', 'hh_8', 'hh_9', 'hh_10', 'hh_11', 'hh_12', 'hh_13', 'hh_14',\n",
      "       'hh_15', 'hh_16', 'hh_17', 'hh_18', 'hh_19', 'hh_20', 'hh_21', 'hh_22',\n",
      "       'hh_23', 'hh_24', 'hh_25', 'hh_26', 'hh_27', 'hh_28', 'hh_29', 'hh_30',\n",
      "       'hh_31', 'hh_32', 'hh_33', 'hh_34', 'hh_35', 'hh_36', 'hh_37', 'hh_38',\n",
      "       'hh_39', 'hh_40', 'hh_41', 'hh_42', 'hh_43', 'hh_44', 'hh_45', 'hh_46',\n",
      "       'hh_47'],\n",
      "      dtype='object')\n",
      "Columns in x after melting: Index(['LCLid', 'day', 'hour_block', 'energy_consumption'], dtype='object')\n",
      "Processing LCLid: MAC003805 with shape: (492, 50)\n",
      "Columns in x before melting: Index(['LCLid', 'day', 'hh_0', 'hh_1', 'hh_2', 'hh_3', 'hh_4', 'hh_5', 'hh_6',\n",
      "       'hh_7', 'hh_8', 'hh_9', 'hh_10', 'hh_11', 'hh_12', 'hh_13', 'hh_14',\n",
      "       'hh_15', 'hh_16', 'hh_17', 'hh_18', 'hh_19', 'hh_20', 'hh_21', 'hh_22',\n",
      "       'hh_23', 'hh_24', 'hh_25', 'hh_26', 'hh_27', 'hh_28', 'hh_29', 'hh_30',\n",
      "       'hh_31', 'hh_32', 'hh_33', 'hh_34', 'hh_35', 'hh_36', 'hh_37', 'hh_38',\n",
      "       'hh_39', 'hh_40', 'hh_41', 'hh_42', 'hh_43', 'hh_44', 'hh_45', 'hh_46',\n",
      "       'hh_47'],\n",
      "      dtype='object')\n",
      "Columns in x after melting: Index(['LCLid', 'day', 'hour_block', 'energy_consumption'], dtype='object')\n",
      "Processing LCLid: MAC003817 with shape: (493, 50)\n",
      "Columns in x before melting: Index(['LCLid', 'day', 'hh_0', 'hh_1', 'hh_2', 'hh_3', 'hh_4', 'hh_5', 'hh_6',\n",
      "       'hh_7', 'hh_8', 'hh_9', 'hh_10', 'hh_11', 'hh_12', 'hh_13', 'hh_14',\n",
      "       'hh_15', 'hh_16', 'hh_17', 'hh_18', 'hh_19', 'hh_20', 'hh_21', 'hh_22',\n",
      "       'hh_23', 'hh_24', 'hh_25', 'hh_26', 'hh_27', 'hh_28', 'hh_29', 'hh_30',\n",
      "       'hh_31', 'hh_32', 'hh_33', 'hh_34', 'hh_35', 'hh_36', 'hh_37', 'hh_38',\n",
      "       'hh_39', 'hh_40', 'hh_41', 'hh_42', 'hh_43', 'hh_44', 'hh_45', 'hh_46',\n",
      "       'hh_47'],\n",
      "      dtype='object')\n",
      "Columns in x after melting: Index(['LCLid', 'day', 'hour_block', 'energy_consumption'], dtype='object')\n",
      "Processing LCLid: MAC003826 with shape: (491, 50)\n",
      "Columns in x before melting: Index(['LCLid', 'day', 'hh_0', 'hh_1', 'hh_2', 'hh_3', 'hh_4', 'hh_5', 'hh_6',\n",
      "       'hh_7', 'hh_8', 'hh_9', 'hh_10', 'hh_11', 'hh_12', 'hh_13', 'hh_14',\n",
      "       'hh_15', 'hh_16', 'hh_17', 'hh_18', 'hh_19', 'hh_20', 'hh_21', 'hh_22',\n",
      "       'hh_23', 'hh_24', 'hh_25', 'hh_26', 'hh_27', 'hh_28', 'hh_29', 'hh_30',\n",
      "       'hh_31', 'hh_32', 'hh_33', 'hh_34', 'hh_35', 'hh_36', 'hh_37', 'hh_38',\n",
      "       'hh_39', 'hh_40', 'hh_41', 'hh_42', 'hh_43', 'hh_44', 'hh_45', 'hh_46',\n",
      "       'hh_47'],\n",
      "      dtype='object')\n",
      "Columns in x after melting: Index(['LCLid', 'day', 'hour_block', 'energy_consumption'], dtype='object')\n"
     ]
    },
    {
     "name": "stdout",
     "output_type": "stream",
     "text": [
      "Processing LCLid: MAC003844 with shape: (488, 50)\n",
      "Columns in x before melting: Index(['LCLid', 'day', 'hh_0', 'hh_1', 'hh_2', 'hh_3', 'hh_4', 'hh_5', 'hh_6',\n",
      "       'hh_7', 'hh_8', 'hh_9', 'hh_10', 'hh_11', 'hh_12', 'hh_13', 'hh_14',\n",
      "       'hh_15', 'hh_16', 'hh_17', 'hh_18', 'hh_19', 'hh_20', 'hh_21', 'hh_22',\n",
      "       'hh_23', 'hh_24', 'hh_25', 'hh_26', 'hh_27', 'hh_28', 'hh_29', 'hh_30',\n",
      "       'hh_31', 'hh_32', 'hh_33', 'hh_34', 'hh_35', 'hh_36', 'hh_37', 'hh_38',\n",
      "       'hh_39', 'hh_40', 'hh_41', 'hh_42', 'hh_43', 'hh_44', 'hh_45', 'hh_46',\n",
      "       'hh_47'],\n",
      "      dtype='object')\n",
      "Columns in x after melting: Index(['LCLid', 'day', 'hour_block', 'energy_consumption'], dtype='object')\n",
      "Processing LCLid: MAC003851 with shape: (489, 50)\n",
      "Columns in x before melting: Index(['LCLid', 'day', 'hh_0', 'hh_1', 'hh_2', 'hh_3', 'hh_4', 'hh_5', 'hh_6',\n",
      "       'hh_7', 'hh_8', 'hh_9', 'hh_10', 'hh_11', 'hh_12', 'hh_13', 'hh_14',\n",
      "       'hh_15', 'hh_16', 'hh_17', 'hh_18', 'hh_19', 'hh_20', 'hh_21', 'hh_22',\n",
      "       'hh_23', 'hh_24', 'hh_25', 'hh_26', 'hh_27', 'hh_28', 'hh_29', 'hh_30',\n",
      "       'hh_31', 'hh_32', 'hh_33', 'hh_34', 'hh_35', 'hh_36', 'hh_37', 'hh_38',\n",
      "       'hh_39', 'hh_40', 'hh_41', 'hh_42', 'hh_43', 'hh_44', 'hh_45', 'hh_46',\n",
      "       'hh_47'],\n",
      "      dtype='object')\n",
      "Columns in x after melting: Index(['LCLid', 'day', 'hour_block', 'energy_consumption'], dtype='object')\n",
      "Processing LCLid: MAC003856 with shape: (484, 50)\n",
      "Columns in x before melting: Index(['LCLid', 'day', 'hh_0', 'hh_1', 'hh_2', 'hh_3', 'hh_4', 'hh_5', 'hh_6',\n",
      "       'hh_7', 'hh_8', 'hh_9', 'hh_10', 'hh_11', 'hh_12', 'hh_13', 'hh_14',\n",
      "       'hh_15', 'hh_16', 'hh_17', 'hh_18', 'hh_19', 'hh_20', 'hh_21', 'hh_22',\n",
      "       'hh_23', 'hh_24', 'hh_25', 'hh_26', 'hh_27', 'hh_28', 'hh_29', 'hh_30',\n",
      "       'hh_31', 'hh_32', 'hh_33', 'hh_34', 'hh_35', 'hh_36', 'hh_37', 'hh_38',\n",
      "       'hh_39', 'hh_40', 'hh_41', 'hh_42', 'hh_43', 'hh_44', 'hh_45', 'hh_46',\n",
      "       'hh_47'],\n",
      "      dtype='object')\n",
      "Columns in x after melting: Index(['LCLid', 'day', 'hour_block', 'energy_consumption'], dtype='object')\n",
      "Processing LCLid: MAC003863 with shape: (487, 50)\n",
      "Columns in x before melting: Index(['LCLid', 'day', 'hh_0', 'hh_1', 'hh_2', 'hh_3', 'hh_4', 'hh_5', 'hh_6',\n",
      "       'hh_7', 'hh_8', 'hh_9', 'hh_10', 'hh_11', 'hh_12', 'hh_13', 'hh_14',\n",
      "       'hh_15', 'hh_16', 'hh_17', 'hh_18', 'hh_19', 'hh_20', 'hh_21', 'hh_22',\n",
      "       'hh_23', 'hh_24', 'hh_25', 'hh_26', 'hh_27', 'hh_28', 'hh_29', 'hh_30',\n",
      "       'hh_31', 'hh_32', 'hh_33', 'hh_34', 'hh_35', 'hh_36', 'hh_37', 'hh_38',\n",
      "       'hh_39', 'hh_40', 'hh_41', 'hh_42', 'hh_43', 'hh_44', 'hh_45', 'hh_46',\n",
      "       'hh_47'],\n",
      "      dtype='object')\n",
      "Columns in x after melting: Index(['LCLid', 'day', 'hour_block', 'energy_consumption'], dtype='object')\n",
      "Processing LCLid: MAC003874 with shape: (487, 50)\n",
      "Columns in x before melting: Index(['LCLid', 'day', 'hh_0', 'hh_1', 'hh_2', 'hh_3', 'hh_4', 'hh_5', 'hh_6',\n",
      "       'hh_7', 'hh_8', 'hh_9', 'hh_10', 'hh_11', 'hh_12', 'hh_13', 'hh_14',\n",
      "       'hh_15', 'hh_16', 'hh_17', 'hh_18', 'hh_19', 'hh_20', 'hh_21', 'hh_22',\n",
      "       'hh_23', 'hh_24', 'hh_25', 'hh_26', 'hh_27', 'hh_28', 'hh_29', 'hh_30',\n",
      "       'hh_31', 'hh_32', 'hh_33', 'hh_34', 'hh_35', 'hh_36', 'hh_37', 'hh_38',\n",
      "       'hh_39', 'hh_40', 'hh_41', 'hh_42', 'hh_43', 'hh_44', 'hh_45', 'hh_46',\n",
      "       'hh_47'],\n",
      "      dtype='object')\n",
      "Columns in x after melting: Index(['LCLid', 'day', 'hour_block', 'energy_consumption'], dtype='object')\n",
      "Processing LCLid: MAC004034 with shape: (435, 50)\n",
      "Columns in x before melting: Index(['LCLid', 'day', 'hh_0', 'hh_1', 'hh_2', 'hh_3', 'hh_4', 'hh_5', 'hh_6',\n",
      "       'hh_7', 'hh_8', 'hh_9', 'hh_10', 'hh_11', 'hh_12', 'hh_13', 'hh_14',\n",
      "       'hh_15', 'hh_16', 'hh_17', 'hh_18', 'hh_19', 'hh_20', 'hh_21', 'hh_22',\n",
      "       'hh_23', 'hh_24', 'hh_25', 'hh_26', 'hh_27', 'hh_28', 'hh_29', 'hh_30',\n",
      "       'hh_31', 'hh_32', 'hh_33', 'hh_34', 'hh_35', 'hh_36', 'hh_37', 'hh_38',\n",
      "       'hh_39', 'hh_40', 'hh_41', 'hh_42', 'hh_43', 'hh_44', 'hh_45', 'hh_46',\n",
      "       'hh_47'],\n",
      "      dtype='object')\n",
      "Columns in x after melting: Index(['LCLid', 'day', 'hour_block', 'energy_consumption'], dtype='object')\n",
      "Processing LCLid: MAC004179 with shape: (646, 50)\n",
      "Columns in x before melting: Index(['LCLid', 'day', 'hh_0', 'hh_1', 'hh_2', 'hh_3', 'hh_4', 'hh_5', 'hh_6',\n",
      "       'hh_7', 'hh_8', 'hh_9', 'hh_10', 'hh_11', 'hh_12', 'hh_13', 'hh_14',\n",
      "       'hh_15', 'hh_16', 'hh_17', 'hh_18', 'hh_19', 'hh_20', 'hh_21', 'hh_22',\n",
      "       'hh_23', 'hh_24', 'hh_25', 'hh_26', 'hh_27', 'hh_28', 'hh_29', 'hh_30',\n",
      "       'hh_31', 'hh_32', 'hh_33', 'hh_34', 'hh_35', 'hh_36', 'hh_37', 'hh_38',\n",
      "       'hh_39', 'hh_40', 'hh_41', 'hh_42', 'hh_43', 'hh_44', 'hh_45', 'hh_46',\n",
      "       'hh_47'],\n",
      "      dtype='object')\n",
      "Columns in x after melting: Index(['LCLid', 'day', 'hour_block', 'energy_consumption'], dtype='object')\n",
      "Processing LCLid: MAC004247 with shape: (637, 50)\n",
      "Columns in x before melting: Index(['LCLid', 'day', 'hh_0', 'hh_1', 'hh_2', 'hh_3', 'hh_4', 'hh_5', 'hh_6',\n",
      "       'hh_7', 'hh_8', 'hh_9', 'hh_10', 'hh_11', 'hh_12', 'hh_13', 'hh_14',\n",
      "       'hh_15', 'hh_16', 'hh_17', 'hh_18', 'hh_19', 'hh_20', 'hh_21', 'hh_22',\n",
      "       'hh_23', 'hh_24', 'hh_25', 'hh_26', 'hh_27', 'hh_28', 'hh_29', 'hh_30',\n",
      "       'hh_31', 'hh_32', 'hh_33', 'hh_34', 'hh_35', 'hh_36', 'hh_37', 'hh_38',\n",
      "       'hh_39', 'hh_40', 'hh_41', 'hh_42', 'hh_43', 'hh_44', 'hh_45', 'hh_46',\n",
      "       'hh_47'],\n",
      "      dtype='object')\n",
      "Columns in x after melting: Index(['LCLid', 'day', 'hour_block', 'energy_consumption'], dtype='object')\n",
      "Processing LCLid: MAC004319 with shape: (642, 50)\n",
      "Columns in x before melting: Index(['LCLid', 'day', 'hh_0', 'hh_1', 'hh_2', 'hh_3', 'hh_4', 'hh_5', 'hh_6',\n",
      "       'hh_7', 'hh_8', 'hh_9', 'hh_10', 'hh_11', 'hh_12', 'hh_13', 'hh_14',\n",
      "       'hh_15', 'hh_16', 'hh_17', 'hh_18', 'hh_19', 'hh_20', 'hh_21', 'hh_22',\n",
      "       'hh_23', 'hh_24', 'hh_25', 'hh_26', 'hh_27', 'hh_28', 'hh_29', 'hh_30',\n",
      "       'hh_31', 'hh_32', 'hh_33', 'hh_34', 'hh_35', 'hh_36', 'hh_37', 'hh_38',\n",
      "       'hh_39', 'hh_40', 'hh_41', 'hh_42', 'hh_43', 'hh_44', 'hh_45', 'hh_46',\n",
      "       'hh_47'],\n",
      "      dtype='object')\n",
      "Columns in x after melting: Index(['LCLid', 'day', 'hour_block', 'energy_consumption'], dtype='object')\n",
      "Processing LCLid: MAC004387 with shape: (708, 50)\n",
      "Columns in x before melting: Index(['LCLid', 'day', 'hh_0', 'hh_1', 'hh_2', 'hh_3', 'hh_4', 'hh_5', 'hh_6',\n",
      "       'hh_7', 'hh_8', 'hh_9', 'hh_10', 'hh_11', 'hh_12', 'hh_13', 'hh_14',\n",
      "       'hh_15', 'hh_16', 'hh_17', 'hh_18', 'hh_19', 'hh_20', 'hh_21', 'hh_22',\n",
      "       'hh_23', 'hh_24', 'hh_25', 'hh_26', 'hh_27', 'hh_28', 'hh_29', 'hh_30',\n",
      "       'hh_31', 'hh_32', 'hh_33', 'hh_34', 'hh_35', 'hh_36', 'hh_37', 'hh_38',\n",
      "       'hh_39', 'hh_40', 'hh_41', 'hh_42', 'hh_43', 'hh_44', 'hh_45', 'hh_46',\n",
      "       'hh_47'],\n",
      "      dtype='object')\n",
      "Columns in x after melting: Index(['LCLid', 'day', 'hour_block', 'energy_consumption'], dtype='object')\n",
      "Processing LCLid: MAC004431 with shape: (697, 50)\n",
      "Columns in x before melting: Index(['LCLid', 'day', 'hh_0', 'hh_1', 'hh_2', 'hh_3', 'hh_4', 'hh_5', 'hh_6',\n",
      "       'hh_7', 'hh_8', 'hh_9', 'hh_10', 'hh_11', 'hh_12', 'hh_13', 'hh_14',\n",
      "       'hh_15', 'hh_16', 'hh_17', 'hh_18', 'hh_19', 'hh_20', 'hh_21', 'hh_22',\n",
      "       'hh_23', 'hh_24', 'hh_25', 'hh_26', 'hh_27', 'hh_28', 'hh_29', 'hh_30',\n",
      "       'hh_31', 'hh_32', 'hh_33', 'hh_34', 'hh_35', 'hh_36', 'hh_37', 'hh_38',\n",
      "       'hh_39', 'hh_40', 'hh_41', 'hh_42', 'hh_43', 'hh_44', 'hh_45', 'hh_46',\n",
      "       'hh_47'],\n",
      "      dtype='object')\n",
      "Columns in x after melting: Index(['LCLid', 'day', 'hour_block', 'energy_consumption'], dtype='object')\n",
      "Processing LCLid: MAC005492 with shape: (549, 50)\n",
      "Columns in x before melting: Index(['LCLid', 'day', 'hh_0', 'hh_1', 'hh_2', 'hh_3', 'hh_4', 'hh_5', 'hh_6',\n",
      "       'hh_7', 'hh_8', 'hh_9', 'hh_10', 'hh_11', 'hh_12', 'hh_13', 'hh_14',\n",
      "       'hh_15', 'hh_16', 'hh_17', 'hh_18', 'hh_19', 'hh_20', 'hh_21', 'hh_22',\n",
      "       'hh_23', 'hh_24', 'hh_25', 'hh_26', 'hh_27', 'hh_28', 'hh_29', 'hh_30',\n",
      "       'hh_31', 'hh_32', 'hh_33', 'hh_34', 'hh_35', 'hh_36', 'hh_37', 'hh_38',\n",
      "       'hh_39', 'hh_40', 'hh_41', 'hh_42', 'hh_43', 'hh_44', 'hh_45', 'hh_46',\n",
      "       'hh_47'],\n",
      "      dtype='object')\n",
      "Columns in x after melting: Index(['LCLid', 'day', 'hour_block', 'energy_consumption'], dtype='object')\n"
     ]
    },
    {
     "name": "stdout",
     "output_type": "stream",
     "text": [
      "Shape of concatenated DataFrame: (1229280, 4)\n"
     ]
    },
    {
     "name": "stderr",
     "output_type": "stream",
     "text": [
      "/var/folders/s0/hts3dbss56x0x2f85v7w1p6r0000gn/T/ipykernel_11591/3763361935.py:29: PerformanceWarning: Adding/subtracting object-dtype array to DatetimeArray not vectorized.\n",
      "  block_df['timestamp'] = block_df['day'] + block_df['offset'] * 30 * pd.offsets.Minute()\n"
     ]
    },
    {
     "name": "stdout",
     "output_type": "stream",
     "text": [
      "Number of null timestamps: 0\n",
      "Final shape of block_df before return: (1229280, 4)\n",
      "Resulting DataFrame shape: (1229280, 4)\n",
      "       LCLid  energy_consumption            timestamp frequency\n",
      "0  MAC000002               0.263  2012-10-13 00:00:00     30min\n",
      "1  MAC000002               0.269  2012-10-13 00:30:00     30min\n",
      "2  MAC000002               0.275  2012-10-13 01:00:00     30min\n",
      "3  MAC000002               0.256  2012-10-13 01:30:00     30min\n",
      "4  MAC000002               0.211  2012-10-13 02:00:00     30min\n"
     ]
    }
   ],
   "source": [
    "def load_process_block_expanded(block_df, freq=\"30min\"):\n",
    "    print(\"Initial shape of block_df:\", block_df.shape)  # Print shape from the start\n",
    "\n",
    "    grps = block_df.groupby('LCLid')\n",
    "    all_series = []\n",
    "\n",
    "    for idx, df in tqdm(grps, leave=False):\n",
    "        print(f\"Processing LCLid: {idx} with shape: {df.shape}\")\n",
    "        ts = preprocess_expanded(df)\n",
    "        all_series.append(ts)\n",
    "\n",
    "    if not all_series:\n",
    "        print(\"No series generated from groups.\")\n",
    "        return pd.DataFrame()  # Return empty DataFrame if no groups processed\n",
    "\n",
    "    block_df = pd.concat(all_series)\n",
    "\n",
    "    # Debugging the shape of block_df after concatenation\n",
    "    print(\"Shape of concatenated DataFrame:\", block_df.shape)\n",
    "\n",
    "    if block_df.empty:\n",
    "        print(\"Concatenated DataFrame is empty.\")\n",
    "        return block_df  # Return empty DataFrame\n",
    "\n",
    "    # Recreate Offset because there would be null rows now\n",
    "    block_df['offset'] = block_df['hour_block'].str.replace(\"hh_\", \"\").astype(int)\n",
    "\n",
    "    # Creating a datetime column with the date\n",
    "    block_df['timestamp'] = block_df['day'] + block_df['offset'] * 30 * pd.offsets.Minute()\n",
    "\n",
    "    print(\"Number of null timestamps:\", block_df['timestamp'].isnull().sum())\n",
    "\n",
    "    block_df['frequency'] = freq\n",
    "    block_df.sort_values([\"LCLid\", \"timestamp\"], inplace=True)\n",
    "\n",
    "    # Ensure columns to drop exist before dropping\n",
    "    cols_to_drop = [\"_\", \"hour_block\", \"offset\", \"day\"]\n",
    "    existing_cols_to_drop = [col for col in cols_to_drop if col in block_df.columns]\n",
    "    block_df.drop(columns=existing_cols_to_drop, inplace=True)\n",
    "\n",
    "    print(\"Final shape of block_df before return:\", block_df.shape)  # Print the final shape\n",
    "    return block_df\n",
    "\n",
    "# Call the function and check the returned DataFrame\n",
    "block1_expanded = load_process_block_expanded(block_1, freq=\"30min\")\n",
    "print(\"Resulting DataFrame shape:\", block1_expanded.shape)\n",
    "print(block1_expanded.head())"
   ]
  },
  {
   "cell_type": "code",
   "execution_count": 295,
   "id": "b7a43cd6",
   "metadata": {},
   "outputs": [
    {
     "data": {
      "text/plain": [
       "Index                 9834240\n",
       "LCLid                 9834240\n",
       "energy_consumption    9834240\n",
       "timestamp             9834240\n",
       "frequency             9834240\n",
       "dtype: int64"
      ]
     },
     "metadata": {},
     "output_type": "display_data"
    },
    {
     "name": "stdout",
     "output_type": "stream",
     "text": [
      "Total: 46.893310546875 MB\n"
     ]
    }
   ],
   "source": [
    "display(block1_expanded.memory_usage())\n",
    "print(f\"Total: {block1_expanded.memory_usage().sum()/1024**2} MB\")"
   ]
  },
  {
   "cell_type": "code",
   "execution_count": 296,
   "id": "3aea6ad1",
   "metadata": {},
   "outputs": [],
   "source": [
    "del block1_expanded, block_1, block1_compact"
   ]
  },
  {
   "cell_type": "code",
   "execution_count": 298,
   "id": "c01fe9b3",
   "metadata": {
    "scrolled": true
   },
   "outputs": [
    {
     "data": {
      "application/vnd.jupyter.widget-view+json": {
       "model_id": "9e41ba8f87684a0c857ebc09d4e1c73a",
       "version_major": 2,
       "version_minor": 0
      },
      "text/plain": [
       "Processing Blocks..:   0%|          | 0/1 [00:00<?, ?it/s]"
      ]
     },
     "metadata": {},
     "output_type": "display_data"
    },
    {
     "data": {
      "application/vnd.jupyter.widget-view+json": {
       "model_id": "",
       "version_major": 2,
       "version_minor": 0
      },
      "text/plain": [
       "  0%|          | 0/50 [00:00<?, ?it/s]"
      ]
     },
     "metadata": {},
     "output_type": "display_data"
    }
   ],
   "source": [
    "block_df_l = []\n",
    "for file in tqdm(sorted(list(block_data_path.glob(\"*.csv\"))), desc=\"Processing Blocks..\"):\n",
    "    block_df = pd.read_csv(file, parse_dates=False)\n",
    "    block_df['day'] = pd.to_datetime(block_df['day'], yearfirst=True)\n",
    "    # Taking only from 2012-01-01\n",
    "    block_df = block_df.loc[block_df['day']>=\"2012-01-01\"]\n",
    "    #Reshaping the dataframe into the long form with hour blocks along the rows\n",
    "    block_df = block_df.set_index(['LCLid', \"day\"]).stack().reset_index().rename(columns={\"level_2\": \"hour_block\", 0: \"energy_consumption\"})\n",
    "    #Creating a numerical hourblock column\n",
    "    block_df['offset'] = block_df['hour_block'].str.replace(\"hh_\", \"\").astype(int)\n",
    "    block_df_l.append(load_process_block_compact(block_df, freq=\"30min\", ts_identifier=\"LCLid\", value_name=\"energy_consumption\"))"
   ]
  },
  {
   "cell_type": "code",
   "execution_count": 307,
   "id": "0be9a640",
   "metadata": {},
   "outputs": [],
   "source": [
    "def load_process_block_expanded(block_df, freq=\"30min\"):\n",
    "    print(\"Initial shape of block_df:\", block_df.shape)\n",
    "    \n",
    "    block_df_l = []  # Define block_df_l as an empty list here\n",
    "\n",
    "    grps = block_df.groupby('LCLid')\n",
    "    \n",
    "    for idx, df in tqdm(grps, leave=False):\n",
    "        print(f\"Processing LCLid: {idx} with shape: {df.shape}\")\n",
    "        ts = preprocess_expanded(df)\n",
    "        block_df_l.append(ts)  # Store each processed DataFrame in block_df_l\n",
    "\n",
    "    # Concatenate all DataFrames in block_df_l afterwards\n",
    "    hhblock_df = pd.concat(block_df_l)\n",
    "    \n",
    "    return hhblock_df  \n"
   ]
  },
  {
   "cell_type": "code",
   "execution_count": 310,
   "id": "2bc9320f",
   "metadata": {},
   "outputs": [
    {
     "data": {
      "text/plain": [
       "Index                  132\n",
       "LCLid                 2900\n",
       "start_timestamp        400\n",
       "frequency             2700\n",
       "energy_consumption    6000\n",
       "series_length          400\n",
       "dtype: int64"
      ]
     },
     "metadata": {},
     "output_type": "display_data"
    },
    {
     "name": "stdout",
     "output_type": "stream",
     "text": [
      "Total: 0.01 MB\n"
     ]
    }
   ],
   "source": [
    "display(hhblock_df.memory_usage(deep=True))\n",
    "print(f\"Total: {hhblock_df.memory_usage(deep=True).sum()/1024**2:.2f} MB\")"
   ]
  },
  {
   "cell_type": "code",
   "execution_count": 312,
   "id": "856079b7",
   "metadata": {},
   "outputs": [
    {
     "data": {
      "text/html": [
       "<div>\n",
       "<style scoped>\n",
       "    .dataframe tbody tr th:only-of-type {\n",
       "        vertical-align: middle;\n",
       "    }\n",
       "\n",
       "    .dataframe tbody tr th {\n",
       "        vertical-align: top;\n",
       "    }\n",
       "\n",
       "    .dataframe thead th {\n",
       "        text-align: right;\n",
       "    }\n",
       "</style>\n",
       "<table border=\"1\" class=\"dataframe\">\n",
       "  <thead>\n",
       "    <tr style=\"text-align: right;\">\n",
       "      <th></th>\n",
       "      <th>LCLid</th>\n",
       "      <th>start_timestamp</th>\n",
       "      <th>frequency</th>\n",
       "      <th>energy_consumption</th>\n",
       "      <th>series_length</th>\n",
       "    </tr>\n",
       "  </thead>\n",
       "  <tbody>\n",
       "    <tr>\n",
       "      <th>0</th>\n",
       "      <td>MAC000002</td>\n",
       "      <td>2012-10-13</td>\n",
       "      <td>30min</td>\n",
       "      <td>[0.263, 0.076, 0.133, 0.085, 0.263, 0.134, 0.2...</td>\n",
       "      <td>23903</td>\n",
       "    </tr>\n",
       "    <tr>\n",
       "      <th>1</th>\n",
       "      <td>MAC000246</td>\n",
       "      <td>2012-01-01</td>\n",
       "      <td>30min</td>\n",
       "      <td>[0.509, 0.789, 0.315, 0.356, 0.605, 1.095, 0.9...</td>\n",
       "      <td>37727</td>\n",
       "    </tr>\n",
       "    <tr>\n",
       "      <th>2</th>\n",
       "      <td>MAC000450</td>\n",
       "      <td>2012-03-23</td>\n",
       "      <td>30min</td>\n",
       "      <td>[1.337, 1.012, 0.826, 0.8420000000000001, 0.87...</td>\n",
       "      <td>19679</td>\n",
       "    </tr>\n",
       "    <tr>\n",
       "      <th>3</th>\n",
       "      <td>MAC001074</td>\n",
       "      <td>2012-05-09</td>\n",
       "      <td>30min</td>\n",
       "      <td>[0.18, 0.222, 0.39, 0.089, 0.125, 0.1669999999...</td>\n",
       "      <td>10655</td>\n",
       "    </tr>\n",
       "    <tr>\n",
       "      <th>4</th>\n",
       "      <td>MAC003223</td>\n",
       "      <td>2012-09-18</td>\n",
       "      <td>30min</td>\n",
       "      <td>[0.076, 0.077, 0.072, 0.085, 0.623, 0.476, 0.2...</td>\n",
       "      <td>25247</td>\n",
       "    </tr>\n",
       "  </tbody>\n",
       "</table>\n",
       "</div>"
      ],
      "text/plain": [
       "       LCLid start_timestamp frequency  \\\n",
       "0  MAC000002      2012-10-13     30min   \n",
       "1  MAC000246      2012-01-01     30min   \n",
       "2  MAC000450      2012-03-23     30min   \n",
       "3  MAC001074      2012-05-09     30min   \n",
       "4  MAC003223      2012-09-18     30min   \n",
       "\n",
       "                                  energy_consumption  series_length  \n",
       "0  [0.263, 0.076, 0.133, 0.085, 0.263, 0.134, 0.2...          23903  \n",
       "1  [0.509, 0.789, 0.315, 0.356, 0.605, 1.095, 0.9...          37727  \n",
       "2  [1.337, 1.012, 0.826, 0.8420000000000001, 0.87...          19679  \n",
       "3  [0.18, 0.222, 0.39, 0.089, 0.125, 0.1669999999...          10655  \n",
       "4  [0.076, 0.077, 0.072, 0.085, 0.623, 0.476, 0.2...          25247  "
      ]
     },
     "execution_count": 312,
     "metadata": {},
     "output_type": "execute_result"
    }
   ],
   "source": [
    "hhblock_df.head()"
   ]
  },
  {
   "cell_type": "markdown",
   "id": "06d822ae",
   "metadata": {},
   "source": [
    "# Merging additional information\n",
    "# Household information"
   ]
  },
  {
   "cell_type": "code",
   "execution_count": 15,
   "id": "cb8feea8",
   "metadata": {},
   "outputs": [
    {
     "data": {
      "text/html": [
       "<div>\n",
       "<style scoped>\n",
       "    .dataframe tbody tr th:only-of-type {\n",
       "        vertical-align: middle;\n",
       "    }\n",
       "\n",
       "    .dataframe tbody tr th {\n",
       "        vertical-align: top;\n",
       "    }\n",
       "\n",
       "    .dataframe thead th {\n",
       "        text-align: right;\n",
       "    }\n",
       "</style>\n",
       "<table border=\"1\" class=\"dataframe\">\n",
       "  <thead>\n",
       "    <tr style=\"text-align: right;\">\n",
       "      <th></th>\n",
       "      <th>LCLid</th>\n",
       "      <th>stdorToU</th>\n",
       "      <th>Acorn</th>\n",
       "      <th>Acorn_grouped</th>\n",
       "      <th>file</th>\n",
       "    </tr>\n",
       "  </thead>\n",
       "  <tbody>\n",
       "    <tr>\n",
       "      <th>0</th>\n",
       "      <td>MAC005492</td>\n",
       "      <td>ToU</td>\n",
       "      <td>ACORN-</td>\n",
       "      <td>ACORN-</td>\n",
       "      <td>block_0</td>\n",
       "    </tr>\n",
       "    <tr>\n",
       "      <th>1</th>\n",
       "      <td>MAC001074</td>\n",
       "      <td>ToU</td>\n",
       "      <td>ACORN-</td>\n",
       "      <td>ACORN-</td>\n",
       "      <td>block_0</td>\n",
       "    </tr>\n",
       "    <tr>\n",
       "      <th>2</th>\n",
       "      <td>MAC000002</td>\n",
       "      <td>Std</td>\n",
       "      <td>ACORN-A</td>\n",
       "      <td>Affluent</td>\n",
       "      <td>block_0</td>\n",
       "    </tr>\n",
       "    <tr>\n",
       "      <th>3</th>\n",
       "      <td>MAC003613</td>\n",
       "      <td>Std</td>\n",
       "      <td>ACORN-A</td>\n",
       "      <td>Affluent</td>\n",
       "      <td>block_0</td>\n",
       "    </tr>\n",
       "    <tr>\n",
       "      <th>4</th>\n",
       "      <td>MAC003597</td>\n",
       "      <td>Std</td>\n",
       "      <td>ACORN-A</td>\n",
       "      <td>Affluent</td>\n",
       "      <td>block_0</td>\n",
       "    </tr>\n",
       "  </tbody>\n",
       "</table>\n",
       "</div>"
      ],
      "text/plain": [
       "       LCLid stdorToU    Acorn Acorn_grouped     file\n",
       "0  MAC005492      ToU   ACORN-        ACORN-  block_0\n",
       "1  MAC001074      ToU   ACORN-        ACORN-  block_0\n",
       "2  MAC000002      Std  ACORN-A      Affluent  block_0\n",
       "3  MAC003613      Std  ACORN-A      Affluent  block_0\n",
       "4  MAC003597      Std  ACORN-A      Affluent  block_0"
      ]
     },
     "execution_count": 15,
     "metadata": {},
     "output_type": "execute_result"
    }
   ],
   "source": [
    "household_info = pd.read_csv(\"data/london_smart_meters/hhblock_dataset/informations_households.csv\")\n",
    "household_info.head()"
   ]
  },
  {
   "cell_type": "code",
   "execution_count": 22,
   "id": "72a3e046",
   "metadata": {},
   "outputs": [
    {
     "name": "stdout",
     "output_type": "stream",
     "text": [
      "['.DS_Store', 'hhblock_dataset', 'uk_bank_holidays.csv', 'block_1.csv', 'block_0.csv', 'informations_households.csv', 'weather_hourly_darksky.csv']\n"
     ]
    }
   ],
   "source": [
    "import pandas as pd\n",
    "import os\n",
    "import glob\n",
    "# Define the path to the folder containing all CSV files\n",
    "hhblock_path = \"data/london_smart_meters/hhblock_dataset\"\n",
    "# List all files in the hhblock_dataset directory\n",
    "print(os.listdir(hhblock_path))\n"
   ]
  },
  {
   "cell_type": "code",
   "execution_count": 31,
   "id": "8c01df0f",
   "metadata": {},
   "outputs": [
    {
     "name": "stdout",
     "output_type": "stream",
     "text": [
      "Found CSV files: ['data/london_smart_meters/hhblock_dataset/uk_bank_holidays.csv', 'data/london_smart_meters/hhblock_dataset/block_1.csv', 'data/london_smart_meters/hhblock_dataset/block_0.csv', 'data/london_smart_meters/hhblock_dataset/informations_households.csv', 'data/london_smart_meters/hhblock_dataset/weather_hourly_darksky.csv']\n"
     ]
    }
   ],
   "source": [
    "# Get a list of all CSV files in the directory\n",
    "csv_files = glob.glob(os.path.join(hhblock_path, \"*.csv\"))\n",
    "\n",
    "# Print the list of CSV files\n",
    "print(f\"Found CSV files: {csv_files}\")\n",
    "\n",
    "# Combine all CSV files into a single DataFrame\n",
    "\n",
    "dataframes = [pd.read_csv(file, on_bad_lines=\"skip\") for file in csv_files]\n",
    "\n",
    "hhblock_df = pd.concat(dataframes, ignore_index=True)\n",
    "temp_df = pd.read_csv(csv_files[0], on_bad_lines=\"skip\")  # Example: Reading the first file"
   ]
  },
  {
   "cell_type": "code",
   "execution_count": 49,
   "id": "11cac245",
   "metadata": {},
   "outputs": [],
   "source": [
    "import pandas as pd\n",
    "\n",
    "file_path = \"data/london_smart_meters/hhblock_dataset/processed_smart_meters.csv\"\n",
    "\n",
    "# Load with specified data types to avoid mixed types\n",
    "df = pd.read_csv(file_path, dtype={\"column_name_50\": str, \"column_name_51\": str, \n",
    "                                   \"column_name_52\": str, \"column_name_53\": str}, \n",
    "                 low_memory=False)\n",
    "\n",
    "# Drop the unwanted HTML-related column if it exists\n",
    "if \"<!doctype html>\" in df.columns:\n",
    "    df.drop(columns=[\"<!doctype html>\"], inplace=True)\n",
    "\n",
    "# Save the cleaned dataset\n",
    "df.to_csv(file_path, index=False)\n",
    "\n",
    "# ✅ Fixed f-string issue\n",
    "\n"
   ]
  },
  {
   "cell_type": "code",
   "execution_count": 52,
   "id": "8550b03c",
   "metadata": {},
   "outputs": [
    {
     "data": {
      "text/html": [
       "<div>\n",
       "<style scoped>\n",
       "    .dataframe tbody tr th:only-of-type {\n",
       "        vertical-align: middle;\n",
       "    }\n",
       "\n",
       "    .dataframe tbody tr th {\n",
       "        vertical-align: top;\n",
       "    }\n",
       "\n",
       "    .dataframe thead th {\n",
       "        text-align: right;\n",
       "    }\n",
       "</style>\n",
       "<table border=\"1\" class=\"dataframe\">\n",
       "  <thead>\n",
       "    <tr style=\"text-align: right;\">\n",
       "      <th></th>\n",
       "      <th>LCLid</th>\n",
       "      <th>day</th>\n",
       "      <th>hh_0</th>\n",
       "      <th>hh_1</th>\n",
       "      <th>hh_2</th>\n",
       "      <th>hh_3</th>\n",
       "      <th>hh_4</th>\n",
       "      <th>hh_5</th>\n",
       "      <th>hh_6</th>\n",
       "      <th>hh_7</th>\n",
       "      <th>...</th>\n",
       "      <th>hh_46</th>\n",
       "      <th>hh_47</th>\n",
       "      <th>stdorToU_x</th>\n",
       "      <th>Acorn_x</th>\n",
       "      <th>Acorn_grouped_x</th>\n",
       "      <th>file_x</th>\n",
       "      <th>stdorToU_y</th>\n",
       "      <th>Acorn_y</th>\n",
       "      <th>Acorn_grouped_y</th>\n",
       "      <th>file_y</th>\n",
       "    </tr>\n",
       "  </thead>\n",
       "  <tbody>\n",
       "    <tr>\n",
       "      <th>0</th>\n",
       "      <td>MAC000323</td>\n",
       "      <td>2012-03-07</td>\n",
       "      <td>0.15</td>\n",
       "      <td>0.114</td>\n",
       "      <td>0.054</td>\n",
       "      <td>0.107</td>\n",
       "      <td>0.107</td>\n",
       "      <td>0.078</td>\n",
       "      <td>0.0819999999999999</td>\n",
       "      <td>0.105</td>\n",
       "      <td>...</td>\n",
       "      <td>0.397</td>\n",
       "      <td>0.098</td>\n",
       "      <td>NaN</td>\n",
       "      <td>NaN</td>\n",
       "      <td>NaN</td>\n",
       "      <td>NaN</td>\n",
       "      <td>Std</td>\n",
       "      <td>ACORN-A</td>\n",
       "      <td>Affluent</td>\n",
       "      <td>block_1</td>\n",
       "    </tr>\n",
       "    <tr>\n",
       "      <th>1</th>\n",
       "      <td>MAC000323</td>\n",
       "      <td>2012-03-08</td>\n",
       "      <td>0.111</td>\n",
       "      <td>0.088</td>\n",
       "      <td>0.066</td>\n",
       "      <td>0.105</td>\n",
       "      <td>0.113</td>\n",
       "      <td>0.059</td>\n",
       "      <td>0.093</td>\n",
       "      <td>0.1119999999999999</td>\n",
       "      <td>...</td>\n",
       "      <td>0.63</td>\n",
       "      <td>0.8420000000000001</td>\n",
       "      <td>NaN</td>\n",
       "      <td>NaN</td>\n",
       "      <td>NaN</td>\n",
       "      <td>NaN</td>\n",
       "      <td>Std</td>\n",
       "      <td>ACORN-A</td>\n",
       "      <td>Affluent</td>\n",
       "      <td>block_1</td>\n",
       "    </tr>\n",
       "    <tr>\n",
       "      <th>2</th>\n",
       "      <td>MAC000323</td>\n",
       "      <td>2012-03-09</td>\n",
       "      <td>0.6990000000000001</td>\n",
       "      <td>0.462</td>\n",
       "      <td>0.1169999999999999</td>\n",
       "      <td>0.108</td>\n",
       "      <td>0.081</td>\n",
       "      <td>0.086</td>\n",
       "      <td>0.102</td>\n",
       "      <td>0.09</td>\n",
       "      <td>...</td>\n",
       "      <td>0.745</td>\n",
       "      <td>0.7</td>\n",
       "      <td>NaN</td>\n",
       "      <td>NaN</td>\n",
       "      <td>NaN</td>\n",
       "      <td>NaN</td>\n",
       "      <td>Std</td>\n",
       "      <td>ACORN-A</td>\n",
       "      <td>Affluent</td>\n",
       "      <td>block_1</td>\n",
       "    </tr>\n",
       "    <tr>\n",
       "      <th>3</th>\n",
       "      <td>MAC000323</td>\n",
       "      <td>2012-03-10</td>\n",
       "      <td>0.614</td>\n",
       "      <td>0.608</td>\n",
       "      <td>0.488</td>\n",
       "      <td>0.371</td>\n",
       "      <td>0.111</td>\n",
       "      <td>0.128</td>\n",
       "      <td>0.245</td>\n",
       "      <td>0.226</td>\n",
       "      <td>...</td>\n",
       "      <td>0.555</td>\n",
       "      <td>0.2769999999999999</td>\n",
       "      <td>NaN</td>\n",
       "      <td>NaN</td>\n",
       "      <td>NaN</td>\n",
       "      <td>NaN</td>\n",
       "      <td>Std</td>\n",
       "      <td>ACORN-A</td>\n",
       "      <td>Affluent</td>\n",
       "      <td>block_1</td>\n",
       "    </tr>\n",
       "    <tr>\n",
       "      <th>4</th>\n",
       "      <td>MAC000323</td>\n",
       "      <td>2012-03-11</td>\n",
       "      <td>0.106</td>\n",
       "      <td>0.064</td>\n",
       "      <td>0.114</td>\n",
       "      <td>0.138</td>\n",
       "      <td>0.0969999999999999</td>\n",
       "      <td>0.062</td>\n",
       "      <td>0.113</td>\n",
       "      <td>0.147</td>\n",
       "      <td>...</td>\n",
       "      <td>0.732</td>\n",
       "      <td>0.2739999999999999</td>\n",
       "      <td>NaN</td>\n",
       "      <td>NaN</td>\n",
       "      <td>NaN</td>\n",
       "      <td>NaN</td>\n",
       "      <td>Std</td>\n",
       "      <td>ACORN-A</td>\n",
       "      <td>Affluent</td>\n",
       "      <td>block_1</td>\n",
       "    </tr>\n",
       "  </tbody>\n",
       "</table>\n",
       "<p>5 rows × 58 columns</p>\n",
       "</div>"
      ],
      "text/plain": [
       "       LCLid         day                hh_0   hh_1                hh_2  \\\n",
       "0  MAC000323  2012-03-07                0.15  0.114               0.054   \n",
       "1  MAC000323  2012-03-08               0.111  0.088               0.066   \n",
       "2  MAC000323  2012-03-09  0.6990000000000001  0.462  0.1169999999999999   \n",
       "3  MAC000323  2012-03-10               0.614  0.608               0.488   \n",
       "4  MAC000323  2012-03-11               0.106  0.064               0.114   \n",
       "\n",
       "    hh_3                hh_4   hh_5                hh_6                hh_7  \\\n",
       "0  0.107               0.107  0.078  0.0819999999999999               0.105   \n",
       "1  0.105               0.113  0.059               0.093  0.1119999999999999   \n",
       "2  0.108               0.081  0.086               0.102                0.09   \n",
       "3  0.371               0.111  0.128               0.245               0.226   \n",
       "4  0.138  0.0969999999999999  0.062               0.113               0.147   \n",
       "\n",
       "   ...  hh_46               hh_47 stdorToU_x Acorn_x Acorn_grouped_x file_x  \\\n",
       "0  ...  0.397               0.098        NaN     NaN             NaN    NaN   \n",
       "1  ...   0.63  0.8420000000000001        NaN     NaN             NaN    NaN   \n",
       "2  ...  0.745                 0.7        NaN     NaN             NaN    NaN   \n",
       "3  ...  0.555  0.2769999999999999        NaN     NaN             NaN    NaN   \n",
       "4  ...  0.732  0.2739999999999999        NaN     NaN             NaN    NaN   \n",
       "\n",
       "  stdorToU_y  Acorn_y Acorn_grouped_y   file_y  \n",
       "0        Std  ACORN-A        Affluent  block_1  \n",
       "1        Std  ACORN-A        Affluent  block_1  \n",
       "2        Std  ACORN-A        Affluent  block_1  \n",
       "3        Std  ACORN-A        Affluent  block_1  \n",
       "4        Std  ACORN-A        Affluent  block_1  \n",
       "\n",
       "[5 rows x 58 columns]"
      ]
     },
     "execution_count": 52,
     "metadata": {},
     "output_type": "execute_result"
    }
   ],
   "source": [
    "import pandas as pd\n",
    "\n",
    "file_path = \"data/london_smart_meters/hhblock_dataset/processed_smart_meters.csv\"\n",
    "\n",
    "# Load the CSV while treating specific columns as strings\n",
    "df = pd.read_csv(file_path, dtype=str, low_memory=False)\n",
    "\n",
    "# Display first few rows\n",
    "df.head()\n"
   ]
  },
  {
   "cell_type": "code",
   "execution_count": 54,
   "id": "644e991d",
   "metadata": {},
   "outputs": [
    {
     "data": {
      "text/html": [
       "<div>\n",
       "<style scoped>\n",
       "    .dataframe tbody tr th:only-of-type {\n",
       "        vertical-align: middle;\n",
       "    }\n",
       "\n",
       "    .dataframe tbody tr th {\n",
       "        vertical-align: top;\n",
       "    }\n",
       "\n",
       "    .dataframe thead th {\n",
       "        text-align: right;\n",
       "    }\n",
       "</style>\n",
       "<table border=\"1\" class=\"dataframe\">\n",
       "  <thead>\n",
       "    <tr style=\"text-align: right;\">\n",
       "      <th></th>\n",
       "      <th>LCLid</th>\n",
       "      <th>day</th>\n",
       "      <th>hh_0</th>\n",
       "      <th>hh_1</th>\n",
       "      <th>hh_2</th>\n",
       "      <th>hh_3</th>\n",
       "      <th>hh_4</th>\n",
       "      <th>hh_5</th>\n",
       "      <th>hh_6</th>\n",
       "      <th>hh_7</th>\n",
       "      <th>...</th>\n",
       "      <th>hh_46</th>\n",
       "      <th>hh_47</th>\n",
       "      <th>stdorToU_x</th>\n",
       "      <th>Acorn_x</th>\n",
       "      <th>Acorn_grouped_x</th>\n",
       "      <th>file_x</th>\n",
       "      <th>stdorToU_y</th>\n",
       "      <th>Acorn_y</th>\n",
       "      <th>Acorn_grouped_y</th>\n",
       "      <th>file_y</th>\n",
       "    </tr>\n",
       "  </thead>\n",
       "  <tbody>\n",
       "    <tr>\n",
       "      <th>0</th>\n",
       "      <td>MAC000323</td>\n",
       "      <td>2012-03-07</td>\n",
       "      <td>0.150</td>\n",
       "      <td>0.114</td>\n",
       "      <td>0.054</td>\n",
       "      <td>0.107</td>\n",
       "      <td>0.107</td>\n",
       "      <td>0.078</td>\n",
       "      <td>0.082</td>\n",
       "      <td>0.105</td>\n",
       "      <td>...</td>\n",
       "      <td>0.397</td>\n",
       "      <td>0.098</td>\n",
       "      <td>NaN</td>\n",
       "      <td>NaN</td>\n",
       "      <td>NaN</td>\n",
       "      <td>NaN</td>\n",
       "      <td>Std</td>\n",
       "      <td>ACORN-A</td>\n",
       "      <td>Affluent</td>\n",
       "      <td>block_1</td>\n",
       "    </tr>\n",
       "    <tr>\n",
       "      <th>1</th>\n",
       "      <td>MAC000323</td>\n",
       "      <td>2012-03-08</td>\n",
       "      <td>0.111</td>\n",
       "      <td>0.088</td>\n",
       "      <td>0.066</td>\n",
       "      <td>0.105</td>\n",
       "      <td>0.113</td>\n",
       "      <td>0.059</td>\n",
       "      <td>0.093</td>\n",
       "      <td>0.112</td>\n",
       "      <td>...</td>\n",
       "      <td>0.630</td>\n",
       "      <td>0.842</td>\n",
       "      <td>NaN</td>\n",
       "      <td>NaN</td>\n",
       "      <td>NaN</td>\n",
       "      <td>NaN</td>\n",
       "      <td>Std</td>\n",
       "      <td>ACORN-A</td>\n",
       "      <td>Affluent</td>\n",
       "      <td>block_1</td>\n",
       "    </tr>\n",
       "    <tr>\n",
       "      <th>2</th>\n",
       "      <td>MAC000323</td>\n",
       "      <td>2012-03-09</td>\n",
       "      <td>0.699</td>\n",
       "      <td>0.462</td>\n",
       "      <td>0.117</td>\n",
       "      <td>0.108</td>\n",
       "      <td>0.081</td>\n",
       "      <td>0.086</td>\n",
       "      <td>0.102</td>\n",
       "      <td>0.090</td>\n",
       "      <td>...</td>\n",
       "      <td>0.745</td>\n",
       "      <td>0.700</td>\n",
       "      <td>NaN</td>\n",
       "      <td>NaN</td>\n",
       "      <td>NaN</td>\n",
       "      <td>NaN</td>\n",
       "      <td>Std</td>\n",
       "      <td>ACORN-A</td>\n",
       "      <td>Affluent</td>\n",
       "      <td>block_1</td>\n",
       "    </tr>\n",
       "    <tr>\n",
       "      <th>3</th>\n",
       "      <td>MAC000323</td>\n",
       "      <td>2012-03-10</td>\n",
       "      <td>0.614</td>\n",
       "      <td>0.608</td>\n",
       "      <td>0.488</td>\n",
       "      <td>0.371</td>\n",
       "      <td>0.111</td>\n",
       "      <td>0.128</td>\n",
       "      <td>0.245</td>\n",
       "      <td>0.226</td>\n",
       "      <td>...</td>\n",
       "      <td>0.555</td>\n",
       "      <td>0.277</td>\n",
       "      <td>NaN</td>\n",
       "      <td>NaN</td>\n",
       "      <td>NaN</td>\n",
       "      <td>NaN</td>\n",
       "      <td>Std</td>\n",
       "      <td>ACORN-A</td>\n",
       "      <td>Affluent</td>\n",
       "      <td>block_1</td>\n",
       "    </tr>\n",
       "    <tr>\n",
       "      <th>4</th>\n",
       "      <td>MAC000323</td>\n",
       "      <td>2012-03-11</td>\n",
       "      <td>0.106</td>\n",
       "      <td>0.064</td>\n",
       "      <td>0.114</td>\n",
       "      <td>0.138</td>\n",
       "      <td>0.097</td>\n",
       "      <td>0.062</td>\n",
       "      <td>0.113</td>\n",
       "      <td>0.147</td>\n",
       "      <td>...</td>\n",
       "      <td>0.732</td>\n",
       "      <td>0.274</td>\n",
       "      <td>NaN</td>\n",
       "      <td>NaN</td>\n",
       "      <td>NaN</td>\n",
       "      <td>NaN</td>\n",
       "      <td>Std</td>\n",
       "      <td>ACORN-A</td>\n",
       "      <td>Affluent</td>\n",
       "      <td>block_1</td>\n",
       "    </tr>\n",
       "  </tbody>\n",
       "</table>\n",
       "<p>5 rows × 58 columns</p>\n",
       "</div>"
      ],
      "text/plain": [
       "       LCLid         day   hh_0   hh_1   hh_2   hh_3   hh_4   hh_5   hh_6  \\\n",
       "0  MAC000323  2012-03-07  0.150  0.114  0.054  0.107  0.107  0.078  0.082   \n",
       "1  MAC000323  2012-03-08  0.111  0.088  0.066  0.105  0.113  0.059  0.093   \n",
       "2  MAC000323  2012-03-09  0.699  0.462  0.117  0.108  0.081  0.086  0.102   \n",
       "3  MAC000323  2012-03-10  0.614  0.608  0.488  0.371  0.111  0.128  0.245   \n",
       "4  MAC000323  2012-03-11  0.106  0.064  0.114  0.138  0.097  0.062  0.113   \n",
       "\n",
       "    hh_7  ...  hh_46  hh_47  stdorToU_x  Acorn_x  Acorn_grouped_x  file_x  \\\n",
       "0  0.105  ...  0.397  0.098         NaN      NaN              NaN     NaN   \n",
       "1  0.112  ...  0.630  0.842         NaN      NaN              NaN     NaN   \n",
       "2  0.090  ...  0.745  0.700         NaN      NaN              NaN     NaN   \n",
       "3  0.226  ...  0.555  0.277         NaN      NaN              NaN     NaN   \n",
       "4  0.147  ...  0.732  0.274         NaN      NaN              NaN     NaN   \n",
       "\n",
       "   stdorToU_y  Acorn_y  Acorn_grouped_y   file_y  \n",
       "0         Std  ACORN-A         Affluent  block_1  \n",
       "1         Std  ACORN-A         Affluent  block_1  \n",
       "2         Std  ACORN-A         Affluent  block_1  \n",
       "3         Std  ACORN-A         Affluent  block_1  \n",
       "4         Std  ACORN-A         Affluent  block_1  \n",
       "\n",
       "[5 rows x 58 columns]"
      ]
     },
     "execution_count": 54,
     "metadata": {},
     "output_type": "execute_result"
    }
   ],
   "source": [
    "# Convert numerical columns while keeping categorical data intact\n",
    "for col in df.columns:\n",
    "    if col.startswith(\"hh_\"):  # Apply to half-hourly consumption data\n",
    "        df[col] = pd.to_numeric(df[col], errors='coerce')  # Convert to float\n",
    "\n",
    "# Display first few rows again\n",
    "df.head()\n"
   ]
  },
  {
   "cell_type": "code",
   "execution_count": 57,
   "id": "b5a00309",
   "metadata": {},
   "outputs": [],
   "source": [
    "# Check missing values\n",
    "missing_values = df.isnull().sum()\n",
    "missing_values[missing_values > 0]\n",
    "df_cleaned = df.dropna()\n"
   ]
  },
  {
   "cell_type": "code",
   "execution_count": 59,
   "id": "b98e5981",
   "metadata": {},
   "outputs": [
    {
     "data": {
      "text/html": [
       "<div>\n",
       "<style scoped>\n",
       "    .dataframe tbody tr th:only-of-type {\n",
       "        vertical-align: middle;\n",
       "    }\n",
       "\n",
       "    .dataframe tbody tr th {\n",
       "        vertical-align: top;\n",
       "    }\n",
       "\n",
       "    .dataframe thead th {\n",
       "        text-align: right;\n",
       "    }\n",
       "</style>\n",
       "<table border=\"1\" class=\"dataframe\">\n",
       "  <thead>\n",
       "    <tr style=\"text-align: right;\">\n",
       "      <th></th>\n",
       "      <th>hh_0</th>\n",
       "      <th>hh_1</th>\n",
       "      <th>hh_2</th>\n",
       "      <th>hh_3</th>\n",
       "      <th>hh_4</th>\n",
       "      <th>hh_5</th>\n",
       "      <th>hh_6</th>\n",
       "      <th>hh_7</th>\n",
       "      <th>hh_8</th>\n",
       "      <th>hh_9</th>\n",
       "      <th>...</th>\n",
       "      <th>hh_38</th>\n",
       "      <th>hh_39</th>\n",
       "      <th>hh_40</th>\n",
       "      <th>hh_41</th>\n",
       "      <th>hh_42</th>\n",
       "      <th>hh_43</th>\n",
       "      <th>hh_44</th>\n",
       "      <th>hh_45</th>\n",
       "      <th>hh_46</th>\n",
       "      <th>hh_47</th>\n",
       "    </tr>\n",
       "  </thead>\n",
       "  <tbody>\n",
       "    <tr>\n",
       "      <th>count</th>\n",
       "      <td>0.0</td>\n",
       "      <td>0.0</td>\n",
       "      <td>0.0</td>\n",
       "      <td>0.0</td>\n",
       "      <td>0.0</td>\n",
       "      <td>0.0</td>\n",
       "      <td>0.0</td>\n",
       "      <td>0.0</td>\n",
       "      <td>0.0</td>\n",
       "      <td>0.0</td>\n",
       "      <td>...</td>\n",
       "      <td>0.0</td>\n",
       "      <td>0.0</td>\n",
       "      <td>0.0</td>\n",
       "      <td>0.0</td>\n",
       "      <td>0.0</td>\n",
       "      <td>0.0</td>\n",
       "      <td>0.0</td>\n",
       "      <td>0.0</td>\n",
       "      <td>0.0</td>\n",
       "      <td>0.0</td>\n",
       "    </tr>\n",
       "    <tr>\n",
       "      <th>mean</th>\n",
       "      <td>NaN</td>\n",
       "      <td>NaN</td>\n",
       "      <td>NaN</td>\n",
       "      <td>NaN</td>\n",
       "      <td>NaN</td>\n",
       "      <td>NaN</td>\n",
       "      <td>NaN</td>\n",
       "      <td>NaN</td>\n",
       "      <td>NaN</td>\n",
       "      <td>NaN</td>\n",
       "      <td>...</td>\n",
       "      <td>NaN</td>\n",
       "      <td>NaN</td>\n",
       "      <td>NaN</td>\n",
       "      <td>NaN</td>\n",
       "      <td>NaN</td>\n",
       "      <td>NaN</td>\n",
       "      <td>NaN</td>\n",
       "      <td>NaN</td>\n",
       "      <td>NaN</td>\n",
       "      <td>NaN</td>\n",
       "    </tr>\n",
       "    <tr>\n",
       "      <th>std</th>\n",
       "      <td>NaN</td>\n",
       "      <td>NaN</td>\n",
       "      <td>NaN</td>\n",
       "      <td>NaN</td>\n",
       "      <td>NaN</td>\n",
       "      <td>NaN</td>\n",
       "      <td>NaN</td>\n",
       "      <td>NaN</td>\n",
       "      <td>NaN</td>\n",
       "      <td>NaN</td>\n",
       "      <td>...</td>\n",
       "      <td>NaN</td>\n",
       "      <td>NaN</td>\n",
       "      <td>NaN</td>\n",
       "      <td>NaN</td>\n",
       "      <td>NaN</td>\n",
       "      <td>NaN</td>\n",
       "      <td>NaN</td>\n",
       "      <td>NaN</td>\n",
       "      <td>NaN</td>\n",
       "      <td>NaN</td>\n",
       "    </tr>\n",
       "    <tr>\n",
       "      <th>min</th>\n",
       "      <td>NaN</td>\n",
       "      <td>NaN</td>\n",
       "      <td>NaN</td>\n",
       "      <td>NaN</td>\n",
       "      <td>NaN</td>\n",
       "      <td>NaN</td>\n",
       "      <td>NaN</td>\n",
       "      <td>NaN</td>\n",
       "      <td>NaN</td>\n",
       "      <td>NaN</td>\n",
       "      <td>...</td>\n",
       "      <td>NaN</td>\n",
       "      <td>NaN</td>\n",
       "      <td>NaN</td>\n",
       "      <td>NaN</td>\n",
       "      <td>NaN</td>\n",
       "      <td>NaN</td>\n",
       "      <td>NaN</td>\n",
       "      <td>NaN</td>\n",
       "      <td>NaN</td>\n",
       "      <td>NaN</td>\n",
       "    </tr>\n",
       "    <tr>\n",
       "      <th>25%</th>\n",
       "      <td>NaN</td>\n",
       "      <td>NaN</td>\n",
       "      <td>NaN</td>\n",
       "      <td>NaN</td>\n",
       "      <td>NaN</td>\n",
       "      <td>NaN</td>\n",
       "      <td>NaN</td>\n",
       "      <td>NaN</td>\n",
       "      <td>NaN</td>\n",
       "      <td>NaN</td>\n",
       "      <td>...</td>\n",
       "      <td>NaN</td>\n",
       "      <td>NaN</td>\n",
       "      <td>NaN</td>\n",
       "      <td>NaN</td>\n",
       "      <td>NaN</td>\n",
       "      <td>NaN</td>\n",
       "      <td>NaN</td>\n",
       "      <td>NaN</td>\n",
       "      <td>NaN</td>\n",
       "      <td>NaN</td>\n",
       "    </tr>\n",
       "    <tr>\n",
       "      <th>50%</th>\n",
       "      <td>NaN</td>\n",
       "      <td>NaN</td>\n",
       "      <td>NaN</td>\n",
       "      <td>NaN</td>\n",
       "      <td>NaN</td>\n",
       "      <td>NaN</td>\n",
       "      <td>NaN</td>\n",
       "      <td>NaN</td>\n",
       "      <td>NaN</td>\n",
       "      <td>NaN</td>\n",
       "      <td>...</td>\n",
       "      <td>NaN</td>\n",
       "      <td>NaN</td>\n",
       "      <td>NaN</td>\n",
       "      <td>NaN</td>\n",
       "      <td>NaN</td>\n",
       "      <td>NaN</td>\n",
       "      <td>NaN</td>\n",
       "      <td>NaN</td>\n",
       "      <td>NaN</td>\n",
       "      <td>NaN</td>\n",
       "    </tr>\n",
       "    <tr>\n",
       "      <th>75%</th>\n",
       "      <td>NaN</td>\n",
       "      <td>NaN</td>\n",
       "      <td>NaN</td>\n",
       "      <td>NaN</td>\n",
       "      <td>NaN</td>\n",
       "      <td>NaN</td>\n",
       "      <td>NaN</td>\n",
       "      <td>NaN</td>\n",
       "      <td>NaN</td>\n",
       "      <td>NaN</td>\n",
       "      <td>...</td>\n",
       "      <td>NaN</td>\n",
       "      <td>NaN</td>\n",
       "      <td>NaN</td>\n",
       "      <td>NaN</td>\n",
       "      <td>NaN</td>\n",
       "      <td>NaN</td>\n",
       "      <td>NaN</td>\n",
       "      <td>NaN</td>\n",
       "      <td>NaN</td>\n",
       "      <td>NaN</td>\n",
       "    </tr>\n",
       "    <tr>\n",
       "      <th>max</th>\n",
       "      <td>NaN</td>\n",
       "      <td>NaN</td>\n",
       "      <td>NaN</td>\n",
       "      <td>NaN</td>\n",
       "      <td>NaN</td>\n",
       "      <td>NaN</td>\n",
       "      <td>NaN</td>\n",
       "      <td>NaN</td>\n",
       "      <td>NaN</td>\n",
       "      <td>NaN</td>\n",
       "      <td>...</td>\n",
       "      <td>NaN</td>\n",
       "      <td>NaN</td>\n",
       "      <td>NaN</td>\n",
       "      <td>NaN</td>\n",
       "      <td>NaN</td>\n",
       "      <td>NaN</td>\n",
       "      <td>NaN</td>\n",
       "      <td>NaN</td>\n",
       "      <td>NaN</td>\n",
       "      <td>NaN</td>\n",
       "    </tr>\n",
       "  </tbody>\n",
       "</table>\n",
       "<p>8 rows × 48 columns</p>\n",
       "</div>"
      ],
      "text/plain": [
       "       hh_0  hh_1  hh_2  hh_3  hh_4  hh_5  hh_6  hh_7  hh_8  hh_9  ...  hh_38  \\\n",
       "count   0.0   0.0   0.0   0.0   0.0   0.0   0.0   0.0   0.0   0.0  ...    0.0   \n",
       "mean    NaN   NaN   NaN   NaN   NaN   NaN   NaN   NaN   NaN   NaN  ...    NaN   \n",
       "std     NaN   NaN   NaN   NaN   NaN   NaN   NaN   NaN   NaN   NaN  ...    NaN   \n",
       "min     NaN   NaN   NaN   NaN   NaN   NaN   NaN   NaN   NaN   NaN  ...    NaN   \n",
       "25%     NaN   NaN   NaN   NaN   NaN   NaN   NaN   NaN   NaN   NaN  ...    NaN   \n",
       "50%     NaN   NaN   NaN   NaN   NaN   NaN   NaN   NaN   NaN   NaN  ...    NaN   \n",
       "75%     NaN   NaN   NaN   NaN   NaN   NaN   NaN   NaN   NaN   NaN  ...    NaN   \n",
       "max     NaN   NaN   NaN   NaN   NaN   NaN   NaN   NaN   NaN   NaN  ...    NaN   \n",
       "\n",
       "       hh_39  hh_40  hh_41  hh_42  hh_43  hh_44  hh_45  hh_46  hh_47  \n",
       "count    0.0    0.0    0.0    0.0    0.0    0.0    0.0    0.0    0.0  \n",
       "mean     NaN    NaN    NaN    NaN    NaN    NaN    NaN    NaN    NaN  \n",
       "std      NaN    NaN    NaN    NaN    NaN    NaN    NaN    NaN    NaN  \n",
       "min      NaN    NaN    NaN    NaN    NaN    NaN    NaN    NaN    NaN  \n",
       "25%      NaN    NaN    NaN    NaN    NaN    NaN    NaN    NaN    NaN  \n",
       "50%      NaN    NaN    NaN    NaN    NaN    NaN    NaN    NaN    NaN  \n",
       "75%      NaN    NaN    NaN    NaN    NaN    NaN    NaN    NaN    NaN  \n",
       "max      NaN    NaN    NaN    NaN    NaN    NaN    NaN    NaN    NaN  \n",
       "\n",
       "[8 rows x 48 columns]"
      ]
     },
     "execution_count": 59,
     "metadata": {},
     "output_type": "execute_result"
    }
   ],
   "source": [
    "df_cleaned.describe()\n",
    "\n"
   ]
  },
  {
   "cell_type": "code",
   "execution_count": 61,
   "id": "0c7e979a",
   "metadata": {},
   "outputs": [
    {
     "data": {
      "text/plain": [
       "LCLid              0\n",
       "day                0\n",
       "hh_0               0\n",
       "hh_1               0\n",
       "hh_2               0\n",
       "hh_3               0\n",
       "hh_4               0\n",
       "hh_5               0\n",
       "hh_6               0\n",
       "hh_7               0\n",
       "hh_8               0\n",
       "hh_9               0\n",
       "hh_10              0\n",
       "hh_11              0\n",
       "hh_12              0\n",
       "hh_13              0\n",
       "hh_14              0\n",
       "hh_15              0\n",
       "hh_16              0\n",
       "hh_17              0\n",
       "hh_18              0\n",
       "hh_19              0\n",
       "hh_20              0\n",
       "hh_21              0\n",
       "hh_22              0\n",
       "hh_23              0\n",
       "hh_24              0\n",
       "hh_25              0\n",
       "hh_26              0\n",
       "hh_27              0\n",
       "hh_28              0\n",
       "hh_29              0\n",
       "hh_30              0\n",
       "hh_31              0\n",
       "hh_32              0\n",
       "hh_33              0\n",
       "hh_34              0\n",
       "hh_35              0\n",
       "hh_36              0\n",
       "hh_37              0\n",
       "hh_38              0\n",
       "hh_39              0\n",
       "hh_40              0\n",
       "hh_41              0\n",
       "hh_42              0\n",
       "hh_43              0\n",
       "hh_44              0\n",
       "hh_45              0\n",
       "hh_46              0\n",
       "hh_47              0\n",
       "stdorToU_x         0\n",
       "Acorn_x            0\n",
       "Acorn_grouped_x    0\n",
       "file_x             0\n",
       "stdorToU_y         0\n",
       "Acorn_y            0\n",
       "Acorn_grouped_y    0\n",
       "file_y             0\n",
       "dtype: int64"
      ]
     },
     "execution_count": 61,
     "metadata": {},
     "output_type": "execute_result"
    }
   ],
   "source": [
    "df_cleaned.nunique()\n"
   ]
  },
  {
   "cell_type": "code",
   "execution_count": 63,
   "id": "27b85d7b",
   "metadata": {},
   "outputs": [
    {
     "name": "stdout",
     "output_type": "stream",
     "text": [
      "datetime64[ns]\n"
     ]
    }
   ],
   "source": [
    "import matplotlib.pyplot as plt\n",
    "df_cleaned['day'] = pd.to_datetime(df_cleaned['day'], errors='coerce')\n",
    "print(df_cleaned['day'].dtypes)\n",
    "\n"
   ]
  },
  {
   "cell_type": "code",
   "execution_count": 74,
   "id": "5365492b",
   "metadata": {},
   "outputs": [],
   "source": [
    "df['day'] = pd.to_datetime(df['day'], errors='coerce')\n"
   ]
  },
  {
   "cell_type": "code",
   "execution_count": 79,
   "id": "e6438c69",
   "metadata": {},
   "outputs": [],
   "source": [
    "\n",
    "df_cleaned = df.dropna()\n"
   ]
  },
  {
   "cell_type": "code",
   "execution_count": 82,
   "id": "8138108b",
   "metadata": {},
   "outputs": [
    {
     "name": "stdout",
     "output_type": "stream",
     "text": [
      "(0, 58)\n"
     ]
    }
   ],
   "source": [
    "print(df_cleaned.shape)\n"
   ]
  },
  {
   "cell_type": "code",
   "execution_count": 83,
   "id": "10dc6136",
   "metadata": {},
   "outputs": [
    {
     "name": "stdout",
     "output_type": "stream",
     "text": [
      "(56529, 58)\n"
     ]
    }
   ],
   "source": [
    "df_cleaned = df.dropna(subset=['day'])  # Drops only rows where 'day' is missing\n",
    "print(df_cleaned.shape)\n"
   ]
  },
  {
   "cell_type": "code",
   "execution_count": 87,
   "id": "d05967d6",
   "metadata": {},
   "outputs": [
    {
     "name": "stdout",
     "output_type": "stream",
     "text": [
      "0\n"
     ]
    },
    {
     "data": {
      "image/png": "[encoded data removed]",
      "text/plain": [
       "<Figure size 1200x600 with 1 Axes>"
      ]
     },
     "metadata": {},
     "output_type": "display_data"
    }
   ],
   "source": [
    "df_cleaned = df_cleaned.fillna(0)  # Replaces all NaN values with 0\n",
    "print(df_cleaned.isnull().sum().sum())  # Should print 0 if all missing values are filled\n",
    "import matplotlib.pyplot as plt\n",
    "\n",
    "# Aggregate data by day\n",
    "df_grouped = df_cleaned.groupby(\"day\").sum()\n",
    "\n",
    "# Plot\n",
    "plt.figure(figsize=(12, 6))\n",
    "plt.plot(df_grouped.index, df_grouped[\"hh_0\"], label=\"hh_0 (Midnight Usage)\")\n",
    "plt.xlabel(\"Date\")\n",
    "plt.ylabel(\"Energy Consumption (kWh)\")\n",
    "plt.title(\"Daily Energy Consumption Over Time\")\n",
    "plt.legend()\n",
    "plt.xticks(rotation=45)\n",
    "plt.show()\n"
   ]
  },
  {
   "cell_type": "code",
   "execution_count": 90,
   "id": "71a6696e",
   "metadata": {},
   "outputs": [
    {
     "name": "stdout",
     "output_type": "stream",
     "text": [
      "✅ Cleaned dataset saved as 'cleaned_smart_meters.csv'\n"
     ]
    }
   ],
   "source": [
    "df_cleaned.to_csv(\"cleaned_smart_meters.csv\", index=False)\n",
    "print(\"✅ Cleaned dataset saved as 'cleaned_smart_meters.csv'\")\n"
   ]
  },
  {
   "cell_type": "code",
   "execution_count": 94,
   "id": "5ff25f88",
   "metadata": {},
   "outputs": [
    {
     "data": {
      "image/png": "[encoded data removed]",
      "text/plain": [
       "<Figure size 1000x600 with 1 Axes>"
      ]
     },
     "metadata": {},
     "output_type": "display_data"
    }
   ],
   "source": [
    "import seaborn as sns\n",
    "\n",
    "plt.figure(figsize=(10, 6))\n",
    "sns.histplot(df_cleaned[\"hh_0\"], bins=50, kde=True)\n",
    "plt.xlabel(\"Energy Consumption (kWh)\")\n",
    "plt.ylabel(\"Frequency\")\n",
    "plt.title(\"Distribution of Midnight Energy Consumption (hh_0)\")\n",
    "plt.show()\n"
   ]
  },
  {
   "cell_type": "code",
   "execution_count": null,
   "id": "d2b5240a",
   "metadata": {},
   "outputs": [],
   "source": []
  }
 ],
 "metadata": {
  "kernelspec": {
   "display_name": "Python 3.9 (Anaconda)",
   "language": "python",
   "name": "python39"
  },
  "language_info": {
   "codemirror_mode": {
    "name": "ipython",
    "version": 3
   },
   "file_extension": ".py",
   "mimetype": "text/x-python",
   "name": "python",
   "nbconvert_exporter": "python",
   "pygments_lexer": "ipython3",
   "version": "3.12.2"
  }
 },
 "nbformat": 4,
 "nbformat_minor": 5
}
