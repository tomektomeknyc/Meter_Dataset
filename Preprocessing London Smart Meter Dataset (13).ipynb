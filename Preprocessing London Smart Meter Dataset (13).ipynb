{
 "cells": [
  {
   "cell_type": "code",
   "execution_count": 95,
   "id": "9a219525",
   "metadata": {
    "scrolled": true
   },
   "outputs": [
    {
     "name": "stdout",
     "output_type": "stream",
     "text": [
      "Kaggle API is authenticated and ready to use!\n"
     ]
    }
   ],
   "source": [
    "#  from kaggle.api.kaggle_api_extended import KaggleApi\n",
    "\n",
    "#  api = KaggleApi()\n",
    "#  api.authenticate()\n",
    "#  print(\"Kaggle API is installed and working!\")\n",
    "# from kaggle.api.kaggle_api_extended import KaggleApi\n",
    "\n",
    "# Initialize and authenticate the Kaggle API\n",
    "# api = KaggleApi()\n",
    "# api.authenticate()\n",
    "\n",
    "# Test the API (e.g., list datasets)\n",
    "#print(api.datasets_list())\n",
    "import sys\n",
    "!{sys.executable} -m pip install seaborn --no-cache-dir\n",
    "import seaborn\n",
    "print(\"✅ Seaborn is successfully installed.\")\n",
    "\n",
    "\n",
    "\n",
    "import os\n",
    "\n",
    "from kaggle.api.kaggle_api_extended import KaggleApi\n",
    "\n",
    "# Hardcode Kaggle API credentials temporarily\n",
    "os.environ['KAGGLE_USERNAME'] = \"tomekosuchowski\"\n",
    "os.environ['KAGGLE_KEY'] = \"678afd0466b69c907aabc7eb0620f1e0\"\n",
    "\n",
    "api = KaggleApi()\n",
    "api.authenticate()\n",
    "print(\"Kaggle API is authenticated and ready to use!\")"
   ]
  },
  {
   "cell_type": "code",
   "execution_count": 96,
   "id": "364f171c",
   "metadata": {},
   "outputs": [
    {
     "name": "stdout",
     "output_type": "stream",
     "text": [
      "KAGGLE_USERNAME: tomekosuchowski\n",
      "KAGGLE_KEY: 678afd0466b69c907aabc7eb0620f1e0\n"
     ]
    }
   ],
   "source": [
    "import os\n",
    "print(\"KAGGLE_USERNAME:\", os.getenv(\"KAGGLE_USERNAME\"))\n",
    "print(\"KAGGLE_KEY:\", os.getenv(\"KAGGLE_KEY\"))"
   ]
  },
  {
   "cell_type": "code",
   "execution_count": 97,
   "id": "0fad9a42",
   "metadata": {},
   "outputs": [
    {
     "name": "stdout",
     "output_type": "stream",
     "text": [
      "Kaggle API authentication successful!\n"
     ]
    }
   ],
   "source": [
    "from kaggle.api.kaggle_api_extended import KaggleApi\n",
    "\n",
    "api = KaggleApi()\n",
    "api.authenticate()\n",
    "\n",
    "print(\"Kaggle API authentication successful!\")"
   ]
  },
  {
   "cell_type": "code",
   "execution_count": 98,
   "id": "2f30a5f2",
   "metadata": {},
   "outputs": [
    {
     "name": "stdout",
     "output_type": "stream",
     "text": [
      "https://www.kaggle.com/competitions/ai-mathematical-olympiad-progress-prize-2: AI Mathematical Olympiad - Progress Prize 2\n",
      "https://www.kaggle.com/competitions/konwinski-prize: Konwinski Prize\n",
      "https://www.kaggle.com/competitions/czii-cryo-et-object-identification: CZII - CryoET Object Identification\n",
      "https://www.kaggle.com/competitions/equity-post-HCT-survival-predictions: CIBMTR - Equity in post-HCT Survival Predictions\n",
      "https://www.kaggle.com/competitions/santa-2024: Santa 2024 - The Perplexity Permutation Puzzle\n"
     ]
    }
   ],
   "source": [
    "competitions = api.competitions_list()\n",
    "for comp in competitions[:5]:  # Show first 5 competitions\n",
    "    print(f\"{comp.ref}: {comp.title}\")\n"
   ]
  },
  {
   "cell_type": "code",
   "execution_count": 99,
   "id": "ac10e7ff",
   "metadata": {},
   "outputs": [],
   "source": [
    "import random\n",
    "import numpy as np\n",
    "import matplotlib.pyplot as plt\n",
    "import plotly.express as px\n",
    "import os\n",
    "import kaggle\n",
    "import plotly.io as pio\n",
    "pio.templates.default = \"plotly_white\"\n",
    "import pandas as pd\n",
    "from pathlib import Path\n",
    "from tqdm.autonotebook import tqdm\n",
    "# %load_ext autoreload\n",
    "# %autoreload 2\n",
    "np.random.seed()\n",
    "tqdm.pandas()"
   ]
  },
  {
   "cell_type": "code",
   "execution_count": 185,
   "id": "67d9d049",
   "metadata": {},
   "outputs": [
    {
     "name": "stdout",
     "output_type": "stream",
     "text": [
      "✅ File loaded successfully.\n",
      "block_1 type: <class 'pandas.core.frame.DataFrame'>\n",
      "block_1 shape: (31243, 50)\n",
      "       LCLid         day   hh_0   hh_1   hh_2   hh_3   hh_4   hh_5   hh_6  \\\n",
      "0  MAC000323  2012-03-07  0.150  0.114  0.054  0.107  0.107  0.078  0.082   \n",
      "1  MAC000323  2012-03-08  0.111  0.088  0.066  0.105  0.113  0.059  0.093   \n",
      "2  MAC000323  2012-03-09  0.699  0.462  0.117  0.108  0.081  0.086  0.102   \n",
      "3  MAC000323  2012-03-10  0.614  0.608  0.488  0.371  0.111  0.128  0.245   \n",
      "4  MAC000323  2012-03-11  0.106  0.064  0.114  0.138  0.097  0.062  0.113   \n",
      "\n",
      "    hh_7  ...  hh_38  hh_39  hh_40  hh_41  hh_42  hh_43  hh_44  hh_45  hh_46  \\\n",
      "0  0.105  ...  1.475  1.199  0.925  0.701  0.744  0.655  0.686  0.711  0.397   \n",
      "1  0.112  ...  0.496  1.032  0.564  0.608  0.691  0.596  0.700  1.086  0.630   \n",
      "2  0.090  ...  1.587  1.445  1.081  1.022  0.772  0.684  0.731  0.849  0.745   \n",
      "3  0.226  ...  0.691  0.902  0.933  1.166  1.189  1.222  0.619  0.472  0.555   \n",
      "4  0.147  ...  1.286  1.272  1.694  1.940  1.884  1.010  0.731  0.812  0.732   \n",
      "\n",
      "   hh_47  \n",
      "0  0.098  \n",
      "1  0.842  \n",
      "2  0.700  \n",
      "3  0.277  \n",
      "4  0.274  \n",
      "\n",
      "[5 rows x 50 columns]\n"
     ]
    }
   ],
   "source": [
    "from pathlib import Path\n",
    "import pandas as pd\n",
    "\n",
    "# Define file path\n",
    "block_data_path = Path(\"data/block_1.csv\")\n",
    "block_file = pd.read_csv(block_data_path)\n",
    "block_data_path = Path(\"data/block_1.csv\")\n",
    "\n",
    "# Load the file safely\n",
    "if block_data_path.exists():\n",
    "    block_1 = pd.read_csv(block_data_path, parse_dates=False)\n",
    "    print(\"✅ File loaded successfully.\")\n",
    "    print(\"block_1 type:\", type(block_1))\n",
    "    print(\"block_1 shape:\", block_1.shape)\n",
    "    print(block_1.head())\n",
    "else:\n",
    "    print(f\"❌ File not found: {block_file}\")\n",
    "    block_1 = None\n"
   ]
  },
  {
   "cell_type": "code",
   "execution_count": 188,
   "id": "3f242cc9",
   "metadata": {},
   "outputs": [
    {
     "name": "stdout",
     "output_type": "stream",
     "text": [
      "Current working directory: /Users/tomaszosuchowski\n",
      "✅ File found!\n",
      "LCLid\n",
      "MAC002025   2014-02-27\n",
      "MAC001510   2014-02-27\n",
      "MAC001251   2014-02-27\n",
      "MAC002314   2014-02-27\n",
      "MAC001628   2014-02-27\n",
      "Name: day, dtype: datetime64[ns]\n"
     ]
    }
   ],
   "source": [
    "from pathlib import Path\n",
    "import pandas as pd\n",
    "\n",
    "# Define file path\n",
    "block_data_path = Path(\"data/block_1.csv\")\n",
    "block_file = pd.read_csv(block_data_path)\n",
    "\n",
    "import os\n",
    "print(\"Current working directory:\", os.getcwd())\n",
    "\n",
    "if not block_data_path.exists():\n",
    "    print(f\"❌ File not found: {block_file}. Current working directory: {os.getcwd()}\")\n",
    "else:\n",
    "    print(\"✅ File found!\")\n",
    "\n",
    "\n",
    "# Check if the file exists\n",
    "if block_data_path.exists():\n",
    "    # Load the CSV file\n",
    "    block_1 = pd.read_csv(block_data_path, parse_dates=False)\n",
    "    \n",
    "    # Convert 'day' column to datetime if it exists\n",
    "    if 'day' in block_1.columns:\n",
    "        block_1['day'] = pd.to_datetime(block_1['day'], errors='coerce', yearfirst=True)\n",
    "        \n",
    "        # Check for invalid dates\n",
    "        if block_1['day'].isna().any():\n",
    "            print(\"❌ Warning: 'day' column contains invalid dates.\")\n",
    "    \n",
    "    # Validate `block_1` and required columns\n",
    "    if block_1 is not None and 'LCLid' in block_1.columns and 'day' in block_1.columns:\n",
    "        # Group by 'LCLid' and find max dates\n",
    "        result = block_1.groupby(\"LCLid\")['day'].max().sample(5)\n",
    "        print(result)\n",
    "    else:\n",
    "        print(\"❌ block_1 is None or missing required columns.\")\n",
    "else:\n",
    "    print(f\"❌ File not found: {block_file}\")\n"
   ]
  },
  {
   "cell_type": "markdown",
   "id": "e3efe5ed",
   "metadata": {},
   "source": [
    "# Reading data to pandas dataframe\n",
    "Let's use London Smart Meters dataset from Kaggle for the current exercise. The source of the data is from London Data Store and Jean-Michel D. has augumented the dataset with a few more details and packaged it as a Kaggle Dataset.\n",
    "\n",
    "# About the Dataset\n",
    "London Data Store, free and open data-sharing portal, provided this dataset, which was collected and enriched by Jean-Michel D and uploaded on Kaggle @ https://www.kaggle.com/jeanmidev/smart-meters-in-london. The dataset has energy consumption readings for a sample of 5,567 London Households that took part in the UK Power Networks led Low Carbon London project between November 2011 and February 2014. Readings were taken at half hourly intervals. Some metadata about the households are also available as part of the dataset.\n",
    "\n",
    "# Data Wrangling\n",
    "The Kaggle dataset also has the time series data preprocessed on a daily level and combined all the separate files, etc. But let’s ignore those files and start with the raw files, which is in the hhblock_dataset folder."
   ]
  },
  {
   "cell_type": "code",
   "execution_count": 100,
   "id": "f515403c",
   "metadata": {},
   "outputs": [],
   "source": [
    "# # Define file path\n",
    "# block_data_path = Path(\"data/block_1.csv\")\n",
    "# block_file = pd.read_csv(block_data_path)\n"
   ]
  },
  {
   "cell_type": "code",
   "execution_count": 101,
   "id": "afbca0f8",
   "metadata": {},
   "outputs": [
    {
     "name": "stdout",
     "output_type": "stream",
     "text": [
      "Expected path: data/london_smart_meters/hhblock_dataset/hhblock_dataset\n",
      "Does path exist? True\n",
      "Is it a directory? True\n",
      "Available folders in 'data/london_smart_meters/': ['.DS_Store', 'hhblock_dataset']\n"
     ]
    }
   ],
   "source": [
    "# import os\n",
    "\n",
    "# print(f\"Expected path: {block_data_path}\")\n",
    "# print(f\"Does path exist? {block_data_path.exists()}\")\n",
    "# print(f\"Is it a directory? {block_data_path.is_dir()}\")\n",
    "# print(\"Available folders in './data/london_smart_meters/':\", os.listdir(\"./data/london_smart_meters\") if os.path.exists(\"data/london_smart_meters\") else \"Folder not found\")\n"
   ]
  },
  {
   "cell_type": "code",
   "execution_count": 102,
   "id": "13d9bdec",
   "metadata": {
    "scrolled": true
   },
   "outputs": [
    {
     "name": "stdout",
     "output_type": "stream",
     "text": [
      "/Users/tomaszosuchowski/data/london_smart_meters.zip\n"
     ]
    }
   ],
   "source": [
    "# import os\n",
    "# print(os.path.abspath(\"./data/london_smart_meters.zip\"))\n"
   ]
  },
  {
   "cell_type": "code",
   "execution_count": 103,
   "id": "6e21c7aa",
   "metadata": {},
   "outputs": [
    {
     "name": "stdout",
     "output_type": "stream",
     "text": [
      "False\n"
     ]
    }
   ],
   "source": [
    "# import os\n",
    "# print(os.path.exists(\"/Users/tomaszosuchowski/data/london_smart_meters/smart_meters.zip\"))\n"
   ]
  },
  {
   "cell_type": "code",
   "execution_count": 104,
   "id": "9e1d0eaa",
   "metadata": {},
   "outputs": [],
   "source": [
    "# block_data_path.mkdir(parents=True, exist_ok=True)\n",
    "\n"
   ]
  },
  {
   "cell_type": "code",
   "execution_count": 105,
   "id": "1d8709aa",
   "metadata": {},
   "outputs": [
    {
     "name": "stdout",
     "output_type": "stream",
     "text": [
      "True\n",
      "True\n"
     ]
    }
   ],
   "source": [
    "# print(block_data_path.exists())  # Should now return True\n",
    "# print(block_data_path.is_dir())  # Should return True\n",
    "# assert block_data_path.is_dir(), \"Please check if the dataset has been downloaded properly. Refer to the Preface of the book or the Readme in the repo for expected data\"\n"
   ]
  },
  {
   "cell_type": "code",
   "execution_count": 106,
   "id": "96bb1ad3",
   "metadata": {},
   "outputs": [],
   "source": [
    "# assert block_data_path.is_dir(), \"Please check if the dataset has been downloaded properly. Refer to the Preface of the book or the Readme in the repo for expected data\""
   ]
  },
  {
   "cell_type": "markdown",
   "id": "8f593d93",
   "metadata": {},
   "source": [
    "# Converting the half hourly block level dataset into a time series data\n",
    "Let's pick one block and see how we can transform the data."
   ]
  },
  {
   "cell_type": "code",
   "execution_count": 107,
   "id": "9797f8f8",
   "metadata": {},
   "outputs": [
    {
     "name": "stdout",
     "output_type": "stream",
     "text": [
      "data/london_smart_meters/hhblock_dataset/hhblock_dataset/block_0.csv\n",
      "False\n"
     ]
    }
   ],
   "source": [
    "# print(block_data_path / \"block_0.csv\")  # Print the full path\n",
    "# print((block_data_path / \"block_0.csv\").exists())  # Check if the file exists"
   ]
  },
  {
   "cell_type": "code",
   "execution_count": 189,
   "id": "3ff3684f",
   "metadata": {},
   "outputs": [
    {
     "name": "stdout",
     "output_type": "stream",
     "text": [
      "['.DS_Store', 'hhblock_dataset', 'uk_bank_holidays.csv', 'block_1.csv', 'block_0.csv', 'weather_daily_darksky.csv', 'informations_households.csv', 'weather_hourly_darksky.csv', 'processed_smart_meters.csv']\n"
     ]
    }
   ],
   "source": [
    "# print(os.listdir(block_data_path))\n"
   ]
  },
  {
   "cell_type": "code",
   "execution_count": 109,
   "id": "be0b1630",
   "metadata": {},
   "outputs": [
    {
     "name": "stdout",
     "output_type": "stream",
     "text": [
      "True\n"
     ]
    }
   ],
   "source": [
    "# import os\n",
    "# print(os.path.exists(block_data_path))  # Should return True if the path exists\n"
   ]
  },
  {
   "cell_type": "code",
   "execution_count": 110,
   "id": "63135f72",
   "metadata": {},
   "outputs": [
    {
     "name": "stdout",
     "output_type": "stream",
     "text": [
      "True\n",
      "File exists: False\n"
     ]
    }
   ],
   "source": [
    "# import os\n",
    "# print(os.access(block_data_path, os.R_OK))  # Check read permission\n",
    "\n",
    "\n",
    "# file_path = os.path.join(block_data_path, \"block_0.csv\")\n",
    "# print(\"File exists:\", os.path.exists(file_path))\n"
   ]
  },
  {
   "cell_type": "code",
   "execution_count": 111,
   "id": "cbdc85eb",
   "metadata": {},
   "outputs": [],
   "source": [
    "# os.makedirs(\"imgs/chapter_2\", exist_ok=True)\n",
    "# source_data = Path(\"./data/london_smart_meters/\")\n",
    "# block_data_path = source_data/\"hhblock_dataset\"/\"hhblock_dataset\""
   ]
  },
  {
   "cell_type": "code",
   "execution_count": 112,
   "id": "a75690d6",
   "metadata": {},
   "outputs": [],
   "source": [
    "# assert block_data_path.is_dir(), \"Please check if the dataset has been downloaded properly.\""
   ]
  },
  {
   "cell_type": "markdown",
   "id": "6c430d1d",
   "metadata": {},
   "source": [
    "# Converting the half hourly block level dataset into a time series data\n",
    "Let's pick one block and see how we can transform the data."
   ]
  },
  {
   "cell_type": "code",
   "execution_count": 113,
   "id": "a5b4ad6b",
   "metadata": {},
   "outputs": [
    {
     "name": "stdout",
     "output_type": "stream",
     "text": [
      "✅ Processing complete!\n",
      "Final shape of block_df: (1213728, 5)\n",
      "            LCLid        day  energy_consumption           timestamp  \\\n",
      "0       MAC000002 2012-10-13               0.263 2012-10-13 00:00:00   \n",
      "25286   MAC000002 2012-10-13               0.269 2012-10-13 00:30:00   \n",
      "50572   MAC000002 2012-10-13               0.275 2012-10-13 01:00:00   \n",
      "75858   MAC000002 2012-10-13               0.256 2012-10-13 01:30:00   \n",
      "101144  MAC000002 2012-10-13               0.211 2012-10-13 02:00:00   \n",
      "\n",
      "        frequency  \n",
      "0       30-minute  \n",
      "25286   30-minute  \n",
      "50572   30-minute  \n",
      "75858   30-minute  \n",
      "101144  30-minute  \n"
     ]
    }
   ],
   "source": [
    "import pandas as pd\n",
    "from pathlib import Path\n",
    "\n",
    "\n",
    "# Define file path\n",
    "block_data_path = Path(\"data/block_0.csv\")\n",
    "block_file = pd.read_csv(block_data_path)\n",
    "\n",
    "\n",
    "# Check if the file exists before loading\n",
    "if block_data_path.exists():\n",
    "    block_df = pd.read_csv(block_data_path, parse_dates=False)\n",
    "    \n",
    "    # Convert 'day' column to datetime explicitly\n",
    "    block_df.loc[:, 'day'] = pd.to_datetime(block_df['day'], yearfirst=True)\n",
    "    \n",
    "    # Unpivot the hourly columns ('hh_0' to 'hh_47') into a long format\n",
    "    hourly_columns = [col for col in block_df.columns if col.startswith(\"hh_\")]\n",
    "    block_df = block_df.melt(\n",
    "        id_vars=[\"LCLid\", \"day\"],\n",
    "        value_vars=hourly_columns,\n",
    "        var_name=\"hour_block\",\n",
    "        value_name=\"energy_consumption\"\n",
    "    )\n",
    "    \n",
    "    # Create 'offset' column safely using the extracted hour from 'hour_block'\n",
    "    block_df.loc[:, 'offset'] = block_df['hour_block'].str.replace(\"hh_\", \"\").astype(int)\n",
    "\n",
    "    # Create 'timestamp' column safely\n",
    "    block_df.loc[:, 'timestamp'] = block_df['day'] + pd.to_timedelta(block_df['offset'] * 30, unit='m')\n",
    "\n",
    "    # Add 'frequency' column\n",
    "    freq = \"30-minute\"  # Assuming a 30-minute frequency\n",
    "    block_df.loc[:, 'frequency'] = freq\n",
    "\n",
    "    # Sort values\n",
    "    ts_identifier = \"LCLid\"  # Assuming 'LCLid' is the time series identifier\n",
    "    block_df = block_df.sort_values([ts_identifier, \"timestamp\"])\n",
    "\n",
    "    # Drop unnecessary columns\n",
    "    cols_to_drop = [\"hour_block\", \"offset\"]  # Add more column names as needed\n",
    "    block_df = block_df.drop(columns=[col for col in cols_to_drop if col in block_df.columns])\n",
    "\n",
    "    # Print final results for verification\n",
    "    print(\"✅ Processing complete!\")\n",
    "    print(\"Final shape of block_df:\", block_df.shape)\n",
    "    print(block_df.head())\n",
    "\n",
    "else:\n",
    "    print(f\"❌ Error: File not found – {block_file}\")\n",
    "    print(\"📌 Make sure you've downloaded and extracted the dataset.\")\n"
   ]
  },
  {
   "cell_type": "code",
   "execution_count": 114,
   "id": "882c26d4",
   "metadata": {},
   "outputs": [
    {
     "name": "stdout",
     "output_type": "stream",
     "text": [
      "✅ File found: data/london_smart_meters/hhblock_dataset/block_0.csv\n"
     ]
    }
   ],
   "source": [
    "# Define file path\n",
    "block_data_path = Path(\"data/block_0.csv\")\n",
    "block_file = pd.read_csv(block_data_path)\n",
    "\n",
    "# Check if the file exists\n",
    "if block_data_path.exists():\n",
    "    print(f\"✅ File found: {block_data_path}\")\n",
    "else:\n",
    "    print(f\"❌ File not found: {block_data_path}\")\n",
    "    print(\"📌 Make sure the dataset is uploaded and the path is correct.\")\n"
   ]
  },
  {
   "cell_type": "code",
   "execution_count": 115,
   "id": "3a785973",
   "metadata": {},
   "outputs": [
    {
     "name": "stdout",
     "output_type": "stream",
     "text": [
      "total 16\n",
      "drwxr-xr-x    4 tomaszosuchowski  staff    128 Jan 31 11:39 \u001b[34m.\u001b[m\u001b[m/\n",
      "drwxr-xr-x  440 tomaszosuchowski  staff  14080 Jan 29 18:11 \u001b[34m..\u001b[m\u001b[m/\n",
      "-rw-r--r--@   1 tomaszosuchowski  staff   6148 Jan 31 11:39 .DS_Store\n",
      "drwxr-xr-x   11 tomaszosuchowski  staff    352 Jan 31 01:11 \u001b[34mhhblock_dataset\u001b[m\u001b[m/\n"
     ]
    }
   ],
   "source": [
    "# ls -la data/london_smart_meters/\n"
   ]
  },
  {
   "cell_type": "code",
   "execution_count": 116,
   "id": "2816ee92",
   "metadata": {},
   "outputs": [
    {
     "name": "stdout",
     "output_type": "stream",
     "text": [
      "Found: data/london_smart_meters/hhblock_dataset/uk_bank_holidays.csv\n",
      "Found: data/london_smart_meters/hhblock_dataset/block_1.csv\n",
      "Found: data/london_smart_meters/hhblock_dataset/block_0.csv\n",
      "Found: data/london_smart_meters/hhblock_dataset/weather_daily_darksky.csv\n",
      "Found: data/london_smart_meters/hhblock_dataset/informations_households.csv\n",
      "Found: data/london_smart_meters/hhblock_dataset/weather_hourly_darksky.csv\n",
      "Found: data/london_smart_meters/hhblock_dataset/processed_smart_meters.csv\n"
     ]
    }
   ],
   "source": [
    "# import os\n",
    "\n",
    "# search_path = \"./data/london_smart_meters/\"\n",
    "# for root, dirs, files in os.walk(search_path):\n",
    "#     for file in files:\n",
    "#         if file.endswith(\".csv\"):\n",
    "#             print(f\"Found: {os.path.join(root, file)}\")\n"
   ]
  },
  {
   "cell_type": "code",
   "execution_count": 117,
   "id": "b0c24a88",
   "metadata": {},
   "outputs": [
    {
     "name": "stdout",
     "output_type": "stream",
     "text": [
      "       LCLid        day   hh_0   hh_1   hh_2   hh_3   hh_4   hh_5   hh_6  \\\n",
      "0  MAC000002 2012-10-13  0.263  0.269  0.275  0.256  0.211  0.136  0.161   \n",
      "1  MAC000002 2012-10-14  0.262  0.166  0.226  0.088  0.126  0.082  0.123   \n",
      "2  MAC000002 2012-10-15  0.192  0.097  0.141  0.083  0.132  0.070  0.130   \n",
      "3  MAC000002 2012-10-16  0.237  0.237  0.193  0.118  0.098  0.107  0.094   \n",
      "4  MAC000002 2012-10-17  0.157  0.211  0.155  0.169  0.101  0.117  0.084   \n",
      "\n",
      "    hh_7  ...  hh_38  hh_39  hh_40  hh_41  hh_42  hh_43  hh_44  hh_45  hh_46  \\\n",
      "0  0.119  ...  0.918  0.278  0.267  0.239  0.230  0.233  0.235  0.188  0.259   \n",
      "1  0.083  ...  1.075  0.956  0.821  0.745  0.712  0.511  0.231  0.210  0.278   \n",
      "2  0.074  ...  1.164  0.249  0.225  0.258  0.260  0.334  0.299  0.236  0.241   \n",
      "3  0.109  ...  0.966  0.172  0.192  0.228  0.203  0.211  0.188  0.213  0.157   \n",
      "4  0.118  ...  0.223  0.075  0.230  0.208  0.265  0.377  0.327  0.277  0.288   \n",
      "\n",
      "   hh_47  \n",
      "0  0.250  \n",
      "1  0.159  \n",
      "2  0.237  \n",
      "3  0.202  \n",
      "4  0.256  \n",
      "\n",
      "[5 rows x 50 columns]\n",
      "✅ File loaded successfully.\n",
      "block_1 type: <class 'pandas.core.frame.DataFrame'>\n",
      "block_1 shape: (25286, 50)\n"
     ]
    }
   ],
   "source": [
    "# Cell 1: Import libraries and define path\n",
    "import pandas as pd\n",
    "from pathlib import Path\n",
    "\n",
    "\n",
    "# Define file path\n",
    "block_data_path = Path(\"data/block_0.csv\")\n",
    "block_file = pd.read_csv(block_data_path)\n",
    "\n",
    "\n",
    "# Cell 2: Load the file and process\n",
    "block_1 = None\n",
    "if block_data_path.exists():\n",
    "    block_1 = pd.read_csv(block_data_path, parse_dates=False)\n",
    "    block_1['day'] = pd.to_datetime(block_1['day'], yearfirst=True)\n",
    "    print(block_1.head())\n",
    "    print(\"✅ File loaded successfully.\")\n",
    "else:\n",
    "    print(f\"❌ File not found: {block_file}\")\n",
    "\n",
    "# Cell 3: Reference and use `block_1`\n",
    "if block_1 is not None:\n",
    "    print(\"block_1 type:\", type(block_1))\n",
    "    print(\"block_1 shape:\", block_1.shape)"
   ]
  },
  {
   "cell_type": "code",
   "execution_count": 182,
   "id": "10687fd7",
   "metadata": {},
   "outputs": [
    {
     "name": "stdout",
     "output_type": "stream",
     "text": [
      "LCLid\n",
      "MAC003423   2014-02-27\n",
      "MAC003856   2014-02-27\n",
      "MAC003646   2014-02-27\n",
      "MAC003388   2014-02-27\n",
      "MAC003449   2014-02-27\n",
      "Name: day, dtype: datetime64[ns]\n"
     ]
    }
   ],
   "source": [
    "if block_1 is not None and 'LCLid' in block_1.columns and 'day' in block_1.columns:\n",
    "    result = block_1.groupby(\"LCLid\")['day'].max().sample(5)\n",
    "    print(result)\n",
    "else:\n",
    "    print(\"❌ Either block_1 is None or required columns are missing.\")\n"
   ]
  },
  {
   "cell_type": "code",
   "execution_count": 118,
   "id": "fdc5d232",
   "metadata": {
    "scrolled": true
   },
   "outputs": [
    {
     "data": {
      "text/plain": [
       "LCLid\n",
       "MAC003817   2014-02-27\n",
       "MAC003422   2014-02-27\n",
       "MAC003805   2014-02-27\n",
       "MAC003394   2014-02-27\n",
       "MAC000246   2014-02-27\n",
       "Name: day, dtype: datetime64[ns]"
      ]
     },
     "execution_count": 118,
     "metadata": {},
     "output_type": "execute_result"
    }
   ],
   "source": [
    "#Check End Dates of all time series\n",
    "block_1.groupby(\"LCLid\")['day'].max().sample(5)"
   ]
  },
  {
   "cell_type": "code",
   "execution_count": 119,
   "id": "4e6d7cd5",
   "metadata": {},
   "outputs": [
    {
     "name": "stdout",
     "output_type": "stream",
     "text": [
      "Columns in block_1: Index(['LCLid', 'day', 'hh_0', 'hh_1', 'hh_2', 'hh_3', 'hh_4', 'hh_5', 'hh_6',\n",
      "       'hh_7', 'hh_8', 'hh_9', 'hh_10', 'hh_11', 'hh_12', 'hh_13', 'hh_14',\n",
      "       'hh_15', 'hh_16', 'hh_17', 'hh_18', 'hh_19', 'hh_20', 'hh_21', 'hh_22',\n",
      "       'hh_23', 'hh_24', 'hh_25', 'hh_26', 'hh_27', 'hh_28', 'hh_29', 'hh_30',\n",
      "       'hh_31', 'hh_32', 'hh_33', 'hh_34', 'hh_35', 'hh_36', 'hh_37', 'hh_38',\n",
      "       'hh_39', 'hh_40', 'hh_41', 'hh_42', 'hh_43', 'hh_44', 'hh_45', 'hh_46',\n",
      "       'hh_47'],\n",
      "      dtype='object')\n",
      "Null values in 'LCLid': 0\n",
      "Null values in 'day': 0\n",
      "Number of unique LCLid values: 50\n",
      "Sample output: LCLid\n",
      "MAC003646   2014-02-27\n",
      "MAC003775   2014-01-12\n",
      "MAC003856   2014-02-27\n",
      "MAC003428   2014-02-27\n",
      "MAC000002   2014-02-27\n",
      "Name: day, dtype: datetime64[ns]\n"
     ]
    }
   ],
   "source": [
    "# Verify the columns in block_1\n",
    "print(\"Columns in block_1:\", block_1.columns)\n",
    "\n",
    "# Check for null values in key columns\n",
    "print(\"Null values in 'LCLid':\", block_1['LCLid'].isnull().sum())\n",
    "print(\"Null values in 'day':\", block_1['day'].isnull().sum())\n",
    "\n",
    "# Ensure there are at least 5 unique LCLid entries\n",
    "print(\"Number of unique LCLid values:\", block_1['LCLid'].nunique())\n",
    "\n",
    "# Debug the groupby operation\n",
    "try:\n",
    "    grouped = block_1.groupby(\"LCLid\")['day'].max()\n",
    "    print(\"Sample output:\", grouped.sample(5))\n",
    "except Exception as e:\n",
    "    print(\"Error during groupby or sample:\", e)\n"
   ]
  },
  {
   "cell_type": "code",
   "execution_count": 120,
   "id": "f90ad08e",
   "metadata": {},
   "outputs": [
    {
     "name": "stderr",
     "output_type": "stream",
     "text": [
      "7it [00:04,  1.64it/s]\n"
     ]
    },
    {
     "name": "stdout",
     "output_type": "stream",
     "text": [
      "Total valid dates collected: 113058\n",
      "Earliest Date: 2011-12-04 00:00:00\n",
      "Latest Date: 2014-02-27 00:00:00\n"
     ]
    },
    {
     "data": {
      "image/png": "[encoded data removed]",
      "text/plain": [
       "<Figure size 1000x500 with 1 Axes>"
      ]
     },
     "metadata": {},
     "output_type": "display_data"
    }
   ],
   "source": [
    "import pandas as pd\n",
    "import matplotlib.pyplot as plt\n",
    "from tqdm import tqdm\n",
    "from pathlib import Path\n",
    "\n",
    "folder_path = Path(\"data/\")  # Correct folder path\n",
    "max_date = None\n",
    "all_dates = []  # List to store all valid dates\n",
    "\n",
    "for f in tqdm(folder_path.glob(\"*.csv\")):  \n",
    "    try:\n",
    "        df = pd.read_csv(f, encoding=\"latin1\", parse_dates=False, on_bad_lines=\"skip\", sep=\",\", low_memory=False)\n",
    "\n",
    "        if \"day\" in df.columns:\n",
    "            df[\"day\"] = pd.to_datetime(df[\"day\"], errors=\"coerce\", yearfirst=True)\n",
    "            valid_dates = df[\"day\"].dropna().tolist()\n",
    "            all_dates.extend(valid_dates)  # Store all valid dates\n",
    "            max_date = max(max_date, df[\"day\"].max()) if max_date else df[\"day\"].max()\n",
    "\n",
    "    except Exception as e:\n",
    "        print(f\"Error reading {f}: {e}\")\n",
    "        continue  \n",
    "\n",
    "# Convert dates to a Pandas Series for analysis\n",
    "date_series = pd.Series(all_dates)\n",
    "\n",
    "# Display statistics\n",
    "print(f\"Total valid dates collected: {len(date_series)}\")\n",
    "print(f\"Earliest Date: {date_series.min()}\")\n",
    "print(f\"Latest Date: {date_series.max()}\")\n",
    "\n",
    "# Save valid dates to CSV (Optional)\n",
    "dates_df = pd.DataFrame(date_series, columns=[\"Valid Dates\"])\n",
    "dates_df.to_csv(\"valid_dates.csv\", index=False)\n",
    "\n",
    "# **Plot Histogram of Dates**\n",
    "plt.figure(figsize=(10, 5))\n",
    "plt.hist(date_series, bins=50, color=\"blue\", edgecolor=\"black\")\n",
    "plt.xlabel(\"Date\")\n",
    "plt.ylabel(\"Frequency\")\n",
    "plt.title(\"Distribution of Dates in CSV Files\")\n",
    "plt.xticks(rotation=45)\n",
    "plt.grid(True)\n",
    "plt.show()\n"
   ]
  },
  {
   "cell_type": "code",
   "execution_count": 121,
   "id": "c6c802e4",
   "metadata": {},
   "outputs": [
    {
     "name": "stdout",
     "output_type": "stream",
     "text": [
      "       LCLid         day   hh_0   hh_1   hh_2   hh_3   hh_4   hh_5   hh_6  \\\n",
      "0  MAC000002  2012-10-13  0.263  0.269  0.275  0.256  0.211  0.136  0.161   \n",
      "1  MAC000002  2012-10-14  0.262  0.166  0.226  0.088  0.126  0.082  0.123   \n",
      "2  MAC000002  2012-10-15  0.192  0.097  0.141  0.083  0.132  0.070  0.130   \n",
      "3  MAC000002  2012-10-16  0.237  0.237  0.193  0.118  0.098  0.107  0.094   \n",
      "4  MAC000002  2012-10-17  0.157  0.211  0.155  0.169  0.101  0.117  0.084   \n",
      "\n",
      "    hh_7  ...  hh_38  hh_39  hh_40  hh_41  hh_42  hh_43  hh_44  hh_45  hh_46  \\\n",
      "0  0.119  ...  0.918  0.278  0.267  0.239  0.230  0.233  0.235  0.188  0.259   \n",
      "1  0.083  ...  1.075  0.956  0.821  0.745  0.712  0.511  0.231  0.210  0.278   \n",
      "2  0.074  ...  1.164  0.249  0.225  0.258  0.260  0.334  0.299  0.236  0.241   \n",
      "3  0.109  ...  0.966  0.172  0.192  0.228  0.203  0.211  0.188  0.213  0.157   \n",
      "4  0.118  ...  0.223  0.075  0.230  0.208  0.265  0.377  0.327  0.277  0.288   \n",
      "\n",
      "   hh_47  \n",
      "0  0.250  \n",
      "1  0.159  \n",
      "2  0.237  \n",
      "3  0.202  \n",
      "4  0.256  \n",
      "\n",
      "[5 rows x 50 columns]\n"
     ]
    }
   ],
   "source": [
    "import pandas as pd\n",
    "\n",
    "# Load the CSV file again\n",
    "block_1 = pd.read_csv(\"./data/block_0.csv\", parse_dates=False)\n",
    "\n",
    "# Print the first few rows to verify\n",
    "print(block_1.head())"
   ]
  },
  {
   "cell_type": "code",
   "execution_count": 122,
   "id": "f1f76b30",
   "metadata": {},
   "outputs": [
    {
     "name": "stdout",
     "output_type": "stream",
     "text": [
      "       LCLid         day hour_block  energy_consumption  offset\n",
      "0  MAC000002  2012-10-13       hh_0               0.263       0\n",
      "1  MAC000002  2012-10-13       hh_1               0.269       1\n",
      "2  MAC000002  2012-10-13       hh_2               0.275       2\n",
      "3  MAC000002  2012-10-13       hh_3               0.256       3\n",
      "4  MAC000002  2012-10-13       hh_4               0.211       4\n"
     ]
    }
   ],
   "source": [
    "# Identify the hourly columns\n",
    "hour_columns = [col for col in block_1.columns if col.startswith(\"hh_\")]\n",
    "\n",
    "# Reshape the DataFrame using `stack()`\n",
    "reshaped_block_1 = (\n",
    "    block_1.set_index(['LCLid', 'day'])[hour_columns]  # Set LCLid and day as index\n",
    "    .stack()  # Stack only the hourly columns\n",
    "    .reset_index()  # Reset index to flatten\n",
    "    .rename(columns={\"level_2\": \"hour_block\", 0: \"energy_consumption\"})  # Rename columns\n",
    ")\n",
    "\n",
    "# Convert 'hour_block' to numeric offsets (hour numbers)\n",
    "reshaped_block_1['offset'] = reshaped_block_1['hour_block'].str.replace(\"hh_\", \"\", regex=False).astype(int)\n",
    "\n",
    "# Print the first few rows to verify\n",
    "print(reshaped_block_1.head())\n"
   ]
  },
  {
   "cell_type": "code",
   "execution_count": 123,
   "id": "f38ecd1d",
   "metadata": {},
   "outputs": [
    {
     "name": "stdout",
     "output_type": "stream",
     "text": [
      "Index(['LCLid', 'day', 'hh_0', 'hh_1', 'hh_2', 'hh_3', 'hh_4', 'hh_5', 'hh_6',\n",
      "       'hh_7', 'hh_8', 'hh_9', 'hh_10', 'hh_11', 'hh_12', 'hh_13', 'hh_14',\n",
      "       'hh_15', 'hh_16', 'hh_17', 'hh_18', 'hh_19', 'hh_20', 'hh_21', 'hh_22',\n",
      "       'hh_23', 'hh_24', 'hh_25', 'hh_26', 'hh_27', 'hh_28', 'hh_29', 'hh_30',\n",
      "       'hh_31', 'hh_32', 'hh_33', 'hh_34', 'hh_35', 'hh_36', 'hh_37', 'hh_38',\n",
      "       'hh_39', 'hh_40', 'hh_41', 'hh_42', 'hh_43', 'hh_44', 'hh_45', 'hh_46',\n",
      "       'hh_47'],\n",
      "      dtype='object')\n"
     ]
    }
   ],
   "source": [
    "print(block_1.columns)\n"
   ]
  },
  {
   "cell_type": "code",
   "execution_count": 124,
   "id": "c6474595",
   "metadata": {},
   "outputs": [
    {
     "name": "stdout",
     "output_type": "stream",
     "text": [
      "       LCLid         day hour_block  energy_consumption  offset\n",
      "0  MAC000002  2012-10-13       hh_0               0.263       0\n",
      "1  MAC000002  2012-10-13       hh_1               0.269       1\n",
      "2  MAC000002  2012-10-13       hh_2               0.275       2\n",
      "3  MAC000002  2012-10-13       hh_3               0.256       3\n",
      "4  MAC000002  2012-10-13       hh_4               0.211       4\n"
     ]
    }
   ],
   "source": [
    "# Identify the hourly columns\n",
    "hour_columns = [col for col in block_1.columns if col.startswith(\"hh_\")]\n",
    "\n",
    "# Reshape the DataFrame to long format\n",
    "reshaped_block_1 = (\n",
    "    block_1.set_index(['LCLid', 'day'])[hour_columns]\n",
    "    .stack()\n",
    "    .reset_index()\n",
    "    .rename(columns={\"level_2\": \"hour_block\", 0: \"energy_consumption\"})\n",
    ")\n",
    "\n",
    "# Convert 'hour_block' to numerical hour offsets\n",
    "reshaped_block_1['offset'] = reshaped_block_1['hour_block'].str.replace(\"hh_\", \"\", regex=False).astype(int)\n",
    "\n",
    "# Print the first few rows\n",
    "print(reshaped_block_1.head())\n"
   ]
  },
  {
   "cell_type": "code",
   "execution_count": 125,
   "id": "b32f4b64",
   "metadata": {},
   "outputs": [
    {
     "name": "stdout",
     "output_type": "stream",
     "text": [
      "Index(['LCLid', 'day', 'hour_block', 'energy_consumption', 'offset'], dtype='object')\n"
     ]
    }
   ],
   "source": [
    "print(reshaped_block_1.columns)\n"
   ]
  },
  {
   "cell_type": "code",
   "execution_count": 126,
   "id": "c58ecc58",
   "metadata": {},
   "outputs": [
    {
     "name": "stdout",
     "output_type": "stream",
     "text": [
      "['hh_0' 'hh_1' 'hh_2' 'hh_3' 'hh_4' 'hh_5' 'hh_6' 'hh_7' 'hh_8' 'hh_9'\n",
      " 'hh_10' 'hh_11' 'hh_12' 'hh_13' 'hh_14' 'hh_15' 'hh_16' 'hh_17' 'hh_18'\n",
      " 'hh_19' 'hh_20' 'hh_21' 'hh_22' 'hh_23' 'hh_24' 'hh_25' 'hh_26' 'hh_27'\n",
      " 'hh_28' 'hh_29' 'hh_30' 'hh_31' 'hh_32' 'hh_33' 'hh_34' 'hh_35' 'hh_36'\n",
      " 'hh_37' 'hh_38' 'hh_39' 'hh_40' 'hh_41' 'hh_42' 'hh_43' 'hh_44' 'hh_45'\n",
      " 'hh_46' 'hh_47']\n"
     ]
    }
   ],
   "source": [
    "print(reshaped_block_1['hour_block'].unique())\n"
   ]
  },
  {
   "cell_type": "code",
   "execution_count": 127,
   "id": "9bee3ad1",
   "metadata": {},
   "outputs": [],
   "source": [
    "reshaped_block_1['day'] = pd.to_datetime(reshaped_block_1['day'], format=\"%Y-%m-%d\")\n",
    "\n"
   ]
  },
  {
   "cell_type": "code",
   "execution_count": 128,
   "id": "dfb31353",
   "metadata": {},
   "outputs": [
    {
     "name": "stdout",
     "output_type": "stream",
     "text": [
      "       LCLid        day hour_block  energy_consumption  offset\n",
      "0  MAC000002 2012-10-13       hh_0               0.263       0\n",
      "1  MAC000002 2012-10-13       hh_1               0.269       1\n",
      "2  MAC000002 2012-10-13       hh_2               0.275       2\n",
      "3  MAC000002 2012-10-13       hh_3               0.256       3\n",
      "4  MAC000002 2012-10-13       hh_4               0.211       4\n"
     ]
    }
   ],
   "source": [
    "#print(dir())  # Lists all defined variables\n",
    "\n",
    "#print(block1_compact.head())\n",
    "print(reshaped_block_1.head())  # Use the correct variable name\n"
   ]
  },
  {
   "cell_type": "code",
   "execution_count": 129,
   "id": "f19b338f",
   "metadata": {},
   "outputs": [
    {
     "name": "stdout",
     "output_type": "stream",
     "text": [
      "Unique LCLid values: ['MAC000002' 'MAC000246' 'MAC000450' 'MAC001074' 'MAC003223' 'MAC003239'\n",
      " 'MAC003252' 'MAC003281' 'MAC003305' 'MAC003348' 'MAC003388' 'MAC003394'\n",
      " 'MAC003400' 'MAC003422' 'MAC003423' 'MAC003428' 'MAC003449' 'MAC003463'\n",
      " 'MAC003482' 'MAC003553' 'MAC003557' 'MAC003566' 'MAC003579' 'MAC003597'\n",
      " 'MAC003613' 'MAC003646' 'MAC003656' 'MAC003668' 'MAC003680' 'MAC003686'\n",
      " 'MAC003718' 'MAC003719' 'MAC003737' 'MAC003740' 'MAC003775' 'MAC003805'\n",
      " 'MAC003817' 'MAC003826' 'MAC003844' 'MAC003851' 'MAC003856' 'MAC003863'\n",
      " 'MAC003874' 'MAC004034' 'MAC004179' 'MAC004247' 'MAC004319' 'MAC004387'\n",
      " 'MAC004431' 'MAC005492']\n",
      "Total rows in dataset: 1213678\n",
      "⚠️ Warning: Missing required data for customer MAC003851.\n"
     ]
    }
   ],
   "source": [
    "import numpy as np\n",
    "import pandas as pd\n",
    "import matplotlib.pyplot as plt\n",
    "import random\n",
    "\n",
    "# ✅ Ensure 'hour_block' is numeric\n",
    "reshaped_block_1[\"hour_block\"] = pd.to_numeric(reshaped_block_1[\"hour_block\"], errors=\"coerce\")\n",
    "\n",
    "# ✅ Create 'start_timestamp' and 'series_length'\n",
    "reshaped_block_1[\"start_timestamp\"] = pd.to_datetime(reshaped_block_1[\"day\"], errors=\"coerce\") + \\\n",
    "                                      pd.to_timedelta(reshaped_block_1[\"hour_block\"] * 30, unit=\"m\")\n",
    "\n",
    "reshaped_block_1[\"series_length\"] = reshaped_block_1.groupby(\"LCLid\")[\"start_timestamp\"].transform(\"count\")\n",
    "\n",
    "# ✅ Debugging: Check if there are any valid customers before selecting one\n",
    "print(\"Unique LCLid values:\", reshaped_block_1[\"LCLid\"].unique())  # Check if there are valid customers\n",
    "print(\"Total rows in dataset:\", len(reshaped_block_1))  # Check total rows\n",
    "\n",
    "# ✅ Fix: Ensure we have valid customers before selecting one\n",
    "if reshaped_block_1[\"LCLid\"].nunique() == 0:\n",
    "    raise ValueError(\"❌ No valid customers found in reshaped_block_1!\")\n",
    "\n",
    "# ✅ Select a random customer\n",
    "random_customer = random.choice(reshaped_block_1[\"LCLid\"].unique())\n",
    "\n",
    "# ✅ Extract customer data\n",
    "customer_data = reshaped_block_1[reshaped_block_1[\"LCLid\"] == random_customer]\n",
    "\n",
    "# ✅ Ensure required columns exist before proceeding\n",
    "if not customer_data[\"start_timestamp\"].isna().all() and \"series_length\" in customer_data.columns:\n",
    "    start_time = customer_data[\"start_timestamp\"].values[0]\n",
    "    \n",
    "    if pd.isna(start_time):  # If NaT, print warning and exit\n",
    "        print(f\"⚠️ Warning: start_timestamp is NaT for customer {random_customer}. Skipping.\")\n",
    "    else:\n",
    "        timestamps = pd.date_range(\n",
    "            start=start_time, \n",
    "            periods=int(customer_data[\"series_length\"].values[0]),  # Convert to integer\n",
    "            freq=\"30min\"\n",
    "        )\n",
    "        energy_values = np.array(customer_data[\"energy_consumption\"].values)\n",
    "\n",
    "        # ✅ Plot\n",
    "        plt.figure(figsize=(12, 5))\n",
    "        plt.plot(timestamps, energy_values, label=f\"Energy Usage for {random_customer}\", color=\"blue\")\n",
    "        plt.xlabel(\"Time\")\n",
    "        plt.ylabel(\"Energy Consumption (kWh)\")\n",
    "        plt.title(f\"Energy Consumption Over Time - Customer {random_customer}\")\n",
    "        plt.legend()\n",
    "        plt.grid(True)\n",
    "        plt.show()\n",
    "else:\n",
    "    print(f\"⚠️ Warning: Missing required data for customer {random_customer}.\")\n"
   ]
  },
  {
   "cell_type": "code",
   "execution_count": 130,
   "id": "9f8163cb",
   "metadata": {},
   "outputs": [
    {
     "data": {
      "image/png": "[encoded data removed]",
      "text/plain": [
       "<Figure size 1200x500 with 1 Axes>"
      ]
     },
     "metadata": {},
     "output_type": "display_data"
    }
   ],
   "source": [
    "import numpy as np\n",
    "import pandas as pd\n",
    "import matplotlib.pyplot as plt\n",
    "import random\n",
    "\n",
    "# ✅ Reshape block_1 from wide to long format\n",
    "reshaped_block_1 = block_1.melt(id_vars=[\"LCLid\", \"day\"], \n",
    "                                value_vars=[col for col in block_1.columns if col.startswith(\"hh_\")],\n",
    "                                var_name=\"hour_block\",\n",
    "                                value_name=\"energy_consumption\")\n",
    "\n",
    "# ✅ Convert 'hour_block' from 'hh_X' to numerical hour values (0 to 47)\n",
    "reshaped_block_1[\"hour_block\"] = reshaped_block_1[\"hour_block\"].str.extract(r\"(\\d+)\").astype(float)\n",
    "\n",
    "# ✅ Ensure 'hour_block' is numeric and fill missing values\n",
    "reshaped_block_1[\"hour_block\"] = pd.to_numeric(reshaped_block_1[\"hour_block\"], errors=\"coerce\").fillna(0)\n",
    "\n",
    "# ✅ Create 'start_timestamp' and 'series_length'\n",
    "reshaped_block_1[\"start_timestamp\"] = pd.to_datetime(reshaped_block_1[\"day\"], errors=\"coerce\") + \\\n",
    "                                      pd.to_timedelta(reshaped_block_1[\"hour_block\"] * 30, unit=\"m\")\n",
    "\n",
    "reshaped_block_1[\"series_length\"] = reshaped_block_1.groupby(\"LCLid\")[\"start_timestamp\"].transform(\"count\")\n",
    "\n",
    "# ✅ Select a random customer\n",
    "valid_customers = reshaped_block_1.dropna(subset=[\"start_timestamp\"])\n",
    "if valid_customers.empty:\n",
    "    raise ValueError(\"❌ No valid customers found in reshaped_block_1!\")\n",
    "\n",
    "random_customer = random.choice(valid_customers[\"LCLid\"].unique())\n",
    "\n",
    "# ✅ Extract customer data\n",
    "customer_data = reshaped_block_1[reshaped_block_1[\"LCLid\"] == random_customer]\n",
    "\n",
    "# ✅ Ensure required columns exist before proceeding\n",
    "if not customer_data[\"start_timestamp\"].isna().all() and \"series_length\" in customer_data.columns:\n",
    "    start_time = customer_data[\"start_timestamp\"].values[0]\n",
    "    \n",
    "    if pd.isna(start_time):  # If NaT, print warning and exit\n",
    "        print(f\"⚠️ Warning: start_timestamp is NaT for customer {random_customer}. Skipping.\")\n",
    "    else:\n",
    "        timestamps = pd.date_range(\n",
    "            start=start_time, \n",
    "            periods=int(customer_data[\"series_length\"].values[0]),  # Convert to integer\n",
    "            freq=\"30min\"\n",
    "        )\n",
    "        energy_values = np.array(customer_data[\"energy_consumption\"].values)\n",
    "\n",
    "        # ✅ Plot\n",
    "        plt.figure(figsize=(12, 5))\n",
    "        plt.plot(timestamps, energy_values, label=f\"Energy Usage for {random_customer}\", color=\"blue\")\n",
    "        plt.xlabel(\"Time\")\n",
    "        plt.ylabel(\"Energy Consumption (kWh)\")\n",
    "        plt.title(f\"Energy Consumption Over Time - Customer {random_customer}\")\n",
    "        plt.legend()\n",
    "        plt.grid(True)\n",
    "        plt.show()\n",
    "else:\n",
    "    print(f\"⚠️ Warning: Missing required data for customer {random_customer}.\")\n"
   ]
  },
  {
   "cell_type": "code",
   "execution_count": 131,
   "id": "772027d5",
   "metadata": {},
   "outputs": [
    {
     "data": {
      "image/png": "[encoded data removed]",
      "text/plain": [
       "<Figure size 1000x500 with 1 Axes>"
      ]
     },
     "metadata": {},
     "output_type": "display_data"
    }
   ],
   "source": [
    "import numpy as np\n",
    "import pandas as pd\n",
    "import matplotlib.pyplot as plt\n",
    "\n",
    "# Load the CSV file\n",
    "block_1 = pd.read_csv(\"./data/block_0.csv\", parse_dates=False)\n",
    "\n",
    "# Extract only half-hourly energy consumption columns\n",
    "energy_columns = [f\"hh_{i}\" for i in range(48)]\n",
    "\n",
    "# ✅ Convert all energy columns to float, replacing non-numeric values with NaN\n",
    "block_1[energy_columns] = block_1[energy_columns].apply(pd.to_numeric, errors=\"coerce\")\n",
    "\n",
    "# ✅ Initialize arrays\n",
    "hourly_consumption = np.zeros(48, dtype=np.float64)  # 48 half-hour slots\n",
    "counts = np.zeros(48, dtype=np.float64)\n",
    "\n",
    "# ✅ Iterate through the DataFrame\n",
    "for _, row in block_1.iterrows():\n",
    "    # ✅ Convert row values to float64\n",
    "    energy_values = row[energy_columns].astype(np.float64).values\n",
    "    energy_values = np.nan_to_num(energy_values)  # Replace NaNs with 0\n",
    "    \n",
    "    hourly_consumption += energy_values  # Sum up energy consumption\n",
    "    counts += ~np.isnan(row[energy_columns].astype(np.float64).values)  # ✅ Convert row to float before checking NaN\n",
    "\n",
    "# ✅ Compute the average energy consumption per half-hour slot\n",
    "hourly_avg = np.divide(hourly_consumption, counts, out=np.zeros_like(hourly_consumption), where=counts != 0)\n",
    "\n",
    "# ✅ Plot\n",
    "plt.figure(figsize=(10, 5))\n",
    "plt.bar(range(48), hourly_avg, color=\"green\")\n",
    "plt.xlabel(\"Hour of the Day (Half-hour slots)\")\n",
    "plt.ylabel(\"Average Energy Consumption (kWh)\")\n",
    "plt.title(\"Average Energy Consumption Per Hour of the Day\")\n",
    "plt.xticks(range(0, 48, 2), labels=[f\"{h//2}:30\" if h % 2 else f\"{h//2}:00\" for h in range(0, 48, 2)], rotation=45)\n",
    "plt.grid(axis=\"y\")\n",
    "plt.show()\n",
    "\n"
   ]
  },
  {
   "cell_type": "code",
   "execution_count": 132,
   "id": "17b12296",
   "metadata": {},
   "outputs": [
    {
     "name": "stdout",
     "output_type": "stream",
     "text": [
      "Index(['LCLid', 'day', 'hh_0', 'hh_1', 'hh_2', 'hh_3', 'hh_4', 'hh_5', 'hh_6',\n",
      "       'hh_7', 'hh_8', 'hh_9', 'hh_10', 'hh_11', 'hh_12', 'hh_13', 'hh_14',\n",
      "       'hh_15', 'hh_16', 'hh_17', 'hh_18', 'hh_19', 'hh_20', 'hh_21', 'hh_22',\n",
      "       'hh_23', 'hh_24', 'hh_25', 'hh_26', 'hh_27', 'hh_28', 'hh_29', 'hh_30',\n",
      "       'hh_31', 'hh_32', 'hh_33', 'hh_34', 'hh_35', 'hh_36', 'hh_37', 'hh_38',\n",
      "       'hh_39', 'hh_40', 'hh_41', 'hh_42', 'hh_43', 'hh_44', 'hh_45', 'hh_46',\n",
      "       'hh_47'],\n",
      "      dtype='object')\n"
     ]
    }
   ],
   "source": [
    "print(block_1.columns)\n"
   ]
  },
  {
   "cell_type": "code",
   "execution_count": 133,
   "id": "9cacf5cd",
   "metadata": {},
   "outputs": [
    {
     "name": "stdout",
     "output_type": "stream",
     "text": [
      "Available columns: Index(['LCLid', 'day', 'hh_0', 'hh_1', 'hh_2', 'hh_3', 'hh_4', 'hh_5', 'hh_6',\n",
      "       'hh_7', 'hh_8', 'hh_9', 'hh_10', 'hh_11', 'hh_12', 'hh_13', 'hh_14',\n",
      "       'hh_15', 'hh_16', 'hh_17', 'hh_18', 'hh_19', 'hh_20', 'hh_21', 'hh_22',\n",
      "       'hh_23', 'hh_24', 'hh_25', 'hh_26', 'hh_27', 'hh_28', 'hh_29', 'hh_30',\n",
      "       'hh_31', 'hh_32', 'hh_33', 'hh_34', 'hh_35', 'hh_36', 'hh_37', 'hh_38',\n",
      "       'hh_39', 'hh_40', 'hh_41', 'hh_42', 'hh_43', 'hh_44', 'hh_45', 'hh_46',\n",
      "       'hh_47'],\n",
      "      dtype='object')\n"
     ]
    },
    {
     "data": {
      "image/png": "[encoded data removed]",
      "text/plain": [
       "<Figure size 1000x500 with 1 Axes>"
      ]
     },
     "metadata": {},
     "output_type": "display_data"
    }
   ],
   "source": [
    "import pandas as pd\n",
    "import numpy as np\n",
    "import matplotlib.pyplot as plt\n",
    "\n",
    "# ✅ Load CSV file\n",
    "block1_compact = pd.read_csv(\"./data/block_1.csv\", parse_dates=False)\n",
    "\n",
    "# ✅ Check available columns\n",
    "print(\"Available columns:\", block1_compact.columns)\n",
    "\n",
    "# ✅ Extract the correct energy consumption columns (hh_0 to hh_47)\n",
    "energy_columns = [f\"hh_{i}\" for i in range(48)]  \n",
    "\n",
    "# ✅ Convert energy values to numeric (handle non-numeric values as NaN)\n",
    "block1_compact[energy_columns] = block1_compact[energy_columns].apply(pd.to_numeric, errors=\"coerce\")\n",
    "\n",
    "# ✅ Compute the average energy consumption per half-hour slot\n",
    "hourly_avg = block1_compact[energy_columns].mean()\n",
    "\n",
    "# ✅ Plot the results\n",
    "plt.figure(figsize=(10, 5))\n",
    "plt.bar(range(48), hourly_avg, color=\"green\")\n",
    "plt.xlabel(\"Hour of the Day (Half-hour slots)\")\n",
    "plt.ylabel(\"Average Energy Consumption (kWh)\")\n",
    "plt.title(\"Average Energy Consumption Per Hour of the Day\")\n",
    "plt.xticks(range(0, 48, 2), labels=[f\"{h//2}:30\" if h % 2 else f\"{h//2}:00\" for h in range(0, 48, 2)], rotation=45)\n",
    "plt.grid(axis=\"y\")\n",
    "plt.show()\n",
    "\n"
   ]
  },
  {
   "cell_type": "code",
   "execution_count": 134,
   "id": "e325c848",
   "metadata": {},
   "outputs": [
    {
     "name": "stdout",
     "output_type": "stream",
     "text": [
      "Available columns: Index(['LCLid', 'day', 'hh_0', 'hh_1', 'hh_2', 'hh_3', 'hh_4', 'hh_5', 'hh_6',\n",
      "       'hh_7', 'hh_8', 'hh_9', 'hh_10', 'hh_11', 'hh_12', 'hh_13', 'hh_14',\n",
      "       'hh_15', 'hh_16', 'hh_17', 'hh_18', 'hh_19', 'hh_20', 'hh_21', 'hh_22',\n",
      "       'hh_23', 'hh_24', 'hh_25', 'hh_26', 'hh_27', 'hh_28', 'hh_29', 'hh_30',\n",
      "       'hh_31', 'hh_32', 'hh_33', 'hh_34', 'hh_35', 'hh_36', 'hh_37', 'hh_38',\n",
      "       'hh_39', 'hh_40', 'hh_41', 'hh_42', 'hh_43', 'hh_44', 'hh_45', 'hh_46',\n",
      "       'hh_47'],\n",
      "      dtype='object')\n"
     ]
    },
    {
     "data": {
      "image/png": "[encoded data removed]",
      "text/plain": [
       "<Figure size 1200x600 with 1 Axes>"
      ]
     },
     "metadata": {},
     "output_type": "display_data"
    }
   ],
   "source": [
    "import pandas as pd\n",
    "import numpy as np\n",
    "import matplotlib.pyplot as plt\n",
    "import random\n",
    "\n",
    "# ✅ Load data\n",
    "block1_compact = pd.read_csv(\"./data/block_1.csv\", parse_dates=[\"day\"])\n",
    "\n",
    "# ✅ Check available columns\n",
    "print(\"Available columns:\", block1_compact.columns)\n",
    "\n",
    "# ✅ Select 5 random customers\n",
    "random_customers = random.sample(list(block1_compact[\"LCLid\"].unique()), 5)\n",
    "\n",
    "plt.figure(figsize=(12, 6))\n",
    "\n",
    "for customer in random_customers:\n",
    "    # ✅ Get customer data\n",
    "    customer_data = block1_compact[block1_compact[\"LCLid\"] == customer]\n",
    "\n",
    "    # ✅ Generate timestamps for each half-hour slot of the day\n",
    "    timestamps = pd.date_range(start=customer_data[\"day\"].values[0], periods=48, freq=\"30min\")\n",
    "\n",
    "    # ✅ Extract energy consumption values\n",
    "    energy_values = customer_data.iloc[0, 2:].values.astype(float)  # Select hh_0 to hh_47 columns\n",
    "\n",
    "    # ✅ Plot each customer's energy usage\n",
    "    plt.plot(timestamps, energy_values, label=f\"Customer {customer}\")\n",
    "\n",
    "plt.xlabel(\"Time\")\n",
    "plt.ylabel(\"Energy Consumption (kWh)\")\n",
    "plt.title(\"Comparison of Energy Usage Between Customers\")\n",
    "plt.legend()\n",
    "plt.grid(True)\n",
    "plt.xticks(rotation=45)\n",
    "plt.show()\n"
   ]
  },
  {
   "cell_type": "code",
   "execution_count": 135,
   "id": "6cd213b6",
   "metadata": {},
   "outputs": [
    {
     "data": {
      "image/png": "[encoded data removed]",
      "text/plain": [
       "<Figure size 1200x600 with 1 Axes>"
      ]
     },
     "metadata": {},
     "output_type": "display_data"
    }
   ],
   "source": [
    "import pandas as pd\n",
    "import numpy as np\n",
    "import matplotlib.pyplot as plt\n",
    "import random\n",
    "from mpl_toolkits.mplot3d import Axes3D\n",
    "\n",
    "# ✅ Load data\n",
    "block1_compact = pd.read_csv(\"./data/block_1.csv\", parse_dates=[\"day\"])\n",
    "\n",
    "# ✅ Select a random customer\n",
    "random_customer = random.choice(block1_compact[\"LCLid\"].unique())\n",
    "\n",
    "# ✅ Extract customer data\n",
    "customer_data = block1_compact[block1_compact[\"LCLid\"] == random_customer]\n",
    "\n",
    "# ✅ Generate timestamps assuming each row represents one full day\n",
    "timestamps = pd.date_range(start=customer_data[\"day\"].values[0], periods=48, freq=\"30min\")\n",
    "\n",
    "# ✅ Extract energy consumption values (hh_0 to hh_47)\n",
    "energy_values = customer_data.iloc[0, 2:].values.astype(float)  # Convert to float\n",
    "\n",
    "# ✅ Convert timestamps to numerical values for 3D plotting\n",
    "time_numeric = np.arange(len(timestamps))\n",
    "\n",
    "# ✅ Create 3D plot\n",
    "fig = plt.figure(figsize=(12, 6))\n",
    "ax = fig.add_subplot(111, projection=\"3d\")\n",
    "\n",
    "ax.plot(time_numeric, energy_values, zs=0, zdir=\"z\", label=\"Energy Consumption\", color=\"blue\")\n",
    "\n",
    "ax.set_xlabel(\"Time Step\")\n",
    "ax.set_ylabel(\"Energy Consumption (kWh)\")\n",
    "ax.set_zlabel(\"Index\")\n",
    "ax.set_title(f\"3D Energy Consumption Over Time - Customer {random_customer}\")\n",
    "\n",
    "plt.show()\n"
   ]
  },
  {
   "cell_type": "code",
   "execution_count": 136,
   "id": "6f875d4c",
   "metadata": {},
   "outputs": [
    {
     "data": {
      "image/png": "[encoded data removed]",
      "text/plain": [
       "<Figure size 1000x600 with 2 Axes>"
      ]
     },
     "metadata": {},
     "output_type": "display_data"
    }
   ],
   "source": [
    "import pandas as pd\n",
    "import numpy as np\n",
    "import matplotlib.pyplot as plt\n",
    "import seaborn as sns\n",
    "\n",
    "# ✅ Load dataset\n",
    "block1_compact = pd.read_csv(\"./data/block_1.csv\", parse_dates=[\"day\"])\n",
    "\n",
    "# ✅ Define the correct energy columns\n",
    "energy_columns = [f\"hh_{i}\" for i in range(48)]\n",
    "\n",
    "# ✅ Convert energy values to numeric (if necessary)\n",
    "block1_compact[energy_columns] = block1_compact[energy_columns].apply(pd.to_numeric, errors=\"coerce\")\n",
    "\n",
    "# ✅ Create a matrix of hourly energy consumption averages (7 days × 48 half-hour slots)\n",
    "hourly_avg_matrix = np.zeros((7, 48))\n",
    "\n",
    "# ✅ Iterate over the first 7 rows (customers or days)\n",
    "for i, row in block1_compact.iloc[:7].iterrows():\n",
    "    energy_values = row[energy_columns].values.astype(float)  # Convert to float\n",
    "    hourly_avg_matrix[i, :] = energy_values  # Store in matrix\n",
    "\n",
    "# ✅ Plot the heatmap\n",
    "plt.figure(figsize=(10, 6))\n",
    "sns.heatmap(hourly_avg_matrix, cmap=\"coolwarm\", xticklabels=range(48), yticklabels=[\"Mon\", \"Tue\", \"Wed\", \"Thu\", \"Fri\", \"Sat\", \"Sun\"])\n",
    "plt.xlabel(\"Hour of the Day (Half-hour slots)\")\n",
    "plt.ylabel(\"Day of the Week\")\n",
    "plt.title(\"Heatmap of Energy Usage Per Hour & Day\")\n",
    "plt.show()\n"
   ]
  },
  {
   "cell_type": "code",
   "execution_count": 137,
   "id": "9387f337",
   "metadata": {},
   "outputs": [
    {
     "data": {
      "image/png": "[encoded data removed]",
      "text/plain": [
       "<Figure size 1000x500 with 1 Axes>"
      ]
     },
     "metadata": {},
     "output_type": "display_data"
    }
   ],
   "source": [
    "import numpy as np\n",
    "import pandas as pd\n",
    "import matplotlib.pyplot as plt\n",
    "\n",
    "# ✅ Define energy consumption columns\n",
    "energy_columns = [f\"hh_{i}\" for i in range(48)]\n",
    "\n",
    "# ✅ Load dataset (if not already loaded)\n",
    "block1_compact = pd.read_csv(\"./data/block_1.csv\")\n",
    "\n",
    "# ✅ Convert values to float (in case of strings or errors)\n",
    "block1_compact[energy_columns] = block1_compact[energy_columns].apply(pd.to_numeric, errors=\"coerce\")\n",
    "\n",
    "# ✅ Flatten the energy consumption data into a single array\n",
    "all_energy_values = block1_compact[energy_columns].values.flatten()\n",
    "\n",
    "# ✅ Remove NaN values (if any)\n",
    "all_energy_values = all_energy_values[~np.isnan(all_energy_values)]\n",
    "\n",
    "# ✅ Plot histogram\n",
    "plt.figure(figsize=(10, 5))\n",
    "plt.hist(all_energy_values, bins=50, color=\"purple\", alpha=0.7)\n",
    "\n",
    "plt.xlabel(\"Energy Consumption (kWh)\")\n",
    "plt.ylabel(\"Frequency\")\n",
    "plt.title(\"Histogram of Energy Consumption\")\n",
    "plt.grid(True)\n",
    "plt.show()\n"
   ]
  },
  {
   "cell_type": "markdown",
   "id": "829a8339",
   "metadata": {},
   "source": [
    "# Compact Form"
   ]
  },
  {
   "cell_type": "code",
   "execution_count": 138,
   "id": "d454bdea",
   "metadata": {},
   "outputs": [],
   "source": [
    "def preprocess_compact(x):\n",
    "    start_date = x['day'].min()\n",
    "    name = x['LCLid'].unique()[0]\n",
    "    ### Fill missing dates with NaN ###\n",
    "    # Create a date range from  min to max\n",
    "    dr = pd.date_range(start=x['day'].min(), end=max_date, freq=\"1D\")\n",
    "    # Add hh_0 to hh_47 to columns and with some unstack magic recreating date-hh_x combinations\n",
    "    dr = pd.DataFrame(columns=[f\"hh_{i}\" for i in range(48)], index=dr).unstack().reset_index()\n",
    "    # renaming the columns\n",
    "    dr.columns = [\"hour_block\", \"day\", \"_\"]\n",
    "    # left merging the dataframe to the standard dataframe\n",
    "    # now the missing values will be left as NaN\n",
    "    dr = dr.merge(x, on=['hour_block','day'], how='left')\n",
    "    # sorting the rows\n",
    "    dr.sort_values(['day',\"offset\"], inplace=True)\n",
    "    # extracting the timeseries array\n",
    "    ts = dr['energy_consumption'].values\n",
    "    len_ts = len(ts)\n",
    "    return start_date, name, ts, len_ts"
   ]
  },
  {
   "cell_type": "code",
   "execution_count": 139,
   "id": "7f768cf7",
   "metadata": {},
   "outputs": [
    {
     "name": "stdout",
     "output_type": "stream",
     "text": [
      "block_1 columns: Index(['LCLid', 'day', 'hh_0', 'hh_1', 'hh_2', 'hh_3', 'hh_4', 'hh_5', 'hh_6',\n",
      "       'hh_7', 'hh_8', 'hh_9', 'hh_10', 'hh_11', 'hh_12', 'hh_13', 'hh_14',\n",
      "       'hh_15', 'hh_16', 'hh_17', 'hh_18', 'hh_19', 'hh_20', 'hh_21', 'hh_22',\n",
      "       'hh_23', 'hh_24', 'hh_25', 'hh_26', 'hh_27', 'hh_28', 'hh_29', 'hh_30',\n",
      "       'hh_31', 'hh_32', 'hh_33', 'hh_34', 'hh_35', 'hh_36', 'hh_37', 'hh_38',\n",
      "       'hh_39', 'hh_40', 'hh_41', 'hh_42', 'hh_43', 'hh_44', 'hh_45', 'hh_46',\n",
      "       'hh_47'],\n",
      "      dtype='object')\n"
     ]
    }
   ],
   "source": [
    "print(\"block_1 columns:\", block_1.columns)\n"
   ]
  },
  {
   "cell_type": "code",
   "execution_count": 140,
   "id": "42d66b66",
   "metadata": {},
   "outputs": [],
   "source": [
    "block_1_melted = block_1.melt(id_vars=[\"LCLid\", \"day\"], var_name=\"hour_block\", value_name=\"energy_consumption\")\n"
   ]
  },
  {
   "cell_type": "code",
   "execution_count": 141,
   "id": "34da937e",
   "metadata": {},
   "outputs": [
    {
     "name": "stdout",
     "output_type": "stream",
     "text": [
      "       LCLid         day hour_block  energy_consumption\n",
      "0  MAC000002  2012-10-13       hh_0               0.263\n",
      "1  MAC000002  2012-10-14       hh_0               0.262\n",
      "2  MAC000002  2012-10-15       hh_0               0.192\n",
      "3  MAC000002  2012-10-16       hh_0               0.237\n",
      "4  MAC000002  2012-10-17       hh_0               0.157\n"
     ]
    }
   ],
   "source": [
    "print(block_1_melted.head())\n"
   ]
  },
  {
   "cell_type": "code",
   "execution_count": 142,
   "id": "a1937341",
   "metadata": {},
   "outputs": [],
   "source": [
    "block_1_melted[\"hour_block\"] = block_1_melted[\"hour_block\"].astype(str).str.replace(\"hh_\", \"\").astype(int)\n"
   ]
  },
  {
   "cell_type": "code",
   "execution_count": 143,
   "id": "dccb0b17",
   "metadata": {},
   "outputs": [
    {
     "name": "stdout",
     "output_type": "stream",
     "text": [
      "       LCLid         day  hour_block  energy_consumption\n",
      "0  MAC000002  2012-10-13           0               0.263\n",
      "1  MAC000002  2012-10-14           0               0.262\n",
      "2  MAC000002  2012-10-15           0               0.192\n",
      "3  MAC000002  2012-10-16           0               0.237\n",
      "4  MAC000002  2012-10-17           0               0.157\n"
     ]
    }
   ],
   "source": [
    "print(block_1_melted.head())\n"
   ]
  },
  {
   "cell_type": "code",
   "execution_count": 144,
   "id": "1c4e16de",
   "metadata": {},
   "outputs": [],
   "source": [
    "block_1_melted[\"hour_block\"] = block_1_melted[\"hour_block\"].astype(str)\n"
   ]
  },
  {
   "cell_type": "code",
   "execution_count": 145,
   "id": "0a562931",
   "metadata": {},
   "outputs": [],
   "source": [
    "def load_process_block_compact(block_df, freq=\"30min\", ts_identifier=\"series_name\", value_name=\"series_value\"):\n",
    "    grps = block_df.groupby('LCLid')\n",
    "    all_series = []\n",
    "    all_start_dates = []\n",
    "    all_names = []\n",
    "    all_data = {}\n",
    "    all_len = []\n",
    "\n",
    "    for idx, df in tqdm(grps, leave=False):\n",
    "        start_date, name, ts, len_ts = preprocess_compact(df)\n",
    "        all_series.append(ts)\n",
    "        all_start_dates.append(start_date)\n",
    "        all_names.append(name)\n",
    "        all_len.append(len_ts)\n",
    "\n",
    "    all_data[ts_identifier] = all_names\n",
    "    all_data['start_timestamp'] = all_start_dates\n",
    "    all_data['frequency'] = freq\n",
    "    all_data[value_name] = all_series\n",
    "    all_data['series_length'] = all_len\n",
    "\n",
    "    return pd.DataFrame(all_data)\n"
   ]
  },
  {
   "cell_type": "code",
   "execution_count": 146,
   "id": "ce0eb79f",
   "metadata": {},
   "outputs": [],
   "source": [
    "def preprocess_compact(x):\n",
    "    # Creating a copy of the input DataFrame\n",
    "    dr = x.copy()\n",
    "\n",
    "    # Sorting the rows by 'day'\n",
    "    dr.sort_values(['day'], inplace=True)\n",
    "\n",
    "    # Extracting the timeseries array\n",
    "    ts = dr['energy_consumption'].values\n",
    "    len_ts = len(ts)\n",
    "\n",
    "    # Returning extracted information\n",
    "    return dr['day'].min(), x['LCLid'].iloc[0], ts, len_ts\n"
   ]
  },
  {
   "cell_type": "code",
   "execution_count": 147,
   "id": "39f9320a",
   "metadata": {},
   "outputs": [
    {
     "name": "stderr",
     "output_type": "stream",
     "text": [
      "                                                                                \r"
     ]
    }
   ],
   "source": [
    "block1_compact = load_process_block_compact(block_1_melted, freq=\"30min\", ts_identifier=\"LCLid\", value_name=\"energy_consumption\")\n",
    "\n"
   ]
  },
  {
   "cell_type": "code",
   "execution_count": 148,
   "id": "070fd89c",
   "metadata": {},
   "outputs": [
    {
     "data": {
      "text/html": [
       "<div>\n",
       "<style scoped>\n",
       "    .dataframe tbody tr th:only-of-type {\n",
       "        vertical-align: middle;\n",
       "    }\n",
       "\n",
       "    .dataframe tbody tr th {\n",
       "        vertical-align: top;\n",
       "    }\n",
       "\n",
       "    .dataframe thead th {\n",
       "        text-align: right;\n",
       "    }\n",
       "</style>\n",
       "<table border=\"1\" class=\"dataframe\">\n",
       "  <thead>\n",
       "    <tr style=\"text-align: right;\">\n",
       "      <th></th>\n",
       "      <th>LCLid</th>\n",
       "      <th>start_timestamp</th>\n",
       "      <th>frequency</th>\n",
       "      <th>energy_consumption</th>\n",
       "      <th>series_length</th>\n",
       "    </tr>\n",
       "  </thead>\n",
       "  <tbody>\n",
       "    <tr>\n",
       "      <th>0</th>\n",
       "      <td>MAC000002</td>\n",
       "      <td>2012-10-13</td>\n",
       "      <td>30min</td>\n",
       "      <td>[0.263, 0.161, 0.134, 0.235, 0.124, 0.136, 0.1...</td>\n",
       "      <td>23904</td>\n",
       "    </tr>\n",
       "    <tr>\n",
       "      <th>1</th>\n",
       "      <td>MAC000246</td>\n",
       "      <td>2011-12-04</td>\n",
       "      <td>30min</td>\n",
       "      <td>[0.175, 0.634, 1.219, 0.821, 0.233, 0.144, 0.1...</td>\n",
       "      <td>39072</td>\n",
       "    </tr>\n",
       "    <tr>\n",
       "      <th>2</th>\n",
       "      <td>MAC000450</td>\n",
       "      <td>2012-03-23</td>\n",
       "      <td>30min</td>\n",
       "      <td>[1.337, 1.012, 0.971, 0.826, 0.842000000000000...</td>\n",
       "      <td>19680</td>\n",
       "    </tr>\n",
       "    <tr>\n",
       "      <th>3</th>\n",
       "      <td>MAC001074</td>\n",
       "      <td>2012-05-09</td>\n",
       "      <td>30min</td>\n",
       "      <td>[0.18, 1.86, 0.089, 1.523, 1.0, 0.39, 0.086, 0...</td>\n",
       "      <td>10656</td>\n",
       "    </tr>\n",
       "    <tr>\n",
       "      <th>4</th>\n",
       "      <td>MAC003223</td>\n",
       "      <td>2012-09-18</td>\n",
       "      <td>30min</td>\n",
       "      <td>[0.076, 0.077, 0.392, 0.083, 0.252, 0.051, 0.0...</td>\n",
       "      <td>25248</td>\n",
       "    </tr>\n",
       "  </tbody>\n",
       "</table>\n",
       "</div>"
      ],
      "text/plain": [
       "       LCLid start_timestamp frequency  \\\n",
       "0  MAC000002      2012-10-13     30min   \n",
       "1  MAC000246      2011-12-04     30min   \n",
       "2  MAC000450      2012-03-23     30min   \n",
       "3  MAC001074      2012-05-09     30min   \n",
       "4  MAC003223      2012-09-18     30min   \n",
       "\n",
       "                                  energy_consumption  series_length  \n",
       "0  [0.263, 0.161, 0.134, 0.235, 0.124, 0.136, 0.1...          23904  \n",
       "1  [0.175, 0.634, 1.219, 0.821, 0.233, 0.144, 0.1...          39072  \n",
       "2  [1.337, 1.012, 0.971, 0.826, 0.842000000000000...          19680  \n",
       "3  [0.18, 1.86, 0.089, 1.523, 1.0, 0.39, 0.086, 0...          10656  \n",
       "4  [0.076, 0.077, 0.392, 0.083, 0.252, 0.051, 0.0...          25248  "
      ]
     },
     "execution_count": 148,
     "metadata": {},
     "output_type": "execute_result"
    }
   ],
   "source": [
    "block1_compact.head()"
   ]
  },
  {
   "cell_type": "code",
   "execution_count": 149,
   "id": "ba8a244e",
   "metadata": {},
   "outputs": [
    {
     "data": {
      "text/plain": [
       "Index                  132\n",
       "LCLid                 2900\n",
       "start_timestamp       2950\n",
       "frequency             2700\n",
       "energy_consumption    6000\n",
       "series_length          400\n",
       "dtype: int64"
      ]
     },
     "metadata": {},
     "output_type": "display_data"
    },
    {
     "name": "stdout",
     "output_type": "stream",
     "text": [
      "Total: 0.014383316040039062 MB\n"
     ]
    }
   ],
   "source": [
    "display(block1_compact.memory_usage(deep=True))\n",
    "print(f\"Total: {block1_compact.memory_usage(deep=True).sum()/1024**2} MB\")"
   ]
  },
  {
   "cell_type": "markdown",
   "id": "9eeeed3e",
   "metadata": {},
   "source": [
    "# Expanded Form"
   ]
  },
  {
   "cell_type": "code",
   "execution_count": 150,
   "id": "b30477f1",
   "metadata": {},
   "outputs": [],
   "source": [
    "def preprocess_expanded(x):\n",
    "    start_date = x['day'].min()\n",
    "\n",
    "    ### Fill missing dates with NaN ###\n",
    "    dr = pd.date_range(start=start_date, end=x['day'].max(), freq=\"1D\")\n",
    "    dr = pd.MultiIndex.from_product([dr, range(48)], names=[\"day\", \"hour_block\"]).to_frame(index=False)\n",
    "\n",
    "    # Format 'hour_block' correctly\n",
    "    dr[\"hour_block\"] = dr[\"hour_block\"].apply(lambda x: f\"hh_{x}\")\n",
    "\n",
    "    # Debugging prints\n",
    "    print(\"Columns in x before melting:\", x.columns)\n",
    "\n",
    "    # Reshape x: Convert hh_0, hh_1, ..., hh_47 into a long format with 'hour_block'\n",
    "    x_melted = x.melt(id_vars=['LCLid', 'day'], var_name='hour_block', value_name='energy_consumption')\n",
    "\n",
    "    # Ensure 'hour_block' is formatted correctly\n",
    "    x_melted['hour_block'] = x_melted['hour_block'].astype(str)\n",
    "\n",
    "    # Debugging print after melting\n",
    "    print(\"Columns in x after melting:\", x_melted.columns)\n",
    "\n",
    "    # Merge with the corrected format\n",
    "    dr = dr.merge(x_melted, on=['hour_block', 'day'], how='left')\n",
    "\n",
    "    return dr\n"
   ]
  },
  {
   "cell_type": "code",
   "execution_count": 151,
   "id": "692452fa",
   "metadata": {},
   "outputs": [
    {
     "name": "stdout",
     "output_type": "stream",
     "text": [
      "Shape of block_1 DataFrame: (25286, 50)\n",
      "       LCLid         day   hh_0   hh_1   hh_2   hh_3   hh_4   hh_5   hh_6  \\\n",
      "0  MAC000002  2012-10-13  0.263  0.269  0.275  0.256  0.211  0.136  0.161   \n",
      "1  MAC000002  2012-10-14  0.262  0.166  0.226  0.088  0.126  0.082  0.123   \n",
      "2  MAC000002  2012-10-15  0.192  0.097  0.141  0.083  0.132  0.070  0.130   \n",
      "3  MAC000002  2012-10-16  0.237  0.237  0.193  0.118  0.098  0.107  0.094   \n",
      "4  MAC000002  2012-10-17  0.157  0.211  0.155  0.169  0.101  0.117  0.084   \n",
      "\n",
      "    hh_7  ...  hh_38  hh_39  hh_40  hh_41  hh_42  hh_43  hh_44  hh_45  hh_46  \\\n",
      "0  0.119  ...  0.918  0.278  0.267  0.239  0.230  0.233  0.235  0.188  0.259   \n",
      "1  0.083  ...  1.075  0.956  0.821  0.745  0.712  0.511  0.231  0.210  0.278   \n",
      "2  0.074  ...  1.164  0.249  0.225  0.258  0.260  0.334  0.299  0.236  0.241   \n",
      "3  0.109  ...  0.966  0.172  0.192  0.228  0.203  0.211  0.188  0.213  0.157   \n",
      "4  0.118  ...  0.223  0.075  0.230  0.208  0.265  0.377  0.327  0.277  0.288   \n",
      "\n",
      "   hh_47  \n",
      "0  0.250  \n",
      "1  0.159  \n",
      "2  0.237  \n",
      "3  0.202  \n",
      "4  0.256  \n",
      "\n",
      "[5 rows x 50 columns]\n"
     ]
    }
   ],
   "source": [
    "print(\"Shape of block_1 DataFrame:\", block_1.shape)\n",
    "print(block_1.head())"
   ]
  },
  {
   "cell_type": "code",
   "execution_count": 152,
   "id": "c9a8f439",
   "metadata": {},
   "outputs": [
    {
     "name": "stdout",
     "output_type": "stream",
     "text": [
      "Initial shape of block_df: (25286, 50)\n"
     ]
    },
    {
     "name": "stderr",
     "output_type": "stream",
     "text": [
      "  0%|                                                    | 0/50 [00:00<?, ?it/s]"
     ]
    },
    {
     "name": "stdout",
     "output_type": "stream",
     "text": [
      "Processing LCLid: MAC000002 with shape: (498, 50)\n",
      "Initial shape of x: (498, 50)\n"
     ]
    },
    {
     "name": "stderr",
     "output_type": "stream",
     "text": [
      "  2%|▉                                           | 1/50 [00:00<00:08,  5.97it/s]"
     ]
    },
    {
     "name": "stdout",
     "output_type": "stream",
     "text": [
      "Columns in x after melting: Index(['LCLid', 'day', 'hour_block', 'energy_usage'], dtype='object')\n",
      "Processing LCLid: MAC000246 with shape: (814, 50)\n",
      "Initial shape of x: (814, 50)\n",
      "Columns in x after melting: Index(['LCLid', 'day', 'hour_block', 'energy_usage'], dtype='object')\n",
      "Processing LCLid: MAC000450 with shape: (410, 50)\n",
      "Initial shape of x: (410, 50)\n"
     ]
    },
    {
     "name": "stderr",
     "output_type": "stream",
     "text": [
      "  6%|██▋                                         | 3/50 [00:00<00:04, 10.57it/s]"
     ]
    },
    {
     "name": "stdout",
     "output_type": "stream",
     "text": [
      "Columns in x after melting: Index(['LCLid', 'day', 'hour_block', 'energy_usage'], dtype='object')\n",
      "Processing LCLid: MAC001074 with shape: (222, 50)\n",
      "Initial shape of x: (222, 50)\n",
      "Columns in x after melting: Index(['LCLid', 'day', 'hour_block', 'energy_usage'], dtype='object')\n",
      "Processing LCLid: MAC003223 with shape: (526, 50)\n",
      "Initial shape of x: (526, 50)\n"
     ]
    },
    {
     "name": "stderr",
     "output_type": "stream",
     "text": [
      " 12%|█████▎                                      | 6/50 [00:00<00:02, 15.21it/s]"
     ]
    },
    {
     "name": "stdout",
     "output_type": "stream",
     "text": [
      "Columns in x after melting: Index(['LCLid', 'day', 'hour_block', 'energy_usage'], dtype='object')\n",
      "Processing LCLid: MAC003239 with shape: (526, 50)\n",
      "Initial shape of x: (526, 50)\n",
      "Columns in x after melting: Index(['LCLid', 'day', 'hour_block', 'energy_usage'], dtype='object')\n",
      "Processing LCLid: MAC003252 with shape: (513, 50)\n",
      "Initial shape of x: (513, 50)\n"
     ]
    },
    {
     "name": "stderr",
     "output_type": "stream",
     "text": [
      " 16%|███████                                     | 8/50 [00:00<00:02, 15.88it/s]"
     ]
    },
    {
     "name": "stdout",
     "output_type": "stream",
     "text": [
      "Columns in x after melting: Index(['LCLid', 'day', 'hour_block', 'energy_usage'], dtype='object')\n",
      "Processing LCLid: MAC003281 with shape: (519, 50)\n",
      "Initial shape of x: (519, 50)\n",
      "Columns in x after melting: Index(['LCLid', 'day', 'hour_block', 'energy_usage'], dtype='object')\n",
      "Processing LCLid: MAC003305 with shape: (519, 50)\n",
      "Initial shape of x: (519, 50)\n",
      "Columns in x after melting: Index(['LCLid', 'day', 'hour_block', 'energy_usage'], dtype='object')\n"
     ]
    },
    {
     "name": "stderr",
     "output_type": "stream",
     "text": [
      " 22%|█████████▍                                 | 11/50 [00:00<00:02, 17.91it/s]"
     ]
    },
    {
     "name": "stdout",
     "output_type": "stream",
     "text": [
      "Processing LCLid: MAC003348 with shape: (440, 50)\n",
      "Initial shape of x: (440, 50)\n",
      "Columns in x after melting: Index(['LCLid', 'day', 'hour_block', 'energy_usage'], dtype='object')\n",
      "Processing LCLid: MAC003388 with shape: (516, 50)\n",
      "Initial shape of x: (516, 50)\n",
      "Columns in x after melting: Index(['LCLid', 'day', 'hour_block', 'energy_usage'], dtype='object')\n",
      "Processing LCLid: MAC003394 with shape: (510, 50)\n",
      "Initial shape of x: (510, 50)\n"
     ]
    },
    {
     "name": "stderr",
     "output_type": "stream",
     "text": [
      " 26%|███████████▏                               | 13/50 [00:00<00:02, 17.97it/s]"
     ]
    },
    {
     "name": "stdout",
     "output_type": "stream",
     "text": [
      "Columns in x after melting: Index(['LCLid', 'day', 'hour_block', 'energy_usage'], dtype='object')\n",
      "Processing LCLid: MAC003400 with shape: (511, 50)\n",
      "Initial shape of x: (511, 50)\n",
      "Columns in x after melting: Index(['LCLid', 'day', 'hour_block', 'energy_usage'], dtype='object')\n",
      "Processing LCLid: MAC003422 with shape: (494, 50)\n",
      "Initial shape of x: (494, 50)\n"
     ]
    },
    {
     "name": "stderr",
     "output_type": "stream",
     "text": [
      " 30%|████████████▉                              | 15/50 [00:00<00:02, 16.96it/s]"
     ]
    },
    {
     "name": "stdout",
     "output_type": "stream",
     "text": [
      "Columns in x after melting: Index(['LCLid', 'day', 'hour_block', 'energy_usage'], dtype='object')\n",
      "Processing LCLid: MAC003423 with shape: (503, 50)\n",
      "Initial shape of x: (503, 50)\n",
      "Columns in x after melting: Index(['LCLid', 'day', 'hour_block', 'energy_usage'], dtype='object')\n",
      "Processing LCLid: MAC003428 with shape: (508, 50)\n",
      "Initial shape of x: (508, 50)\n",
      "Columns in x after melting: Index(['LCLid', 'day', 'hour_block', 'energy_usage'], dtype='object')\n",
      "Processing LCLid: MAC003449 with shape: (507, 50)\n",
      "Initial shape of x: (507, 50)\n"
     ]
    },
    {
     "name": "stderr",
     "output_type": "stream",
     "text": [
      " 38%|████████████████▎                          | 19/50 [00:01<00:04,  7.23it/s]"
     ]
    },
    {
     "name": "stdout",
     "output_type": "stream",
     "text": [
      "Columns in x after melting: Index(['LCLid', 'day', 'hour_block', 'energy_usage'], dtype='object')\n",
      "Processing LCLid: MAC003463 with shape: (311, 50)\n",
      "Initial shape of x: (311, 50)\n",
      "Columns in x after melting: Index(['LCLid', 'day', 'hour_block', 'energy_usage'], dtype='object')\n",
      "Processing LCLid: MAC003482 with shape: (509, 50)\n",
      "Initial shape of x: (509, 50)\n",
      "Columns in x after melting: Index(['LCLid', 'day', 'hour_block', 'energy_usage'], dtype='object')\n",
      "Processing LCLid: MAC003553 with shape: (503, 50)\n",
      "Initial shape of x: (503, 50)\n",
      "Columns in x after melting: Index(['LCLid', 'day', 'hour_block', 'energy_usage'], dtype='object')\n",
      "Processing LCLid: MAC003557 with shape: (405, 50)\n",
      "Initial shape of x: (405, 50)\n"
     ]
    },
    {
     "name": "stderr",
     "output_type": "stream",
     "text": [
      " 46%|███████████████████▊                       | 23/50 [00:02<00:02,  9.77it/s]"
     ]
    },
    {
     "name": "stdout",
     "output_type": "stream",
     "text": [
      "Columns in x after melting: Index(['LCLid', 'day', 'hour_block', 'energy_usage'], dtype='object')\n",
      "Processing LCLid: MAC003566 with shape: (503, 50)\n",
      "Initial shape of x: (503, 50)\n",
      "Columns in x after melting: Index(['LCLid', 'day', 'hour_block', 'energy_usage'], dtype='object')\n",
      "Processing LCLid: MAC003579 with shape: (505, 50)\n",
      "Initial shape of x: (505, 50)\n",
      "Columns in x after melting: Index(['LCLid', 'day', 'hour_block', 'energy_usage'], dtype='object')\n",
      "Processing LCLid: MAC003597 with shape: (501, 50)\n",
      "Initial shape of x: (501, 50)\n"
     ]
    },
    {
     "name": "stderr",
     "output_type": "stream",
     "text": [
      " 50%|█████████████████████▌                     | 25/50 [00:02<00:02, 10.59it/s]"
     ]
    },
    {
     "name": "stdout",
     "output_type": "stream",
     "text": [
      "Columns in x after melting: Index(['LCLid', 'day', 'hour_block', 'energy_usage'], dtype='object')\n",
      "Processing LCLid: MAC003613 with shape: (500, 50)\n",
      "Initial shape of x: (500, 50)\n",
      "Columns in x after melting: Index(['LCLid', 'day', 'hour_block', 'energy_usage'], dtype='object')\n",
      "Processing LCLid: MAC003646 with shape: (502, 50)\n",
      "Initial shape of x: (502, 50)\n",
      "Columns in x after melting: Index(['LCLid', 'day', 'hour_block', 'energy_usage'], dtype='object')\n",
      "Processing LCLid: MAC003656 with shape: (500, 50)\n",
      "Initial shape of x: (500, 50)\n"
     ]
    },
    {
     "name": "stderr",
     "output_type": "stream",
     "text": [
      " 58%|████████████████████████▉                  | 29/50 [00:02<00:02,  9.89it/s]"
     ]
    },
    {
     "name": "stdout",
     "output_type": "stream",
     "text": [
      "Columns in x after melting: Index(['LCLid', 'day', 'hour_block', 'energy_usage'], dtype='object')\n",
      "Processing LCLid: MAC003668 with shape: (499, 50)\n",
      "Initial shape of x: (499, 50)\n",
      "Columns in x after melting: Index(['LCLid', 'day', 'hour_block', 'energy_usage'], dtype='object')\n",
      "Processing LCLid: MAC003680 with shape: (493, 50)\n",
      "Initial shape of x: (493, 50)\n",
      "Columns in x after melting: Index(['LCLid', 'day', 'hour_block', 'energy_usage'], dtype='object')\n",
      "Processing LCLid: MAC003686 with shape: (497, 50)\n",
      "Initial shape of x: (497, 50)\n",
      "Columns in x after melting: Index(['LCLid', 'day', 'hour_block', 'energy_usage'], dtype='object')\n",
      "Processing LCLid: MAC003718 with shape: (361, 50)\n",
      "Initial shape of x: (361, 50)\n",
      "Columns in x after melting: Index(['LCLid', 'day', 'hour_block', 'energy_usage'], dtype='object')\n",
      "Processing LCLid: MAC003719 with shape: (497, 50)\n",
      "Initial shape of x: (497, 50)\n"
     ]
    },
    {
     "name": "stderr",
     "output_type": "stream",
     "text": [
      " 70%|██████████████████████████████             | 35/50 [00:03<00:00, 15.63it/s]"
     ]
    },
    {
     "name": "stdout",
     "output_type": "stream",
     "text": [
      "Columns in x after melting: Index(['LCLid', 'day', 'hour_block', 'energy_usage'], dtype='object')\n",
      "Processing LCLid: MAC003737 with shape: (496, 50)\n",
      "Initial shape of x: (496, 50)\n",
      "Columns in x after melting: Index(['LCLid', 'day', 'hour_block', 'energy_usage'], dtype='object')\n",
      "Processing LCLid: MAC003740 with shape: (495, 50)\n",
      "Initial shape of x: (495, 50)\n",
      "Columns in x after melting: Index(['LCLid', 'day', 'hour_block', 'energy_usage'], dtype='object')\n",
      "Processing LCLid: MAC003775 with shape: (448, 50)\n",
      "Initial shape of x: (448, 50)\n",
      "Columns in x after melting: Index(['LCLid', 'day', 'hour_block', 'energy_usage'], dtype='object')\n",
      "Processing LCLid: MAC003805 with shape: (492, 50)\n",
      "Initial shape of x: (492, 50)\n",
      "Columns in x after melting: Index(['LCLid', 'day', 'hour_block', 'energy_usage'], dtype='object')\n",
      "Processing LCLid: MAC003817 with shape: (493, 50)\n",
      "Initial shape of x: (493, 50)\n",
      "Columns in x after melting: Index(['LCLid', 'day', 'hour_block', 'energy_usage'], dtype='object')\n",
      "Processing LCLid: MAC003826 with shape: (491, 50)\n",
      "Initial shape of x: (491, 50)\n",
      "Columns in x after melting: Index(['LCLid', 'day', 'hour_block', 'energy_usage'], dtype='object')\n"
     ]
    },
    {
     "name": "stderr",
     "output_type": "stream",
     "text": [
      " 82%|███████████████████████████████████▎       | 41/50 [00:03<00:00, 19.48it/s]"
     ]
    },
    {
     "name": "stdout",
     "output_type": "stream",
     "text": [
      "Processing LCLid: MAC003844 with shape: (488, 50)\n",
      "Initial shape of x: (488, 50)\n",
      "Columns in x after melting: Index(['LCLid', 'day', 'hour_block', 'energy_usage'], dtype='object')\n",
      "Processing LCLid: MAC003851 with shape: (489, 50)\n",
      "Initial shape of x: (489, 50)\n",
      "Columns in x after melting: Index(['LCLid', 'day', 'hour_block', 'energy_usage'], dtype='object')\n",
      "Processing LCLid: MAC003856 with shape: (484, 50)\n",
      "Initial shape of x: (484, 50)\n",
      "Columns in x after melting: Index(['LCLid', 'day', 'hour_block', 'energy_usage'], dtype='object')\n",
      "Processing LCLid: MAC003863 with shape: (487, 50)\n",
      "Initial shape of x: (487, 50)\n",
      "Columns in x after melting: Index(['LCLid', 'day', 'hour_block', 'energy_usage'], dtype='object')\n",
      "Processing LCLid: MAC003874 with shape: (487, 50)\n",
      "Initial shape of x: (487, 50)\n",
      "Columns in x after melting: Index(['LCLid', 'day', 'hour_block', 'energy_usage'], dtype='object')\n"
     ]
    },
    {
     "name": "stderr",
     "output_type": "stream",
     "text": [
      " 94%|████████████████████████████████████████▍  | 47/50 [00:03<00:00, 22.06it/s]"
     ]
    },
    {
     "name": "stdout",
     "output_type": "stream",
     "text": [
      "Processing LCLid: MAC004034 with shape: (435, 50)\n",
      "Initial shape of x: (435, 50)\n",
      "Columns in x after melting: Index(['LCLid', 'day', 'hour_block', 'energy_usage'], dtype='object')\n",
      "Processing LCLid: MAC004179 with shape: (646, 50)\n",
      "Initial shape of x: (646, 50)\n",
      "Columns in x after melting: Index(['LCLid', 'day', 'hour_block', 'energy_usage'], dtype='object')\n",
      "Processing LCLid: MAC004247 with shape: (637, 50)\n",
      "Initial shape of x: (637, 50)\n",
      "Columns in x after melting: Index(['LCLid', 'day', 'hour_block', 'energy_usage'], dtype='object')\n",
      "Processing LCLid: MAC004319 with shape: (642, 50)\n",
      "Initial shape of x: (642, 50)\n",
      "Columns in x after melting: Index(['LCLid', 'day', 'hour_block', 'energy_usage'], dtype='object')\n",
      "Processing LCLid: MAC004387 with shape: (708, 50)\n",
      "Initial shape of x: (708, 50)\n"
     ]
    },
    {
     "name": "stderr",
     "output_type": "stream",
     "text": [
      "                                                                                "
     ]
    },
    {
     "name": "stdout",
     "output_type": "stream",
     "text": [
      "Columns in x after melting: Index(['LCLid', 'day', 'hour_block', 'energy_usage'], dtype='object')\n",
      "Processing LCLid: MAC004431 with shape: (697, 50)\n",
      "Initial shape of x: (697, 50)\n",
      "Columns in x after melting: Index(['LCLid', 'day', 'hour_block', 'energy_usage'], dtype='object')\n",
      "Processing LCLid: MAC005492 with shape: (549, 50)\n",
      "Initial shape of x: (549, 50)\n",
      "Columns in x after melting: Index(['LCLid', 'day', 'hour_block', 'energy_usage'], dtype='object')\n",
      "Shape of concatenated DataFrame: (2400, 4)\n",
      "Number of null timestamps: 0\n",
      "Final shape of block_df before return: (2400, 4)\n",
      "Resulting DataFrame shape: (2400, 4)\n",
      "       LCLid  energy_usage           timestamp frequency\n",
      "0  MAC000002         0.263 2012-10-13 00:00:00     30min\n",
      "1  MAC000002         0.269 2012-10-13 00:30:00     30min\n",
      "2  MAC000002         0.275 2012-10-13 01:00:00     30min\n",
      "3  MAC000002         0.256 2012-10-13 01:30:00     30min\n",
      "4  MAC000002         0.211 2012-10-13 02:00:00     30min\n"
     ]
    },
    {
     "name": "stderr",
     "output_type": "stream",
     "text": [
      "\r"
     ]
    }
   ],
   "source": [
    "import pandas as pd\n",
    "import numpy as np\n",
    "from tqdm import tqdm\n",
    "\n",
    "def preprocess_expanded(x):\n",
    "    \"\"\"\n",
    "    Preprocesses a block of data by melting it into a long format and merging with a time reference DataFrame.\n",
    "    \"\"\"\n",
    "    print(\"Initial shape of x:\", x.shape)  # Debugging print\n",
    "\n",
    "    # Convert 'day' column to datetime format\n",
    "    x[\"day\"] = pd.to_datetime(x[\"day\"], errors=\"coerce\")\n",
    "\n",
    "    # Ensure 'day' conversion was successful\n",
    "    if x[\"day\"].isnull().any():\n",
    "        print(\"Warning: Some 'day' values could not be converted to datetime.\")\n",
    "\n",
    "    # Melt the DataFrame to long format (Convert hh_0 to hh_47 into a single column)\n",
    "    x_melted = x.melt(id_vars=[\"LCLid\", \"day\"], var_name=\"hour_block\", value_name=\"energy_usage\")\n",
    "\n",
    "    # Ensure 'hour_block' column is properly formatted\n",
    "    x_melted[\"hour_block\"] = x_melted[\"hour_block\"].str.replace(\"hh_\", \"\").astype(int)\n",
    "\n",
    "    print(\"Columns in x after melting:\", x_melted.columns)  # Debugging print\n",
    "\n",
    "    # Create a reference DataFrame for timestamps\n",
    "    dr = pd.DataFrame({\"hour_block\": range(48)})  # 48 half-hour slots in a day\n",
    "    dr[\"day\"] = x[\"day\"].iloc[0]  # Use the first available day value\n",
    "    dr[\"day\"] = pd.to_datetime(dr[\"day\"])  # Ensure datetime type\n",
    "\n",
    "    # ✅ Merge the processed data with the reference time DataFrame\n",
    "    dr = dr.merge(x_melted, on=['hour_block', 'day'], how='left')\n",
    "\n",
    "    return dr\n",
    "\n",
    "def load_process_block_expanded(block_df, freq=\"30min\"):\n",
    "    \"\"\"\n",
    "    Processes a DataFrame by grouping it by 'LCLid' and expanding its time series.\n",
    "    \"\"\"\n",
    "    print(\"Initial shape of block_df:\", block_df.shape)  # Print shape from the start\n",
    "\n",
    "    grps = block_df.groupby('LCLid')\n",
    "    all_series = []\n",
    "\n",
    "    for idx, df in tqdm(grps, leave=False):\n",
    "        print(f\"Processing LCLid: {idx} with shape: {df.shape}\")\n",
    "        ts = preprocess_expanded(df)\n",
    "        all_series.append(ts)\n",
    "\n",
    "    if not all_series:\n",
    "        print(\"No series generated from groups.\")\n",
    "        return pd.DataFrame()  # Return empty DataFrame if no groups processed\n",
    "\n",
    "    block_df = pd.concat(all_series, ignore_index=True)\n",
    "\n",
    "    # Debugging the shape of block_df after concatenation\n",
    "    print(\"Shape of concatenated DataFrame:\", block_df.shape)\n",
    "\n",
    "    if block_df.empty:\n",
    "        print(\"Concatenated DataFrame is empty.\")\n",
    "        return block_df  # Return empty DataFrame\n",
    "\n",
    "    # ✅ Recreate Offset for time alignment\n",
    "    block_df['offset'] = block_df['hour_block']\n",
    "\n",
    "    # ✅ Creating a timestamp column\n",
    "    block_df['timestamp'] = block_df['day'] + pd.to_timedelta(block_df['offset'] * 30, unit='m')\n",
    "\n",
    "    print(\"Number of null timestamps:\", block_df['timestamp'].isnull().sum())\n",
    "\n",
    "    block_df['frequency'] = freq\n",
    "    block_df.sort_values([\"LCLid\", \"timestamp\"], inplace=True)\n",
    "\n",
    "    # ✅ Drop unnecessary columns if they exist\n",
    "    cols_to_drop = [\"_\", \"hour_block\", \"offset\", \"day\"]\n",
    "    existing_cols_to_drop = [col for col in cols_to_drop if col in block_df.columns]\n",
    "    block_df.drop(columns=existing_cols_to_drop, inplace=True)\n",
    "\n",
    "    print(\"Final shape of block_df before return:\", block_df.shape)  # Print final shape\n",
    "    return block_df\n",
    "\n",
    "# ✅ Call the function and check the returned DataFrame\n",
    "block1_expanded = load_process_block_expanded(block_1, freq=\"30min\")\n",
    "print(\"Resulting DataFrame shape:\", block1_expanded.shape)\n",
    "print(block1_expanded.head())\n"
   ]
  },
  {
   "cell_type": "code",
   "execution_count": 153,
   "id": "b7a43cd6",
   "metadata": {},
   "outputs": [
    {
     "data": {
      "text/plain": [
       "Index             132\n",
       "LCLid           19200\n",
       "energy_usage    19200\n",
       "timestamp       19200\n",
       "frequency       19200\n",
       "dtype: int64"
      ]
     },
     "metadata": {},
     "output_type": "display_data"
    },
    {
     "name": "stdout",
     "output_type": "stream",
     "text": [
      "Total: 0.07336807250976562 MB\n"
     ]
    }
   ],
   "source": [
    "display(block1_expanded.memory_usage())\n",
    "print(f\"Total: {block1_expanded.memory_usage().sum()/1024**2} MB\")"
   ]
  },
  {
   "cell_type": "code",
   "execution_count": 154,
   "id": "3aea6ad1",
   "metadata": {},
   "outputs": [],
   "source": [
    "del block1_expanded, block_1, block1_compact"
   ]
  },
  {
   "cell_type": "code",
   "execution_count": 155,
   "id": "30666e60",
   "metadata": {},
   "outputs": [
    {
     "name": "stderr",
     "output_type": "stream",
     "text": [
      "Processing Blocks..:   0%|                                | 0/7 [00:00<?, ?it/s]"
     ]
    },
    {
     "name": "stdout",
     "output_type": "stream",
     "text": [
      "\n",
      "Processing file: block_0.csv\n",
      "Available columns: Index(['LCLid', 'day', 'hh_0', 'hh_1', 'hh_2', 'hh_3', 'hh_4', 'hh_5', 'hh_6',\n",
      "       'hh_7', 'hh_8', 'hh_9', 'hh_10', 'hh_11', 'hh_12', 'hh_13', 'hh_14',\n",
      "       'hh_15', 'hh_16', 'hh_17', 'hh_18', 'hh_19', 'hh_20', 'hh_21', 'hh_22',\n",
      "       'hh_23', 'hh_24', 'hh_25', 'hh_26', 'hh_27', 'hh_28', 'hh_29', 'hh_30',\n",
      "       'hh_31', 'hh_32', 'hh_33', 'hh_34', 'hh_35', 'hh_36', 'hh_37', 'hh_38',\n",
      "       'hh_39', 'hh_40', 'hh_41', 'hh_42', 'hh_43', 'hh_44', 'hh_45', 'hh_46',\n",
      "       'hh_47'],\n",
      "      dtype='object')\n",
      "Initial shape of block_df: (1212334, 4)\n",
      "Unique values in hour_block before filtering: ['hh_0' 'hh_1' 'hh_2' 'hh_3' 'hh_4' 'hh_5' 'hh_6' 'hh_7' 'hh_8' 'hh_9'\n",
      " 'hh_10' 'hh_11' 'hh_12' 'hh_13' 'hh_14' 'hh_15' 'hh_16' 'hh_17' 'hh_18'\n",
      " 'hh_19' 'hh_20' 'hh_21' 'hh_22' 'hh_23' 'hh_24' 'hh_25' 'hh_26' 'hh_27'\n",
      " 'hh_28' 'hh_29' 'hh_30' 'hh_31' 'hh_32' 'hh_33' 'hh_34' 'hh_35' 'hh_36'\n",
      " 'hh_37' 'hh_38' 'hh_39' 'hh_40' 'hh_41' 'hh_42' 'hh_43' 'hh_44' 'hh_45'\n",
      " 'hh_46' 'hh_47']\n",
      "Unique values in hour_block after filtering: ['hh_0' 'hh_1' 'hh_2' 'hh_3' 'hh_4' 'hh_5' 'hh_6' 'hh_7' 'hh_8' 'hh_9'\n",
      " 'hh_10' 'hh_11' 'hh_12' 'hh_13' 'hh_14' 'hh_15' 'hh_16' 'hh_17' 'hh_18'\n",
      " 'hh_19' 'hh_20' 'hh_21' 'hh_22' 'hh_23' 'hh_24' 'hh_25' 'hh_26' 'hh_27'\n",
      " 'hh_28' 'hh_29' 'hh_30' 'hh_31' 'hh_32' 'hh_33' 'hh_34' 'hh_35' 'hh_36'\n",
      " 'hh_37' 'hh_38' 'hh_39' 'hh_40' 'hh_41' 'hh_42' 'hh_43' 'hh_44' 'hh_45'\n",
      " 'hh_46' 'hh_47']\n",
      "Number of null timestamps: 0\n"
     ]
    },
    {
     "name": "stderr",
     "output_type": "stream",
     "text": [
      "Processing Blocks..:  14%|███▍                    | 1/7 [00:04<00:27,  4.63s/it]"
     ]
    },
    {
     "name": "stdout",
     "output_type": "stream",
     "text": [
      "Final shape of block_df before return: (1212334, 4)\n",
      "\n",
      "Processing file: block_1.csv\n",
      "Available columns: Index(['LCLid', 'day', 'hh_0', 'hh_1', 'hh_2', 'hh_3', 'hh_4', 'hh_5', 'hh_6',\n",
      "       'hh_7', 'hh_8', 'hh_9', 'hh_10', 'hh_11', 'hh_12', 'hh_13', 'hh_14',\n",
      "       'hh_15', 'hh_16', 'hh_17', 'hh_18', 'hh_19', 'hh_20', 'hh_21', 'hh_22',\n",
      "       'hh_23', 'hh_24', 'hh_25', 'hh_26', 'hh_27', 'hh_28', 'hh_29', 'hh_30',\n",
      "       'hh_31', 'hh_32', 'hh_33', 'hh_34', 'hh_35', 'hh_36', 'hh_37', 'hh_38',\n",
      "       'hh_39', 'hh_40', 'hh_41', 'hh_42', 'hh_43', 'hh_44', 'hh_45', 'hh_46',\n",
      "       'hh_47'],\n",
      "      dtype='object')\n",
      "Initial shape of block_df: (1499134, 4)\n",
      "Unique values in hour_block before filtering: ['hh_0' 'hh_1' 'hh_2' 'hh_3' 'hh_4' 'hh_5' 'hh_6' 'hh_7' 'hh_8' 'hh_9'\n",
      " 'hh_10' 'hh_11' 'hh_12' 'hh_13' 'hh_14' 'hh_15' 'hh_16' 'hh_17' 'hh_18'\n",
      " 'hh_19' 'hh_20' 'hh_21' 'hh_22' 'hh_23' 'hh_24' 'hh_25' 'hh_26' 'hh_27'\n",
      " 'hh_28' 'hh_29' 'hh_30' 'hh_31' 'hh_32' 'hh_33' 'hh_34' 'hh_35' 'hh_36'\n",
      " 'hh_37' 'hh_38' 'hh_39' 'hh_40' 'hh_41' 'hh_42' 'hh_43' 'hh_44' 'hh_45'\n",
      " 'hh_46' 'hh_47']\n",
      "Unique values in hour_block after filtering: ['hh_0' 'hh_1' 'hh_2' 'hh_3' 'hh_4' 'hh_5' 'hh_6' 'hh_7' 'hh_8' 'hh_9'\n",
      " 'hh_10' 'hh_11' 'hh_12' 'hh_13' 'hh_14' 'hh_15' 'hh_16' 'hh_17' 'hh_18'\n",
      " 'hh_19' 'hh_20' 'hh_21' 'hh_22' 'hh_23' 'hh_24' 'hh_25' 'hh_26' 'hh_27'\n",
      " 'hh_28' 'hh_29' 'hh_30' 'hh_31' 'hh_32' 'hh_33' 'hh_34' 'hh_35' 'hh_36'\n",
      " 'hh_37' 'hh_38' 'hh_39' 'hh_40' 'hh_41' 'hh_42' 'hh_43' 'hh_44' 'hh_45'\n",
      " 'hh_46' 'hh_47']\n",
      "Number of null timestamps: 0\n"
     ]
    },
    {
     "name": "stderr",
     "output_type": "stream",
     "text": [
      "Processing Blocks..:  29%|██████▊                 | 2/7 [00:09<00:22,  4.48s/it]"
     ]
    },
    {
     "name": "stdout",
     "output_type": "stream",
     "text": [
      "Final shape of block_df before return: (1499134, 4)\n",
      "\n",
      "Processing file: informations_households.csv\n",
      "Available columns: Index(['LCLid', 'stdorToU', 'Acorn', 'Acorn_grouped', 'file'], dtype='object')\n",
      "Skipping informations_households.csv: 'day' column missing.\n"
     ]
    },
    {
     "name": "stderr",
     "output_type": "stream",
     "text": [
      "/var/folders/s0/hts3dbss56x0x2f85v7w1p6r0000gn/T/ipykernel_55717/1193331375.py:43: DtypeWarning: Columns (50,51,52,53) have mixed types. Specify dtype option on import or set low_memory=False.\n",
      "  block_df = pd.read_csv(file, parse_dates=False)\n"
     ]
    },
    {
     "name": "stdout",
     "output_type": "stream",
     "text": [
      "\n",
      "Processing file: processed_smart_meters.csv\n",
      "Available columns: Index(['LCLid', 'day', 'hh_0', 'hh_1', 'hh_2', 'hh_3', 'hh_4', 'hh_5', 'hh_6',\n",
      "       'hh_7', 'hh_8', 'hh_9', 'hh_10', 'hh_11', 'hh_12', 'hh_13', 'hh_14',\n",
      "       'hh_15', 'hh_16', 'hh_17', 'hh_18', 'hh_19', 'hh_20', 'hh_21', 'hh_22',\n",
      "       'hh_23', 'hh_24', 'hh_25', 'hh_26', 'hh_27', 'hh_28', 'hh_29', 'hh_30',\n",
      "       'hh_31', 'hh_32', 'hh_33', 'hh_34', 'hh_35', 'hh_36', 'hh_37', 'hh_38',\n",
      "       'hh_39', 'hh_40', 'hh_41', 'hh_42', 'hh_43', 'hh_44', 'hh_45', 'hh_46',\n",
      "       'hh_47', 'stdorToU_x', 'Acorn_x', 'Acorn_grouped_x', 'file_x',\n",
      "       'stdorToU_y', 'Acorn_y', 'Acorn_grouped_y', 'file_y'],\n",
      "      dtype='object')\n",
      "Initial shape of block_df: (2937432, 4)\n",
      "Unique values in hour_block before filtering: ['hh_0' 'hh_1' 'hh_2' 'hh_3' 'hh_4' 'hh_5' 'hh_6' 'hh_7' 'hh_8' 'hh_9'\n",
      " 'hh_10' 'hh_11' 'hh_12' 'hh_13' 'hh_14' 'hh_15' 'hh_16' 'hh_17' 'hh_18'\n",
      " 'hh_19' 'hh_20' 'hh_21' 'hh_22' 'hh_23' 'hh_24' 'hh_25' 'hh_26' 'hh_27'\n",
      " 'hh_28' 'hh_29' 'hh_30' 'hh_31' 'hh_32' 'hh_33' 'hh_34' 'hh_35' 'hh_36'\n",
      " 'hh_37' 'hh_38' 'hh_39' 'hh_40' 'hh_41' 'hh_42' 'hh_43' 'hh_44' 'hh_45'\n",
      " 'hh_46' 'hh_47' 'stdorToU_y' 'Acorn_y' 'Acorn_grouped_y' 'file_y']\n",
      "Unique values in hour_block after filtering: ['hh_0' 'hh_1' 'hh_2' 'hh_3' 'hh_4' 'hh_5' 'hh_6' 'hh_7' 'hh_8' 'hh_9'\n",
      " 'hh_10' 'hh_11' 'hh_12' 'hh_13' 'hh_14' 'hh_15' 'hh_16' 'hh_17' 'hh_18'\n",
      " 'hh_19' 'hh_20' 'hh_21' 'hh_22' 'hh_23' 'hh_24' 'hh_25' 'hh_26' 'hh_27'\n",
      " 'hh_28' 'hh_29' 'hh_30' 'hh_31' 'hh_32' 'hh_33' 'hh_34' 'hh_35' 'hh_36'\n",
      " 'hh_37' 'hh_38' 'hh_39' 'hh_40' 'hh_41' 'hh_42' 'hh_43' 'hh_44' 'hh_45'\n",
      " 'hh_46' 'hh_47']\n"
     ]
    },
    {
     "name": "stderr",
     "output_type": "stream",
     "text": [
      "/var/folders/s0/hts3dbss56x0x2f85v7w1p6r0000gn/T/ipykernel_55717/1193331375.py:21: SettingWithCopyWarning: \n",
      "A value is trying to be set on a copy of a slice from a DataFrame.\n",
      "Try using .loc[row_indexer,col_indexer] = value instead\n",
      "\n",
      "See the caveats in the documentation: https://pandas.pydata.org/pandas-docs/stable/user_guide/indexing.html#returning-a-view-versus-a-copy\n",
      "  block_df['offset'] = block_df['hour_block'].str.replace(\"hh_\", \"\").astype(int)\n",
      "/var/folders/s0/hts3dbss56x0x2f85v7w1p6r0000gn/T/ipykernel_55717/1193331375.py:24: SettingWithCopyWarning: \n",
      "A value is trying to be set on a copy of a slice from a DataFrame.\n",
      "Try using .loc[row_indexer,col_indexer] = value instead\n",
      "\n",
      "See the caveats in the documentation: https://pandas.pydata.org/pandas-docs/stable/user_guide/indexing.html#returning-a-view-versus-a-copy\n",
      "  block_df['timestamp'] = block_df['day'] + pd.to_timedelta(block_df['offset'] * 30, unit='m')\n",
      "/var/folders/s0/hts3dbss56x0x2f85v7w1p6r0000gn/T/ipykernel_55717/1193331375.py:28: SettingWithCopyWarning: \n",
      "A value is trying to be set on a copy of a slice from a DataFrame.\n",
      "Try using .loc[row_indexer,col_indexer] = value instead\n",
      "\n",
      "See the caveats in the documentation: https://pandas.pydata.org/pandas-docs/stable/user_guide/indexing.html#returning-a-view-versus-a-copy\n",
      "  block_df['frequency'] = freq\n"
     ]
    },
    {
     "name": "stdout",
     "output_type": "stream",
     "text": [
      "Number of null timestamps: 0\n"
     ]
    },
    {
     "name": "stderr",
     "output_type": "stream",
     "text": [
      "/var/folders/s0/hts3dbss56x0x2f85v7w1p6r0000gn/T/ipykernel_55717/1193331375.py:29: SettingWithCopyWarning: \n",
      "A value is trying to be set on a copy of a slice from a DataFrame\n",
      "\n",
      "See the caveats in the documentation: https://pandas.pydata.org/pandas-docs/stable/user_guide/indexing.html#returning-a-view-versus-a-copy\n",
      "  block_df.sort_values([ts_identifier, \"timestamp\"], inplace=True)\n",
      "/var/folders/s0/hts3dbss56x0x2f85v7w1p6r0000gn/T/ipykernel_55717/1193331375.py:33: SettingWithCopyWarning: \n",
      "A value is trying to be set on a copy of a slice from a DataFrame\n",
      "\n",
      "See the caveats in the documentation: https://pandas.pydata.org/pandas-docs/stable/user_guide/indexing.html#returning-a-view-versus-a-copy\n",
      "  block_df.drop(columns=[col for col in cols_to_drop if col in block_df.columns], inplace=True)\n",
      "Processing Blocks..:  86%|████████████████████▌   | 6/7 [00:16<00:02,  2.07s/it]"
     ]
    },
    {
     "name": "stdout",
     "output_type": "stream",
     "text": [
      "Final shape of block_df before return: (2711468, 4)\n",
      "\n",
      "Processing file: uk_bank_holidays.csv\n",
      "Available columns: Index(['Bank holidays', 'Type'], dtype='object')\n",
      "Skipping uk_bank_holidays.csv: 'day' column missing.\n",
      "\n",
      "Processing file: weather_daily_darksky.csv\n",
      "Available columns: Index(['temperatureMax', 'temperatureMaxTime', 'windBearing', 'icon',\n",
      "       'dewPoint', 'temperatureMinTime', 'cloudCover', 'windSpeed', 'pressure',\n",
      "       'apparentTemperatureMinTime', 'apparentTemperatureHigh', 'precipType',\n",
      "       'visibility', 'humidity', 'apparentTemperatureHighTime',\n",
      "       'apparentTemperatureLow', 'apparentTemperatureMax', 'uvIndex', 'time',\n",
      "       'sunsetTime', 'temperatureLow', 'temperatureMin', 'temperatureHigh',\n",
      "       'sunriseTime', 'temperatureHighTime', 'uvIndexTime', 'summary',\n",
      "       'temperatureLowTime', 'apparentTemperatureMin',\n",
      "       'apparentTemperatureMaxTime', 'apparentTemperatureLowTime',\n",
      "       'moonPhase'],\n",
      "      dtype='object')\n",
      "Skipping weather_daily_darksky.csv: 'day' column missing.\n"
     ]
    },
    {
     "name": "stderr",
     "output_type": "stream",
     "text": [
      "Processing Blocks..: 100%|████████████████████████| 7/7 [00:16<00:00,  2.32s/it]\n"
     ]
    },
    {
     "name": "stdout",
     "output_type": "stream",
     "text": [
      "\n",
      "Processing file: weather_hourly_darksky.csv\n",
      "Available columns: Index(['visibility', 'windBearing', 'temperature', 'time', 'dewPoint',\n",
      "       'pressure', 'apparentTemperature', 'windSpeed', 'precipType', 'icon',\n",
      "       'humidity', 'summary'],\n",
      "      dtype='object')\n",
      "Skipping weather_hourly_darksky.csv: 'day' column missing.\n",
      "Final combined DataFrame shape: (5422936, 4)\n",
      "       LCLid energy_consumption           timestamp frequency\n",
      "0  MAC000002              0.263 2012-10-13 00:00:00     30min\n",
      "1  MAC000002              0.269 2012-10-13 00:30:00     30min\n",
      "2  MAC000002              0.275 2012-10-13 01:00:00     30min\n",
      "3  MAC000002              0.256 2012-10-13 01:30:00     30min\n",
      "4  MAC000002              0.211 2012-10-13 02:00:00     30min\n"
     ]
    }
   ],
   "source": [
    "import pandas as pd\n",
    "import numpy as np\n",
    "from tqdm import tqdm\n",
    "from pathlib import Path\n",
    "\n",
    "def load_process_block_compact(block_df, freq=\"30min\", ts_identifier=\"LCLid\", value_name=\"energy_consumption\"):\n",
    "    \"\"\"\n",
    "    Processes a DataFrame by formatting timestamps and ensuring data consistency.\n",
    "    \"\"\"\n",
    "    print(\"Initial shape of block_df:\", block_df.shape)\n",
    "\n",
    "    # ✅ Ensure the 'day' column is in datetime format\n",
    "    block_df['day'] = pd.to_datetime(block_df['day'], errors='coerce', yearfirst=True)\n",
    "\n",
    "    # ✅ Check for and remove invalid 'hour_block' values\n",
    "    print(\"Unique values in hour_block before filtering:\", block_df[\"hour_block\"].unique())\n",
    "    block_df = block_df[block_df[\"hour_block\"].str.startswith(\"hh_\")]\n",
    "    print(\"Unique values in hour_block after filtering:\", block_df[\"hour_block\"].unique())\n",
    "\n",
    "    # ✅ Convert 'hour_block' to integer safely\n",
    "    block_df['offset'] = block_df['hour_block'].str.replace(\"hh_\", \"\").astype(int)\n",
    "\n",
    "    # ✅ Create timestamp column\n",
    "    block_df['timestamp'] = block_df['day'] + pd.to_timedelta(block_df['offset'] * 30, unit='m')\n",
    "\n",
    "    print(\"Number of null timestamps:\", block_df['timestamp'].isnull().sum())\n",
    "\n",
    "    block_df['frequency'] = freq\n",
    "    block_df.sort_values([ts_identifier, \"timestamp\"], inplace=True)\n",
    "\n",
    "    # ✅ Drop unnecessary columns\n",
    "    cols_to_drop = [\"hour_block\", \"offset\", \"day\"]\n",
    "    block_df.drop(columns=[col for col in cols_to_drop if col in block_df.columns], inplace=True)\n",
    "\n",
    "    print(\"Final shape of block_df before return:\", block_df.shape)\n",
    "    return block_df\n",
    "\n",
    "# ✅ Process multiple block CSV files\n",
    "block_df_l = []\n",
    "block_data_path = Path(\"./data/\")  # Change to correct path\n",
    "\n",
    "for file in tqdm(sorted(block_data_path.glob(\"*.csv\")), desc=\"Processing Blocks..\"):\n",
    "    block_df = pd.read_csv(file, parse_dates=False)\n",
    "\n",
    "    # ✅ Debugging: Check available columns\n",
    "    print(f\"\\nProcessing file: {file.name}\")\n",
    "    print(\"Available columns:\", block_df.columns)\n",
    "\n",
    "    # ✅ Ensure 'day' column exists, otherwise skip file\n",
    "    if \"day\" not in block_df.columns:\n",
    "        print(f\"Skipping {file.name}: 'day' column missing.\")\n",
    "        continue\n",
    "\n",
    "    # ✅ Convert 'day' to datetime\n",
    "    block_df['day'] = pd.to_datetime(block_df['day'], errors='coerce', yearfirst=True)\n",
    "\n",
    "    # ✅ Keep data from 2012-01-01 onwards\n",
    "    block_df = block_df.loc[block_df['day'] >= \"2012-01-01\"]\n",
    "\n",
    "    # ✅ Reshape the DataFrame into long format\n",
    "    block_df = block_df.set_index(['LCLid', \"day\"]).stack().reset_index().rename(columns={\"level_2\": \"hour_block\", 0: \"energy_consumption\"})\n",
    "\n",
    "    # ✅ Process the block and store in list\n",
    "    block_df_l.append(load_process_block_compact(block_df, freq=\"30min\", ts_identifier=\"LCLid\", value_name=\"energy_consumption\"))\n",
    "\n",
    "# ✅ Combine all processed blocks into a single DataFrame\n",
    "final_block_df = pd.concat(block_df_l, ignore_index=True)\n",
    "print(\"Final combined DataFrame shape:\", final_block_df.shape)\n",
    "print(final_block_df.head())\n"
   ]
  },
  {
   "cell_type": "code",
   "execution_count": 156,
   "id": "0be9a640",
   "metadata": {},
   "outputs": [],
   "source": [
    "def load_process_block_expanded(block_df, freq=\"30min\"):\n",
    "    print(\"Initial shape of block_df:\", block_df.shape)\n",
    "    \n",
    "    block_df_l = []  # Define block_df_l as an empty list here\n",
    "\n",
    "    grps = block_df.groupby('LCLid')\n",
    "    \n",
    "    for idx, df in tqdm(grps, leave=False):\n",
    "        print(f\"Processing LCLid: {idx} with shape: {df.shape}\")\n",
    "        ts = preprocess_expanded(df)\n",
    "        block_df_l.append(ts)  # Store each processed DataFrame in block_df_l\n",
    "\n",
    "    # Concatenate all DataFrames in block_df_l afterwards\n",
    "    hhblock_df = pd.concat(block_df_l)\n",
    "    \n",
    "    return hhblock_df  \n"
   ]
  },
  {
   "cell_type": "code",
   "execution_count": 157,
   "id": "2bc9320f",
   "metadata": {},
   "outputs": [
    {
     "name": "stdout",
     "output_type": "stream",
     "text": [
      "Loaded block_1 with shape: (31243, 50)\n",
      "       LCLid         day   hh_0   hh_1   hh_2   hh_3   hh_4   hh_5   hh_6  \\\n",
      "0  MAC000323  2012-03-07  0.150  0.114  0.054  0.107  0.107  0.078  0.082   \n",
      "1  MAC000323  2012-03-08  0.111  0.088  0.066  0.105  0.113  0.059  0.093   \n",
      "2  MAC000323  2012-03-09  0.699  0.462  0.117  0.108  0.081  0.086  0.102   \n",
      "3  MAC000323  2012-03-10  0.614  0.608  0.488  0.371  0.111  0.128  0.245   \n",
      "4  MAC000323  2012-03-11  0.106  0.064  0.114  0.138  0.097  0.062  0.113   \n",
      "\n",
      "    hh_7  ...  hh_38  hh_39  hh_40  hh_41  hh_42  hh_43  hh_44  hh_45  hh_46  \\\n",
      "0  0.105  ...  1.475  1.199  0.925  0.701  0.744  0.655  0.686  0.711  0.397   \n",
      "1  0.112  ...  0.496  1.032  0.564  0.608  0.691  0.596  0.700  1.086  0.630   \n",
      "2  0.090  ...  1.587  1.445  1.081  1.022  0.772  0.684  0.731  0.849  0.745   \n",
      "3  0.226  ...  0.691  0.902  0.933  1.166  1.189  1.222  0.619  0.472  0.555   \n",
      "4  0.147  ...  1.286  1.272  1.694  1.940  1.884  1.010  0.731  0.812  0.732   \n",
      "\n",
      "   hh_47  \n",
      "0  0.098  \n",
      "1  0.842  \n",
      "2  0.700  \n",
      "3  0.277  \n",
      "4  0.274  \n",
      "\n",
      "[5 rows x 50 columns]\n",
      "Initial shape of block_df: (31243, 50)\n"
     ]
    },
    {
     "name": "stderr",
     "output_type": "stream",
     "text": [
      "  0%|                                                    | 0/50 [00:00<?, ?it/s]"
     ]
    },
    {
     "name": "stdout",
     "output_type": "stream",
     "text": [
      "Processing LCLid: MAC000323 with shape: (722, 50)\n",
      "Initial shape of x: (722, 50)\n"
     ]
    },
    {
     "name": "stderr",
     "output_type": "stream",
     "text": [
      "  2%|▉                                           | 1/50 [00:00<00:12,  4.03it/s]"
     ]
    },
    {
     "name": "stdout",
     "output_type": "stream",
     "text": [
      "Columns in x after melting: Index(['LCLid', 'day', 'hour_block', 'energy_usage'], dtype='object')\n",
      "Processing LCLid: MAC000379 with shape: (496, 50)\n",
      "Initial shape of x: (496, 50)\n"
     ]
    },
    {
     "name": "stderr",
     "output_type": "stream",
     "text": [
      "  6%|██▋                                         | 3/50 [00:00<00:05,  8.73it/s]"
     ]
    },
    {
     "name": "stdout",
     "output_type": "stream",
     "text": [
      "Columns in x after melting: Index(['LCLid', 'day', 'hour_block', 'energy_usage'], dtype='object')\n",
      "Processing LCLid: MAC000386 with shape: (710, 50)\n",
      "Initial shape of x: (710, 50)\n",
      "Columns in x after melting: Index(['LCLid', 'day', 'hour_block', 'energy_usage'], dtype='object')\n",
      "Processing LCLid: MAC000535 with shape: (678, 50)\n",
      "Initial shape of x: (678, 50)\n",
      "Columns in x after melting: Index(['LCLid', 'day', 'hour_block', 'energy_usage'], dtype='object')\n",
      "Processing LCLid: MAC000557 with shape: (667, 50)\n",
      "Initial shape of x: (667, 50)\n"
     ]
    },
    {
     "name": "stderr",
     "output_type": "stream",
     "text": [
      " 10%|████▍                                       | 5/50 [00:00<00:03, 11.87it/s]"
     ]
    },
    {
     "name": "stdout",
     "output_type": "stream",
     "text": [
      "Columns in x after melting: Index(['LCLid', 'day', 'hour_block', 'energy_usage'], dtype='object')\n",
      "Processing LCLid: MAC000569 with shape: (674, 50)\n",
      "Initial shape of x: (674, 50)\n",
      "Columns in x after melting: Index(['LCLid', 'day', 'hour_block', 'energy_usage'], dtype='object')\n"
     ]
    },
    {
     "name": "stderr",
     "output_type": "stream",
     "text": [
      " 14%|██████▏                                     | 7/50 [00:00<00:03, 12.79it/s]"
     ]
    },
    {
     "name": "stdout",
     "output_type": "stream",
     "text": [
      "Processing LCLid: MAC000713 with shape: (670, 50)\n",
      "Initial shape of x: (670, 50)\n",
      "Columns in x after melting: Index(['LCLid', 'day', 'hour_block', 'energy_usage'], dtype='object')\n",
      "Processing LCLid: MAC000768 with shape: (670, 50)\n",
      "Initial shape of x: (670, 50)\n",
      "Columns in x after melting: Index(['LCLid', 'day', 'hour_block', 'energy_usage'], dtype='object')\n",
      "Processing LCLid: MAC000778 with shape: (675, 50)\n",
      "Initial shape of x: (675, 50)\n",
      "Columns in x after melting: Index(['LCLid', 'day', 'hour_block', 'energy_usage'], dtype='object')\n"
     ]
    },
    {
     "name": "stderr",
     "output_type": "stream",
     "text": [
      " 24%|██████████▎                                | 12/50 [00:00<00:02, 17.23it/s]"
     ]
    },
    {
     "name": "stdout",
     "output_type": "stream",
     "text": [
      "Processing LCLid: MAC000816 with shape: (662, 50)\n",
      "Initial shape of x: (662, 50)\n",
      "Columns in x after melting: Index(['LCLid', 'day', 'hour_block', 'energy_usage'], dtype='object')\n",
      "Processing LCLid: MAC000850 with shape: (658, 50)\n",
      "Initial shape of x: (658, 50)\n",
      "Columns in x after melting: Index(['LCLid', 'day', 'hour_block', 'energy_usage'], dtype='object')\n",
      "Processing LCLid: MAC000886 with shape: (662, 50)\n",
      "Initial shape of x: (662, 50)\n",
      "Columns in x after melting: Index(['LCLid', 'day', 'hour_block', 'energy_usage'], dtype='object')\n",
      "Processing LCLid: MAC000902 with shape: (665, 50)\n",
      "Initial shape of x: (665, 50)\n",
      "Columns in x after melting: Index(['LCLid', 'day', 'hour_block', 'energy_usage'], dtype='object')\n",
      "Processing LCLid: MAC000948 with shape: (660, 50)\n",
      "Initial shape of x: (660, 50)\n",
      "Columns in x after melting: Index(['LCLid', 'day', 'hour_block', 'energy_usage'], dtype='object')\n",
      "Processing LCLid: MAC000974 with shape: (658, 50)\n",
      "Initial shape of x: (658, 50)\n"
     ]
    },
    {
     "name": "stderr",
     "output_type": "stream",
     "text": [
      " 36%|███████████████▍                           | 18/50 [00:01<00:01, 20.62it/s]"
     ]
    },
    {
     "name": "stdout",
     "output_type": "stream",
     "text": [
      "Columns in x after melting: Index(['LCLid', 'day', 'hour_block', 'energy_usage'], dtype='object')\n",
      "Processing LCLid: MAC001145 with shape: (645, 50)\n",
      "Initial shape of x: (645, 50)\n",
      "Columns in x after melting: Index(['LCLid', 'day', 'hour_block', 'energy_usage'], dtype='object')\n",
      "Processing LCLid: MAC001239 with shape: (644, 50)\n",
      "Initial shape of x: (644, 50)\n",
      "Columns in x after melting: Index(['LCLid', 'day', 'hour_block', 'energy_usage'], dtype='object')\n",
      "Processing LCLid: MAC001251 with shape: (647, 50)\n",
      "Initial shape of x: (647, 50)\n",
      "Columns in x after melting: Index(['LCLid', 'day', 'hour_block', 'energy_usage'], dtype='object')\n",
      "Processing LCLid: MAC001271 with shape: (649, 50)\n",
      "Initial shape of x: (649, 50)\n",
      "Columns in x after melting: Index(['LCLid', 'day', 'hour_block', 'energy_usage'], dtype='object')\n",
      "Processing LCLid: MAC001510 with shape: (643, 50)\n",
      "Initial shape of x: (643, 50)\n",
      "Columns in x after melting: Index(['LCLid', 'day', 'hour_block', 'energy_usage'], dtype='object')\n"
     ]
    },
    {
     "name": "stderr",
     "output_type": "stream",
     "text": [
      " 48%|████████████████████▋                      | 24/50 [00:01<00:01, 22.05it/s]"
     ]
    },
    {
     "name": "stdout",
     "output_type": "stream",
     "text": [
      "Processing LCLid: MAC001528 with shape: (640, 50)\n",
      "Initial shape of x: (640, 50)\n",
      "Columns in x after melting: Index(['LCLid', 'day', 'hour_block', 'energy_usage'], dtype='object')\n",
      "Processing LCLid: MAC001533 with shape: (640, 50)\n",
      "Initial shape of x: (640, 50)\n",
      "Columns in x after melting: Index(['LCLid', 'day', 'hour_block', 'energy_usage'], dtype='object')\n",
      "Processing LCLid: MAC001628 with shape: (636, 50)\n",
      "Initial shape of x: (636, 50)\n",
      "Columns in x after melting: Index(['LCLid', 'day', 'hour_block', 'energy_usage'], dtype='object')\n",
      "Processing LCLid: MAC001689 with shape: (632, 50)\n",
      "Initial shape of x: (632, 50)\n",
      "Columns in x after melting: Index(['LCLid', 'day', 'hour_block', 'energy_usage'], dtype='object')\n",
      "Processing LCLid: MAC001710 with shape: (633, 50)\n",
      "Initial shape of x: (633, 50)\n"
     ]
    },
    {
     "name": "stderr",
     "output_type": "stream",
     "text": [
      " 54%|███████████████████████▏                   | 27/50 [00:01<00:01, 21.41it/s]"
     ]
    },
    {
     "name": "stdout",
     "output_type": "stream",
     "text": [
      "Columns in x after melting: Index(['LCLid', 'day', 'hour_block', 'energy_usage'], dtype='object')\n",
      "Processing LCLid: MAC001734 with shape: (633, 50)\n",
      "Initial shape of x: (633, 50)\n",
      "Columns in x after melting: Index(['LCLid', 'day', 'hour_block', 'energy_usage'], dtype='object')\n",
      "Processing LCLid: MAC001776 with shape: (622, 50)\n",
      "Initial shape of x: (622, 50)\n",
      "Columns in x after melting: Index(['LCLid', 'day', 'hour_block', 'energy_usage'], dtype='object')\n",
      "Processing LCLid: MAC001843 with shape: (578, 50)\n",
      "Initial shape of x: (578, 50)\n",
      "Columns in x after melting: Index(['LCLid', 'day', 'hour_block', 'energy_usage'], dtype='object')\n",
      "Processing LCLid: MAC001893 with shape: (621, 50)\n",
      "Initial shape of x: (621, 50)\n",
      "Columns in x after melting: Index(['LCLid', 'day', 'hour_block', 'energy_usage'], dtype='object')\n",
      "Processing LCLid: MAC001989 with shape: (612, 50)\n",
      "Initial shape of x: (612, 50)\n",
      "Columns in x after melting: Index(['LCLid', 'day', 'hour_block', 'energy_usage'], dtype='object')\n"
     ]
    },
    {
     "name": "stderr",
     "output_type": "stream",
     "text": [
      " 66%|████████████████████████████▍              | 33/50 [00:02<00:01, 16.48it/s]"
     ]
    },
    {
     "name": "stdout",
     "output_type": "stream",
     "text": [
      "Processing LCLid: MAC002025 with shape: (618, 50)\n",
      "Initial shape of x: (618, 50)\n",
      "Columns in x after melting: Index(['LCLid', 'day', 'hour_block', 'energy_usage'], dtype='object')\n",
      "Processing LCLid: MAC002068 with shape: (555, 50)\n",
      "Initial shape of x: (555, 50)\n",
      "Columns in x after melting: Index(['LCLid', 'day', 'hour_block', 'energy_usage'], dtype='object')\n",
      "Processing LCLid: MAC002150 with shape: (615, 50)\n",
      "Initial shape of x: (615, 50)\n",
      "Columns in x after melting: Index(['LCLid', 'day', 'hour_block', 'energy_usage'], dtype='object')\n",
      "Processing LCLid: MAC002249 with shape: (656, 50)\n",
      "Initial shape of x: (656, 50)\n",
      "Columns in x after melting: Index(['LCLid', 'day', 'hour_block', 'energy_usage'], dtype='object')\n",
      "Processing LCLid: MAC002314 with shape: (662, 50)\n",
      "Initial shape of x: (662, 50)\n"
     ]
    },
    {
     "name": "stderr",
     "output_type": "stream",
     "text": [
      " 78%|█████████████████████████████████▌         | 39/50 [00:02<00:00, 19.25it/s]"
     ]
    },
    {
     "name": "stdout",
     "output_type": "stream",
     "text": [
      "Columns in x after melting: Index(['LCLid', 'day', 'hour_block', 'energy_usage'], dtype='object')\n",
      "Processing LCLid: MAC002562 with shape: (594, 50)\n",
      "Initial shape of x: (594, 50)\n",
      "Columns in x after melting: Index(['LCLid', 'day', 'hour_block', 'energy_usage'], dtype='object')\n",
      "Processing LCLid: MAC002563 with shape: (597, 50)\n",
      "Initial shape of x: (597, 50)\n",
      "Columns in x after melting: Index(['LCLid', 'day', 'hour_block', 'energy_usage'], dtype='object')\n",
      "Processing LCLid: MAC002601 with shape: (592, 50)\n",
      "Initial shape of x: (592, 50)\n",
      "Columns in x after melting: Index(['LCLid', 'day', 'hour_block', 'energy_usage'], dtype='object')\n",
      "Processing LCLid: MAC002613 with shape: (258, 50)\n",
      "Initial shape of x: (258, 50)\n",
      "Columns in x after melting: Index(['LCLid', 'day', 'hour_block', 'energy_usage'], dtype='object')\n",
      "Processing LCLid: MAC002628 with shape: (656, 50)\n",
      "Initial shape of x: (656, 50)\n",
      "Columns in x after melting: Index(['LCLid', 'day', 'hour_block', 'energy_usage'], dtype='object')\n",
      "Processing LCLid: MAC002813 with shape: (649, 50)\n",
      "Initial shape of x: (649, 50)\n",
      "Columns in x after melting: Index(['LCLid', 'day', 'hour_block', 'energy_usage'], dtype='object')\n",
      "Processing LCLid: MAC002924 with shape: (599, 50)\n",
      "Initial shape of x: (599, 50)\n"
     ]
    },
    {
     "name": "stderr",
     "output_type": "stream",
     "text": [
      " 88%|█████████████████████████████████████▊     | 44/50 [00:02<00:00, 14.29it/s]"
     ]
    },
    {
     "name": "stdout",
     "output_type": "stream",
     "text": [
      "Columns in x after melting: Index(['LCLid', 'day', 'hour_block', 'energy_usage'], dtype='object')\n",
      "Processing LCLid: MAC002937 with shape: (602, 50)\n",
      "Initial shape of x: (602, 50)\n",
      "Columns in x after melting: Index(['LCLid', 'day', 'hour_block', 'energy_usage'], dtype='object')\n",
      "Processing LCLid: MAC003072 with shape: (649, 50)\n",
      "Initial shape of x: (649, 50)\n",
      "Columns in x after melting: Index(['LCLid', 'day', 'hour_block', 'energy_usage'], dtype='object')\n",
      "Processing LCLid: MAC003110 with shape: (649, 50)\n",
      "Initial shape of x: (649, 50)\n",
      "Columns in x after melting: Index(['LCLid', 'day', 'hour_block', 'energy_usage'], dtype='object')\n"
     ]
    },
    {
     "name": "stderr",
     "output_type": "stream",
     "text": [
      " 98%|██████████████████████████████████████████▏| 49/50 [00:03<00:00, 15.79it/s]"
     ]
    },
    {
     "name": "stdout",
     "output_type": "stream",
     "text": [
      "Processing LCLid: MAC003166 with shape: (570, 50)\n",
      "Initial shape of x: (570, 50)\n",
      "Columns in x after melting: Index(['LCLid', 'day', 'hour_block', 'energy_usage'], dtype='object')\n",
      "Processing LCLid: MAC003182 with shape: (527, 50)\n",
      "Initial shape of x: (527, 50)\n",
      "Columns in x after melting: Index(['LCLid', 'day', 'hour_block', 'energy_usage'], dtype='object')\n",
      "Processing LCLid: MAC003212 with shape: (524, 50)\n",
      "Initial shape of x: (524, 50)\n",
      "Columns in x after melting: Index(['LCLid', 'day', 'hour_block', 'energy_usage'], dtype='object')\n",
      "Processing LCLid: MAC003840 with shape: (484, 50)\n",
      "Initial shape of x: (484, 50)\n",
      "Columns in x after melting: Index(['LCLid', 'day', 'hour_block', 'energy_usage'], dtype='object')\n"
     ]
    },
    {
     "name": "stderr",
     "output_type": "stream",
     "text": [
      "                                                                                "
     ]
    },
    {
     "name": "stdout",
     "output_type": "stream",
     "text": [
      "Processing LCLid: MAC004529 with shape: (785, 50)\n",
      "Initial shape of x: (785, 50)\n",
      "Columns in x after melting: Index(['LCLid', 'day', 'hour_block', 'energy_usage'], dtype='object')\n",
      "Final shape of hhblock_df: (2400, 4)\n"
     ]
    },
    {
     "name": "stderr",
     "output_type": "stream",
     "text": [
      "\r"
     ]
    },
    {
     "data": {
      "text/plain": [
       "Index              132\n",
       "hour_block       19200\n",
       "day              19200\n",
       "LCLid           139200\n",
       "energy_usage     19200\n",
       "dtype: int64"
      ]
     },
     "metadata": {},
     "output_type": "display_data"
    },
    {
     "name": "stdout",
     "output_type": "stream",
     "text": [
      "Total Memory Usage: 0.19 MB\n"
     ]
    }
   ],
   "source": [
    "import pandas as pd\n",
    "import numpy as np\n",
    "from tqdm import tqdm\n",
    "\n",
    "# ✅ Load the dataset before using it\n",
    "block_1 = pd.read_csv(\"data/block_1.csv\")\n",
    "\n",
    "# ✅ Check if the dataset is loaded correctly\n",
    "print(\"Loaded block_1 with shape:\", block_1.shape)\n",
    "print(block_1.head())\n",
    "\n",
    "def load_process_block_expanded(block_df, freq=\"30min\"):\n",
    "    print(\"Initial shape of block_df:\", block_df.shape)\n",
    "    \n",
    "    block_df_l = []  # ✅ Define block_df_l as an empty list\n",
    "\n",
    "    grps = block_df.groupby('LCLid')\n",
    "    \n",
    "    for idx, df in tqdm(grps, leave=False):\n",
    "        print(f\"Processing LCLid: {idx} with shape: {df.shape}\")\n",
    "        ts = preprocess_expanded(df)  # Ensure preprocess_expanded() is defined\n",
    "        block_df_l.append(ts)  # Store each processed DataFrame in block_df_l\n",
    "\n",
    "    # ✅ Concatenate all DataFrames in block_df_l\n",
    "    hhblock_df = pd.concat(block_df_l, ignore_index=True)\n",
    "\n",
    "    print(\"Final shape of hhblock_df:\", hhblock_df.shape)\n",
    "    \n",
    "    return hhblock_df  \n",
    "\n",
    "# ✅ Call the function and store the result\n",
    "hhblock_df = load_process_block_expanded(block_1, freq=\"30min\")\n",
    "\n",
    "# ✅ Check memory usage AFTER defining hhblock_df\n",
    "display(hhblock_df.memory_usage(deep=True))\n",
    "print(f\"Total Memory Usage: {hhblock_df.memory_usage(deep=True).sum()/1024**2:.2f} MB\")\n"
   ]
  },
  {
   "cell_type": "code",
   "execution_count": 158,
   "id": "856079b7",
   "metadata": {},
   "outputs": [
    {
     "data": {
      "text/html": [
       "<div>\n",
       "<style scoped>\n",
       "    .dataframe tbody tr th:only-of-type {\n",
       "        vertical-align: middle;\n",
       "    }\n",
       "\n",
       "    .dataframe tbody tr th {\n",
       "        vertical-align: top;\n",
       "    }\n",
       "\n",
       "    .dataframe thead th {\n",
       "        text-align: right;\n",
       "    }\n",
       "</style>\n",
       "<table border=\"1\" class=\"dataframe\">\n",
       "  <thead>\n",
       "    <tr style=\"text-align: right;\">\n",
       "      <th></th>\n",
       "      <th>hour_block</th>\n",
       "      <th>day</th>\n",
       "      <th>LCLid</th>\n",
       "      <th>energy_usage</th>\n",
       "    </tr>\n",
       "  </thead>\n",
       "  <tbody>\n",
       "    <tr>\n",
       "      <th>0</th>\n",
       "      <td>0</td>\n",
       "      <td>2012-03-07</td>\n",
       "      <td>MAC000323</td>\n",
       "      <td>0.150</td>\n",
       "    </tr>\n",
       "    <tr>\n",
       "      <th>1</th>\n",
       "      <td>1</td>\n",
       "      <td>2012-03-07</td>\n",
       "      <td>MAC000323</td>\n",
       "      <td>0.114</td>\n",
       "    </tr>\n",
       "    <tr>\n",
       "      <th>2</th>\n",
       "      <td>2</td>\n",
       "      <td>2012-03-07</td>\n",
       "      <td>MAC000323</td>\n",
       "      <td>0.054</td>\n",
       "    </tr>\n",
       "    <tr>\n",
       "      <th>3</th>\n",
       "      <td>3</td>\n",
       "      <td>2012-03-07</td>\n",
       "      <td>MAC000323</td>\n",
       "      <td>0.107</td>\n",
       "    </tr>\n",
       "    <tr>\n",
       "      <th>4</th>\n",
       "      <td>4</td>\n",
       "      <td>2012-03-07</td>\n",
       "      <td>MAC000323</td>\n",
       "      <td>0.107</td>\n",
       "    </tr>\n",
       "  </tbody>\n",
       "</table>\n",
       "</div>"
      ],
      "text/plain": [
       "   hour_block        day      LCLid  energy_usage\n",
       "0           0 2012-03-07  MAC000323         0.150\n",
       "1           1 2012-03-07  MAC000323         0.114\n",
       "2           2 2012-03-07  MAC000323         0.054\n",
       "3           3 2012-03-07  MAC000323         0.107\n",
       "4           4 2012-03-07  MAC000323         0.107"
      ]
     },
     "execution_count": 158,
     "metadata": {},
     "output_type": "execute_result"
    }
   ],
   "source": [
    "hhblock_df.head()"
   ]
  },
  {
   "cell_type": "markdown",
   "id": "06d822ae",
   "metadata": {},
   "source": [
    "# Merging additional information\n",
    "# Household information"
   ]
  },
  {
   "cell_type": "code",
   "execution_count": 159,
   "id": "cb8feea8",
   "metadata": {},
   "outputs": [
    {
     "data": {
      "text/html": [
       "<div>\n",
       "<style scoped>\n",
       "    .dataframe tbody tr th:only-of-type {\n",
       "        vertical-align: middle;\n",
       "    }\n",
       "\n",
       "    .dataframe tbody tr th {\n",
       "        vertical-align: top;\n",
       "    }\n",
       "\n",
       "    .dataframe thead th {\n",
       "        text-align: right;\n",
       "    }\n",
       "</style>\n",
       "<table border=\"1\" class=\"dataframe\">\n",
       "  <thead>\n",
       "    <tr style=\"text-align: right;\">\n",
       "      <th></th>\n",
       "      <th>LCLid</th>\n",
       "      <th>stdorToU</th>\n",
       "      <th>Acorn</th>\n",
       "      <th>Acorn_grouped</th>\n",
       "      <th>file</th>\n",
       "    </tr>\n",
       "  </thead>\n",
       "  <tbody>\n",
       "    <tr>\n",
       "      <th>0</th>\n",
       "      <td>MAC005492</td>\n",
       "      <td>ToU</td>\n",
       "      <td>ACORN-</td>\n",
       "      <td>ACORN-</td>\n",
       "      <td>block_0</td>\n",
       "    </tr>\n",
       "    <tr>\n",
       "      <th>1</th>\n",
       "      <td>MAC001074</td>\n",
       "      <td>ToU</td>\n",
       "      <td>ACORN-</td>\n",
       "      <td>ACORN-</td>\n",
       "      <td>block_0</td>\n",
       "    </tr>\n",
       "    <tr>\n",
       "      <th>2</th>\n",
       "      <td>MAC000002</td>\n",
       "      <td>Std</td>\n",
       "      <td>ACORN-A</td>\n",
       "      <td>Affluent</td>\n",
       "      <td>block_0</td>\n",
       "    </tr>\n",
       "    <tr>\n",
       "      <th>3</th>\n",
       "      <td>MAC003613</td>\n",
       "      <td>Std</td>\n",
       "      <td>ACORN-A</td>\n",
       "      <td>Affluent</td>\n",
       "      <td>block_0</td>\n",
       "    </tr>\n",
       "    <tr>\n",
       "      <th>4</th>\n",
       "      <td>MAC003597</td>\n",
       "      <td>Std</td>\n",
       "      <td>ACORN-A</td>\n",
       "      <td>Affluent</td>\n",
       "      <td>block_0</td>\n",
       "    </tr>\n",
       "  </tbody>\n",
       "</table>\n",
       "</div>"
      ],
      "text/plain": [
       "       LCLid stdorToU    Acorn Acorn_grouped     file\n",
       "0  MAC005492      ToU   ACORN-        ACORN-  block_0\n",
       "1  MAC001074      ToU   ACORN-        ACORN-  block_0\n",
       "2  MAC000002      Std  ACORN-A      Affluent  block_0\n",
       "3  MAC003613      Std  ACORN-A      Affluent  block_0\n",
       "4  MAC003597      Std  ACORN-A      Affluent  block_0"
      ]
     },
     "execution_count": 159,
     "metadata": {},
     "output_type": "execute_result"
    }
   ],
   "source": [
    "household_info = pd.read_csv(\"./data/informations_households.csv\")\n",
    "household_info.head()"
   ]
  },
  {
   "cell_type": "code",
   "execution_count": 160,
   "id": "72a3e046",
   "metadata": {},
   "outputs": [
    {
     "name": "stdout",
     "output_type": "stream",
     "text": [
      "['.DS_Store', 'hhblock_dataset', 'uk_bank_holidays.csv', 'block_1.csv', 'block_0.csv', 'weather_daily_darksky.csv', 'informations_households.csv', 'weather_hourly_darksky.csv', 'processed_smart_meters.csv']\n"
     ]
    }
   ],
   "source": [
    "import pandas as pd\n",
    "import os\n",
    "import glob\n",
    "# Define the path to the folder containing all CSV files\n",
    "hhblock_path = \"./data/\"\n",
    "# List all files in the hhblock_dataset directory\n",
    "print(os.listdir(hhblock_path))\n"
   ]
  },
  {
   "cell_type": "code",
   "execution_count": 164,
   "id": "560a8b06",
   "metadata": {},
   "outputs": [
    {
     "name": "stdout",
     "output_type": "stream",
     "text": [
      "Found CSV files: ['data/london_smart_meters/hhblock_dataset/uk_bank_holidays.csv', 'data/london_smart_meters/hhblock_dataset/block_1.csv', 'data/london_smart_meters/hhblock_dataset/block_0.csv', 'data/london_smart_meters/hhblock_dataset/weather_daily_darksky.csv', 'data/london_smart_meters/hhblock_dataset/informations_households.csv', 'data/london_smart_meters/hhblock_dataset/weather_hourly_darksky.csv', 'data/london_smart_meters/hhblock_dataset/processed_smart_meters.csv']\n",
      "  Bank holidays                                          Type\n",
      "0    2012-12-26                                    Boxing Day\n",
      "1    2012-12-25                                 Christmas Day\n",
      "2    2012-08-27                           Summer bank holiday\n",
      "3    2012-05-06  Queen?s Diamond Jubilee (extra bank holiday)\n",
      "4    2012-04-06          Spring bank holiday (substitute day)\n"
     ]
    }
   ],
   "source": [
    "import os\n",
    "import glob\n",
    "import pandas as pd\n",
    "\n",
    "# Path to the directory containing CSV files\n",
    "hhblock_path = \"data/\"\n",
    "\n",
    "# Get a list of all CSV files in the directory\n",
    "csv_files = glob.glob(os.path.join(hhblock_path, \"*.csv\"))\n",
    "\n",
    "# Print the list of CSV files\n",
    "print(f\"Found CSV files: {csv_files}\")\n",
    "\n",
    "# Combine all CSV files into a single DataFrame with low_memory=False\n",
    "dataframes = [pd.read_csv(file, on_bad_lines=\"skip\", low_memory=False) for file in csv_files]\n",
    "\n",
    "# Concatenate all DataFrames\n",
    "hhblock_df = pd.concat(dataframes, ignore_index=True)\n",
    "\n",
    "# Example: Reading the first file for debugging\n",
    "temp_df = pd.read_csv(csv_files[0], on_bad_lines=\"skip\", low_memory=False)\n",
    "print(temp_df.head())\n"
   ]
  },
  {
   "cell_type": "code",
   "execution_count": 165,
   "id": "11cac245",
   "metadata": {},
   "outputs": [],
   "source": [
    "import pandas as pd\n",
    "\n",
    "file_path = \"./data/processed_smart_meters.csv\"\n",
    "\n",
    "# Load with specified data types to avoid mixed types\n",
    "df = pd.read_csv(file_path, dtype={\"column_name_50\": str, \"column_name_51\": str, \n",
    "                                   \"column_name_52\": str, \"column_name_53\": str}, \n",
    "                 low_memory=False)\n",
    "\n",
    "# Drop the unwanted HTML-related column if it exists\n",
    "if \"<!doctype html>\" in df.columns:\n",
    "    df.drop(columns=[\"<!doctype html>\"], inplace=True)\n",
    "\n",
    "# Save the cleaned dataset\n",
    "df.to_csv(file_path, index=False)\n",
    "\n",
    "# ✅ Fixed f-string issue\n",
    "\n"
   ]
  },
  {
   "cell_type": "code",
   "execution_count": 166,
   "id": "8550b03c",
   "metadata": {},
   "outputs": [
    {
     "data": {
      "text/html": [
       "<div>\n",
       "<style scoped>\n",
       "    .dataframe tbody tr th:only-of-type {\n",
       "        vertical-align: middle;\n",
       "    }\n",
       "\n",
       "    .dataframe tbody tr th {\n",
       "        vertical-align: top;\n",
       "    }\n",
       "\n",
       "    .dataframe thead th {\n",
       "        text-align: right;\n",
       "    }\n",
       "</style>\n",
       "<table border=\"1\" class=\"dataframe\">\n",
       "  <thead>\n",
       "    <tr style=\"text-align: right;\">\n",
       "      <th></th>\n",
       "      <th>LCLid</th>\n",
       "      <th>day</th>\n",
       "      <th>hh_0</th>\n",
       "      <th>hh_1</th>\n",
       "      <th>hh_2</th>\n",
       "      <th>hh_3</th>\n",
       "      <th>hh_4</th>\n",
       "      <th>hh_5</th>\n",
       "      <th>hh_6</th>\n",
       "      <th>hh_7</th>\n",
       "      <th>...</th>\n",
       "      <th>hh_46</th>\n",
       "      <th>hh_47</th>\n",
       "      <th>stdorToU_x</th>\n",
       "      <th>Acorn_x</th>\n",
       "      <th>Acorn_grouped_x</th>\n",
       "      <th>file_x</th>\n",
       "      <th>stdorToU_y</th>\n",
       "      <th>Acorn_y</th>\n",
       "      <th>Acorn_grouped_y</th>\n",
       "      <th>file_y</th>\n",
       "    </tr>\n",
       "  </thead>\n",
       "  <tbody>\n",
       "    <tr>\n",
       "      <th>0</th>\n",
       "      <td>MAC000323</td>\n",
       "      <td>2012-03-07</td>\n",
       "      <td>0.15</td>\n",
       "      <td>0.114</td>\n",
       "      <td>0.054</td>\n",
       "      <td>0.107</td>\n",
       "      <td>0.107</td>\n",
       "      <td>0.078</td>\n",
       "      <td>0.0819999999999999</td>\n",
       "      <td>0.105</td>\n",
       "      <td>...</td>\n",
       "      <td>0.397</td>\n",
       "      <td>0.098</td>\n",
       "      <td>NaN</td>\n",
       "      <td>NaN</td>\n",
       "      <td>NaN</td>\n",
       "      <td>NaN</td>\n",
       "      <td>Std</td>\n",
       "      <td>ACORN-A</td>\n",
       "      <td>Affluent</td>\n",
       "      <td>block_1</td>\n",
       "    </tr>\n",
       "    <tr>\n",
       "      <th>1</th>\n",
       "      <td>MAC000323</td>\n",
       "      <td>2012-03-08</td>\n",
       "      <td>0.111</td>\n",
       "      <td>0.088</td>\n",
       "      <td>0.066</td>\n",
       "      <td>0.105</td>\n",
       "      <td>0.113</td>\n",
       "      <td>0.059</td>\n",
       "      <td>0.093</td>\n",
       "      <td>0.1119999999999999</td>\n",
       "      <td>...</td>\n",
       "      <td>0.63</td>\n",
       "      <td>0.8420000000000001</td>\n",
       "      <td>NaN</td>\n",
       "      <td>NaN</td>\n",
       "      <td>NaN</td>\n",
       "      <td>NaN</td>\n",
       "      <td>Std</td>\n",
       "      <td>ACORN-A</td>\n",
       "      <td>Affluent</td>\n",
       "      <td>block_1</td>\n",
       "    </tr>\n",
       "    <tr>\n",
       "      <th>2</th>\n",
       "      <td>MAC000323</td>\n",
       "      <td>2012-03-09</td>\n",
       "      <td>0.6990000000000001</td>\n",
       "      <td>0.462</td>\n",
       "      <td>0.1169999999999999</td>\n",
       "      <td>0.108</td>\n",
       "      <td>0.081</td>\n",
       "      <td>0.086</td>\n",
       "      <td>0.102</td>\n",
       "      <td>0.09</td>\n",
       "      <td>...</td>\n",
       "      <td>0.745</td>\n",
       "      <td>0.7</td>\n",
       "      <td>NaN</td>\n",
       "      <td>NaN</td>\n",
       "      <td>NaN</td>\n",
       "      <td>NaN</td>\n",
       "      <td>Std</td>\n",
       "      <td>ACORN-A</td>\n",
       "      <td>Affluent</td>\n",
       "      <td>block_1</td>\n",
       "    </tr>\n",
       "    <tr>\n",
       "      <th>3</th>\n",
       "      <td>MAC000323</td>\n",
       "      <td>2012-03-10</td>\n",
       "      <td>0.614</td>\n",
       "      <td>0.608</td>\n",
       "      <td>0.488</td>\n",
       "      <td>0.371</td>\n",
       "      <td>0.111</td>\n",
       "      <td>0.128</td>\n",
       "      <td>0.245</td>\n",
       "      <td>0.226</td>\n",
       "      <td>...</td>\n",
       "      <td>0.555</td>\n",
       "      <td>0.2769999999999999</td>\n",
       "      <td>NaN</td>\n",
       "      <td>NaN</td>\n",
       "      <td>NaN</td>\n",
       "      <td>NaN</td>\n",
       "      <td>Std</td>\n",
       "      <td>ACORN-A</td>\n",
       "      <td>Affluent</td>\n",
       "      <td>block_1</td>\n",
       "    </tr>\n",
       "    <tr>\n",
       "      <th>4</th>\n",
       "      <td>MAC000323</td>\n",
       "      <td>2012-03-11</td>\n",
       "      <td>0.106</td>\n",
       "      <td>0.064</td>\n",
       "      <td>0.114</td>\n",
       "      <td>0.138</td>\n",
       "      <td>0.0969999999999999</td>\n",
       "      <td>0.062</td>\n",
       "      <td>0.113</td>\n",
       "      <td>0.147</td>\n",
       "      <td>...</td>\n",
       "      <td>0.732</td>\n",
       "      <td>0.2739999999999999</td>\n",
       "      <td>NaN</td>\n",
       "      <td>NaN</td>\n",
       "      <td>NaN</td>\n",
       "      <td>NaN</td>\n",
       "      <td>Std</td>\n",
       "      <td>ACORN-A</td>\n",
       "      <td>Affluent</td>\n",
       "      <td>block_1</td>\n",
       "    </tr>\n",
       "  </tbody>\n",
       "</table>\n",
       "<p>5 rows × 58 columns</p>\n",
       "</div>"
      ],
      "text/plain": [
       "       LCLid         day                hh_0   hh_1                hh_2  \\\n",
       "0  MAC000323  2012-03-07                0.15  0.114               0.054   \n",
       "1  MAC000323  2012-03-08               0.111  0.088               0.066   \n",
       "2  MAC000323  2012-03-09  0.6990000000000001  0.462  0.1169999999999999   \n",
       "3  MAC000323  2012-03-10               0.614  0.608               0.488   \n",
       "4  MAC000323  2012-03-11               0.106  0.064               0.114   \n",
       "\n",
       "    hh_3                hh_4   hh_5                hh_6                hh_7  \\\n",
       "0  0.107               0.107  0.078  0.0819999999999999               0.105   \n",
       "1  0.105               0.113  0.059               0.093  0.1119999999999999   \n",
       "2  0.108               0.081  0.086               0.102                0.09   \n",
       "3  0.371               0.111  0.128               0.245               0.226   \n",
       "4  0.138  0.0969999999999999  0.062               0.113               0.147   \n",
       "\n",
       "   ...  hh_46               hh_47 stdorToU_x Acorn_x Acorn_grouped_x file_x  \\\n",
       "0  ...  0.397               0.098        NaN     NaN             NaN    NaN   \n",
       "1  ...   0.63  0.8420000000000001        NaN     NaN             NaN    NaN   \n",
       "2  ...  0.745                 0.7        NaN     NaN             NaN    NaN   \n",
       "3  ...  0.555  0.2769999999999999        NaN     NaN             NaN    NaN   \n",
       "4  ...  0.732  0.2739999999999999        NaN     NaN             NaN    NaN   \n",
       "\n",
       "  stdorToU_y  Acorn_y Acorn_grouped_y   file_y  \n",
       "0        Std  ACORN-A        Affluent  block_1  \n",
       "1        Std  ACORN-A        Affluent  block_1  \n",
       "2        Std  ACORN-A        Affluent  block_1  \n",
       "3        Std  ACORN-A        Affluent  block_1  \n",
       "4        Std  ACORN-A        Affluent  block_1  \n",
       "\n",
       "[5 rows x 58 columns]"
      ]
     },
     "execution_count": 166,
     "metadata": {},
     "output_type": "execute_result"
    }
   ],
   "source": [
    "import pandas as pd\n",
    "\n",
    "file_path = \"./data/processed_smart_meters.csv\"\n",
    "\n",
    "# Load the CSV while treating specific columns as strings\n",
    "df = pd.read_csv(file_path, dtype=str, low_memory=False)\n",
    "\n",
    "# Display first few rows\n",
    "df.head()\n"
   ]
  },
  {
   "cell_type": "code",
   "execution_count": 167,
   "id": "644e991d",
   "metadata": {},
   "outputs": [
    {
     "data": {
      "text/html": [
       "<div>\n",
       "<style scoped>\n",
       "    .dataframe tbody tr th:only-of-type {\n",
       "        vertical-align: middle;\n",
       "    }\n",
       "\n",
       "    .dataframe tbody tr th {\n",
       "        vertical-align: top;\n",
       "    }\n",
       "\n",
       "    .dataframe thead th {\n",
       "        text-align: right;\n",
       "    }\n",
       "</style>\n",
       "<table border=\"1\" class=\"dataframe\">\n",
       "  <thead>\n",
       "    <tr style=\"text-align: right;\">\n",
       "      <th></th>\n",
       "      <th>LCLid</th>\n",
       "      <th>day</th>\n",
       "      <th>hh_0</th>\n",
       "      <th>hh_1</th>\n",
       "      <th>hh_2</th>\n",
       "      <th>hh_3</th>\n",
       "      <th>hh_4</th>\n",
       "      <th>hh_5</th>\n",
       "      <th>hh_6</th>\n",
       "      <th>hh_7</th>\n",
       "      <th>...</th>\n",
       "      <th>hh_46</th>\n",
       "      <th>hh_47</th>\n",
       "      <th>stdorToU_x</th>\n",
       "      <th>Acorn_x</th>\n",
       "      <th>Acorn_grouped_x</th>\n",
       "      <th>file_x</th>\n",
       "      <th>stdorToU_y</th>\n",
       "      <th>Acorn_y</th>\n",
       "      <th>Acorn_grouped_y</th>\n",
       "      <th>file_y</th>\n",
       "    </tr>\n",
       "  </thead>\n",
       "  <tbody>\n",
       "    <tr>\n",
       "      <th>0</th>\n",
       "      <td>MAC000323</td>\n",
       "      <td>2012-03-07</td>\n",
       "      <td>0.150</td>\n",
       "      <td>0.114</td>\n",
       "      <td>0.054</td>\n",
       "      <td>0.107</td>\n",
       "      <td>0.107</td>\n",
       "      <td>0.078</td>\n",
       "      <td>0.082</td>\n",
       "      <td>0.105</td>\n",
       "      <td>...</td>\n",
       "      <td>0.397</td>\n",
       "      <td>0.098</td>\n",
       "      <td>NaN</td>\n",
       "      <td>NaN</td>\n",
       "      <td>NaN</td>\n",
       "      <td>NaN</td>\n",
       "      <td>Std</td>\n",
       "      <td>ACORN-A</td>\n",
       "      <td>Affluent</td>\n",
       "      <td>block_1</td>\n",
       "    </tr>\n",
       "    <tr>\n",
       "      <th>1</th>\n",
       "      <td>MAC000323</td>\n",
       "      <td>2012-03-08</td>\n",
       "      <td>0.111</td>\n",
       "      <td>0.088</td>\n",
       "      <td>0.066</td>\n",
       "      <td>0.105</td>\n",
       "      <td>0.113</td>\n",
       "      <td>0.059</td>\n",
       "      <td>0.093</td>\n",
       "      <td>0.112</td>\n",
       "      <td>...</td>\n",
       "      <td>0.630</td>\n",
       "      <td>0.842</td>\n",
       "      <td>NaN</td>\n",
       "      <td>NaN</td>\n",
       "      <td>NaN</td>\n",
       "      <td>NaN</td>\n",
       "      <td>Std</td>\n",
       "      <td>ACORN-A</td>\n",
       "      <td>Affluent</td>\n",
       "      <td>block_1</td>\n",
       "    </tr>\n",
       "    <tr>\n",
       "      <th>2</th>\n",
       "      <td>MAC000323</td>\n",
       "      <td>2012-03-09</td>\n",
       "      <td>0.699</td>\n",
       "      <td>0.462</td>\n",
       "      <td>0.117</td>\n",
       "      <td>0.108</td>\n",
       "      <td>0.081</td>\n",
       "      <td>0.086</td>\n",
       "      <td>0.102</td>\n",
       "      <td>0.090</td>\n",
       "      <td>...</td>\n",
       "      <td>0.745</td>\n",
       "      <td>0.700</td>\n",
       "      <td>NaN</td>\n",
       "      <td>NaN</td>\n",
       "      <td>NaN</td>\n",
       "      <td>NaN</td>\n",
       "      <td>Std</td>\n",
       "      <td>ACORN-A</td>\n",
       "      <td>Affluent</td>\n",
       "      <td>block_1</td>\n",
       "    </tr>\n",
       "    <tr>\n",
       "      <th>3</th>\n",
       "      <td>MAC000323</td>\n",
       "      <td>2012-03-10</td>\n",
       "      <td>0.614</td>\n",
       "      <td>0.608</td>\n",
       "      <td>0.488</td>\n",
       "      <td>0.371</td>\n",
       "      <td>0.111</td>\n",
       "      <td>0.128</td>\n",
       "      <td>0.245</td>\n",
       "      <td>0.226</td>\n",
       "      <td>...</td>\n",
       "      <td>0.555</td>\n",
       "      <td>0.277</td>\n",
       "      <td>NaN</td>\n",
       "      <td>NaN</td>\n",
       "      <td>NaN</td>\n",
       "      <td>NaN</td>\n",
       "      <td>Std</td>\n",
       "      <td>ACORN-A</td>\n",
       "      <td>Affluent</td>\n",
       "      <td>block_1</td>\n",
       "    </tr>\n",
       "    <tr>\n",
       "      <th>4</th>\n",
       "      <td>MAC000323</td>\n",
       "      <td>2012-03-11</td>\n",
       "      <td>0.106</td>\n",
       "      <td>0.064</td>\n",
       "      <td>0.114</td>\n",
       "      <td>0.138</td>\n",
       "      <td>0.097</td>\n",
       "      <td>0.062</td>\n",
       "      <td>0.113</td>\n",
       "      <td>0.147</td>\n",
       "      <td>...</td>\n",
       "      <td>0.732</td>\n",
       "      <td>0.274</td>\n",
       "      <td>NaN</td>\n",
       "      <td>NaN</td>\n",
       "      <td>NaN</td>\n",
       "      <td>NaN</td>\n",
       "      <td>Std</td>\n",
       "      <td>ACORN-A</td>\n",
       "      <td>Affluent</td>\n",
       "      <td>block_1</td>\n",
       "    </tr>\n",
       "  </tbody>\n",
       "</table>\n",
       "<p>5 rows × 58 columns</p>\n",
       "</div>"
      ],
      "text/plain": [
       "       LCLid         day   hh_0   hh_1   hh_2   hh_3   hh_4   hh_5   hh_6  \\\n",
       "0  MAC000323  2012-03-07  0.150  0.114  0.054  0.107  0.107  0.078  0.082   \n",
       "1  MAC000323  2012-03-08  0.111  0.088  0.066  0.105  0.113  0.059  0.093   \n",
       "2  MAC000323  2012-03-09  0.699  0.462  0.117  0.108  0.081  0.086  0.102   \n",
       "3  MAC000323  2012-03-10  0.614  0.608  0.488  0.371  0.111  0.128  0.245   \n",
       "4  MAC000323  2012-03-11  0.106  0.064  0.114  0.138  0.097  0.062  0.113   \n",
       "\n",
       "    hh_7  ...  hh_46  hh_47  stdorToU_x  Acorn_x  Acorn_grouped_x  file_x  \\\n",
       "0  0.105  ...  0.397  0.098         NaN      NaN              NaN     NaN   \n",
       "1  0.112  ...  0.630  0.842         NaN      NaN              NaN     NaN   \n",
       "2  0.090  ...  0.745  0.700         NaN      NaN              NaN     NaN   \n",
       "3  0.226  ...  0.555  0.277         NaN      NaN              NaN     NaN   \n",
       "4  0.147  ...  0.732  0.274         NaN      NaN              NaN     NaN   \n",
       "\n",
       "   stdorToU_y  Acorn_y  Acorn_grouped_y   file_y  \n",
       "0         Std  ACORN-A         Affluent  block_1  \n",
       "1         Std  ACORN-A         Affluent  block_1  \n",
       "2         Std  ACORN-A         Affluent  block_1  \n",
       "3         Std  ACORN-A         Affluent  block_1  \n",
       "4         Std  ACORN-A         Affluent  block_1  \n",
       "\n",
       "[5 rows x 58 columns]"
      ]
     },
     "execution_count": 167,
     "metadata": {},
     "output_type": "execute_result"
    }
   ],
   "source": [
    "# Convert numerical columns while keeping categorical data intact\n",
    "for col in df.columns:\n",
    "    if col.startswith(\"hh_\"):  # Apply to half-hourly consumption data\n",
    "        df[col] = pd.to_numeric(df[col], errors='coerce')  # Convert to float\n",
    "\n",
    "# Display first few rows again\n",
    "df.head()\n"
   ]
  },
  {
   "cell_type": "code",
   "execution_count": 168,
   "id": "b5a00309",
   "metadata": {},
   "outputs": [],
   "source": [
    "# Check missing values\n",
    "missing_values = df.isnull().sum()\n",
    "missing_values[missing_values > 0]\n",
    "df_cleaned = df.dropna()\n"
   ]
  },
  {
   "cell_type": "code",
   "execution_count": 169,
   "id": "b98e5981",
   "metadata": {},
   "outputs": [
    {
     "data": {
      "text/html": [
       "<div>\n",
       "<style scoped>\n",
       "    .dataframe tbody tr th:only-of-type {\n",
       "        vertical-align: middle;\n",
       "    }\n",
       "\n",
       "    .dataframe tbody tr th {\n",
       "        vertical-align: top;\n",
       "    }\n",
       "\n",
       "    .dataframe thead th {\n",
       "        text-align: right;\n",
       "    }\n",
       "</style>\n",
       "<table border=\"1\" class=\"dataframe\">\n",
       "  <thead>\n",
       "    <tr style=\"text-align: right;\">\n",
       "      <th></th>\n",
       "      <th>hh_0</th>\n",
       "      <th>hh_1</th>\n",
       "      <th>hh_2</th>\n",
       "      <th>hh_3</th>\n",
       "      <th>hh_4</th>\n",
       "      <th>hh_5</th>\n",
       "      <th>hh_6</th>\n",
       "      <th>hh_7</th>\n",
       "      <th>hh_8</th>\n",
       "      <th>hh_9</th>\n",
       "      <th>...</th>\n",
       "      <th>hh_38</th>\n",
       "      <th>hh_39</th>\n",
       "      <th>hh_40</th>\n",
       "      <th>hh_41</th>\n",
       "      <th>hh_42</th>\n",
       "      <th>hh_43</th>\n",
       "      <th>hh_44</th>\n",
       "      <th>hh_45</th>\n",
       "      <th>hh_46</th>\n",
       "      <th>hh_47</th>\n",
       "    </tr>\n",
       "  </thead>\n",
       "  <tbody>\n",
       "    <tr>\n",
       "      <th>count</th>\n",
       "      <td>0.0</td>\n",
       "      <td>0.0</td>\n",
       "      <td>0.0</td>\n",
       "      <td>0.0</td>\n",
       "      <td>0.0</td>\n",
       "      <td>0.0</td>\n",
       "      <td>0.0</td>\n",
       "      <td>0.0</td>\n",
       "      <td>0.0</td>\n",
       "      <td>0.0</td>\n",
       "      <td>...</td>\n",
       "      <td>0.0</td>\n",
       "      <td>0.0</td>\n",
       "      <td>0.0</td>\n",
       "      <td>0.0</td>\n",
       "      <td>0.0</td>\n",
       "      <td>0.0</td>\n",
       "      <td>0.0</td>\n",
       "      <td>0.0</td>\n",
       "      <td>0.0</td>\n",
       "      <td>0.0</td>\n",
       "    </tr>\n",
       "    <tr>\n",
       "      <th>mean</th>\n",
       "      <td>NaN</td>\n",
       "      <td>NaN</td>\n",
       "      <td>NaN</td>\n",
       "      <td>NaN</td>\n",
       "      <td>NaN</td>\n",
       "      <td>NaN</td>\n",
       "      <td>NaN</td>\n",
       "      <td>NaN</td>\n",
       "      <td>NaN</td>\n",
       "      <td>NaN</td>\n",
       "      <td>...</td>\n",
       "      <td>NaN</td>\n",
       "      <td>NaN</td>\n",
       "      <td>NaN</td>\n",
       "      <td>NaN</td>\n",
       "      <td>NaN</td>\n",
       "      <td>NaN</td>\n",
       "      <td>NaN</td>\n",
       "      <td>NaN</td>\n",
       "      <td>NaN</td>\n",
       "      <td>NaN</td>\n",
       "    </tr>\n",
       "    <tr>\n",
       "      <th>std</th>\n",
       "      <td>NaN</td>\n",
       "      <td>NaN</td>\n",
       "      <td>NaN</td>\n",
       "      <td>NaN</td>\n",
       "      <td>NaN</td>\n",
       "      <td>NaN</td>\n",
       "      <td>NaN</td>\n",
       "      <td>NaN</td>\n",
       "      <td>NaN</td>\n",
       "      <td>NaN</td>\n",
       "      <td>...</td>\n",
       "      <td>NaN</td>\n",
       "      <td>NaN</td>\n",
       "      <td>NaN</td>\n",
       "      <td>NaN</td>\n",
       "      <td>NaN</td>\n",
       "      <td>NaN</td>\n",
       "      <td>NaN</td>\n",
       "      <td>NaN</td>\n",
       "      <td>NaN</td>\n",
       "      <td>NaN</td>\n",
       "    </tr>\n",
       "    <tr>\n",
       "      <th>min</th>\n",
       "      <td>NaN</td>\n",
       "      <td>NaN</td>\n",
       "      <td>NaN</td>\n",
       "      <td>NaN</td>\n",
       "      <td>NaN</td>\n",
       "      <td>NaN</td>\n",
       "      <td>NaN</td>\n",
       "      <td>NaN</td>\n",
       "      <td>NaN</td>\n",
       "      <td>NaN</td>\n",
       "      <td>...</td>\n",
       "      <td>NaN</td>\n",
       "      <td>NaN</td>\n",
       "      <td>NaN</td>\n",
       "      <td>NaN</td>\n",
       "      <td>NaN</td>\n",
       "      <td>NaN</td>\n",
       "      <td>NaN</td>\n",
       "      <td>NaN</td>\n",
       "      <td>NaN</td>\n",
       "      <td>NaN</td>\n",
       "    </tr>\n",
       "    <tr>\n",
       "      <th>25%</th>\n",
       "      <td>NaN</td>\n",
       "      <td>NaN</td>\n",
       "      <td>NaN</td>\n",
       "      <td>NaN</td>\n",
       "      <td>NaN</td>\n",
       "      <td>NaN</td>\n",
       "      <td>NaN</td>\n",
       "      <td>NaN</td>\n",
       "      <td>NaN</td>\n",
       "      <td>NaN</td>\n",
       "      <td>...</td>\n",
       "      <td>NaN</td>\n",
       "      <td>NaN</td>\n",
       "      <td>NaN</td>\n",
       "      <td>NaN</td>\n",
       "      <td>NaN</td>\n",
       "      <td>NaN</td>\n",
       "      <td>NaN</td>\n",
       "      <td>NaN</td>\n",
       "      <td>NaN</td>\n",
       "      <td>NaN</td>\n",
       "    </tr>\n",
       "    <tr>\n",
       "      <th>50%</th>\n",
       "      <td>NaN</td>\n",
       "      <td>NaN</td>\n",
       "      <td>NaN</td>\n",
       "      <td>NaN</td>\n",
       "      <td>NaN</td>\n",
       "      <td>NaN</td>\n",
       "      <td>NaN</td>\n",
       "      <td>NaN</td>\n",
       "      <td>NaN</td>\n",
       "      <td>NaN</td>\n",
       "      <td>...</td>\n",
       "      <td>NaN</td>\n",
       "      <td>NaN</td>\n",
       "      <td>NaN</td>\n",
       "      <td>NaN</td>\n",
       "      <td>NaN</td>\n",
       "      <td>NaN</td>\n",
       "      <td>NaN</td>\n",
       "      <td>NaN</td>\n",
       "      <td>NaN</td>\n",
       "      <td>NaN</td>\n",
       "    </tr>\n",
       "    <tr>\n",
       "      <th>75%</th>\n",
       "      <td>NaN</td>\n",
       "      <td>NaN</td>\n",
       "      <td>NaN</td>\n",
       "      <td>NaN</td>\n",
       "      <td>NaN</td>\n",
       "      <td>NaN</td>\n",
       "      <td>NaN</td>\n",
       "      <td>NaN</td>\n",
       "      <td>NaN</td>\n",
       "      <td>NaN</td>\n",
       "      <td>...</td>\n",
       "      <td>NaN</td>\n",
       "      <td>NaN</td>\n",
       "      <td>NaN</td>\n",
       "      <td>NaN</td>\n",
       "      <td>NaN</td>\n",
       "      <td>NaN</td>\n",
       "      <td>NaN</td>\n",
       "      <td>NaN</td>\n",
       "      <td>NaN</td>\n",
       "      <td>NaN</td>\n",
       "    </tr>\n",
       "    <tr>\n",
       "      <th>max</th>\n",
       "      <td>NaN</td>\n",
       "      <td>NaN</td>\n",
       "      <td>NaN</td>\n",
       "      <td>NaN</td>\n",
       "      <td>NaN</td>\n",
       "      <td>NaN</td>\n",
       "      <td>NaN</td>\n",
       "      <td>NaN</td>\n",
       "      <td>NaN</td>\n",
       "      <td>NaN</td>\n",
       "      <td>...</td>\n",
       "      <td>NaN</td>\n",
       "      <td>NaN</td>\n",
       "      <td>NaN</td>\n",
       "      <td>NaN</td>\n",
       "      <td>NaN</td>\n",
       "      <td>NaN</td>\n",
       "      <td>NaN</td>\n",
       "      <td>NaN</td>\n",
       "      <td>NaN</td>\n",
       "      <td>NaN</td>\n",
       "    </tr>\n",
       "  </tbody>\n",
       "</table>\n",
       "<p>8 rows × 48 columns</p>\n",
       "</div>"
      ],
      "text/plain": [
       "       hh_0  hh_1  hh_2  hh_3  hh_4  hh_5  hh_6  hh_7  hh_8  hh_9  ...  hh_38  \\\n",
       "count   0.0   0.0   0.0   0.0   0.0   0.0   0.0   0.0   0.0   0.0  ...    0.0   \n",
       "mean    NaN   NaN   NaN   NaN   NaN   NaN   NaN   NaN   NaN   NaN  ...    NaN   \n",
       "std     NaN   NaN   NaN   NaN   NaN   NaN   NaN   NaN   NaN   NaN  ...    NaN   \n",
       "min     NaN   NaN   NaN   NaN   NaN   NaN   NaN   NaN   NaN   NaN  ...    NaN   \n",
       "25%     NaN   NaN   NaN   NaN   NaN   NaN   NaN   NaN   NaN   NaN  ...    NaN   \n",
       "50%     NaN   NaN   NaN   NaN   NaN   NaN   NaN   NaN   NaN   NaN  ...    NaN   \n",
       "75%     NaN   NaN   NaN   NaN   NaN   NaN   NaN   NaN   NaN   NaN  ...    NaN   \n",
       "max     NaN   NaN   NaN   NaN   NaN   NaN   NaN   NaN   NaN   NaN  ...    NaN   \n",
       "\n",
       "       hh_39  hh_40  hh_41  hh_42  hh_43  hh_44  hh_45  hh_46  hh_47  \n",
       "count    0.0    0.0    0.0    0.0    0.0    0.0    0.0    0.0    0.0  \n",
       "mean     NaN    NaN    NaN    NaN    NaN    NaN    NaN    NaN    NaN  \n",
       "std      NaN    NaN    NaN    NaN    NaN    NaN    NaN    NaN    NaN  \n",
       "min      NaN    NaN    NaN    NaN    NaN    NaN    NaN    NaN    NaN  \n",
       "25%      NaN    NaN    NaN    NaN    NaN    NaN    NaN    NaN    NaN  \n",
       "50%      NaN    NaN    NaN    NaN    NaN    NaN    NaN    NaN    NaN  \n",
       "75%      NaN    NaN    NaN    NaN    NaN    NaN    NaN    NaN    NaN  \n",
       "max      NaN    NaN    NaN    NaN    NaN    NaN    NaN    NaN    NaN  \n",
       "\n",
       "[8 rows x 48 columns]"
      ]
     },
     "execution_count": 169,
     "metadata": {},
     "output_type": "execute_result"
    }
   ],
   "source": [
    "df_cleaned.describe()\n",
    "\n"
   ]
  },
  {
   "cell_type": "code",
   "execution_count": 171,
   "id": "0c7e979a",
   "metadata": {},
   "outputs": [
    {
     "data": {
      "text/plain": [
       "LCLid              0\n",
       "day                0\n",
       "hh_0               0\n",
       "hh_1               0\n",
       "hh_2               0\n",
       "hh_3               0\n",
       "hh_4               0\n",
       "hh_5               0\n",
       "hh_6               0\n",
       "hh_7               0\n",
       "hh_8               0\n",
       "hh_9               0\n",
       "hh_10              0\n",
       "hh_11              0\n",
       "hh_12              0\n",
       "hh_13              0\n",
       "hh_14              0\n",
       "hh_15              0\n",
       "hh_16              0\n",
       "hh_17              0\n",
       "hh_18              0\n",
       "hh_19              0\n",
       "hh_20              0\n",
       "hh_21              0\n",
       "hh_22              0\n",
       "hh_23              0\n",
       "hh_24              0\n",
       "hh_25              0\n",
       "hh_26              0\n",
       "hh_27              0\n",
       "hh_28              0\n",
       "hh_29              0\n",
       "hh_30              0\n",
       "hh_31              0\n",
       "hh_32              0\n",
       "hh_33              0\n",
       "hh_34              0\n",
       "hh_35              0\n",
       "hh_36              0\n",
       "hh_37              0\n",
       "hh_38              0\n",
       "hh_39              0\n",
       "hh_40              0\n",
       "hh_41              0\n",
       "hh_42              0\n",
       "hh_43              0\n",
       "hh_44              0\n",
       "hh_45              0\n",
       "hh_46              0\n",
       "hh_47              0\n",
       "stdorToU_x         0\n",
       "Acorn_x            0\n",
       "Acorn_grouped_x    0\n",
       "file_x             0\n",
       "stdorToU_y         0\n",
       "Acorn_y            0\n",
       "Acorn_grouped_y    0\n",
       "file_y             0\n",
       "dtype: int64"
      ]
     },
     "execution_count": 171,
     "metadata": {},
     "output_type": "execute_result"
    }
   ],
   "source": [
    "df_cleaned.nunique()\n"
   ]
  },
  {
   "cell_type": "code",
   "execution_count": 172,
   "id": "27b85d7b",
   "metadata": {},
   "outputs": [
    {
     "name": "stdout",
     "output_type": "stream",
     "text": [
      "datetime64[ns]\n"
     ]
    }
   ],
   "source": [
    "import matplotlib.pyplot as plt\n",
    "df_cleaned['day'] = pd.to_datetime(df_cleaned['day'], errors='coerce')\n",
    "print(df_cleaned['day'].dtypes)"
   ]
  },
  {
   "cell_type": "code",
   "execution_count": 173,
   "id": "5365492b",
   "metadata": {},
   "outputs": [],
   "source": [
    "df['day'] = pd.to_datetime(df['day'], errors='coerce')\n"
   ]
  },
  {
   "cell_type": "code",
   "execution_count": 174,
   "id": "e6438c69",
   "metadata": {},
   "outputs": [],
   "source": [
    "\n",
    "df_cleaned = df.dropna()\n"
   ]
  },
  {
   "cell_type": "code",
   "execution_count": 175,
   "id": "8138108b",
   "metadata": {},
   "outputs": [
    {
     "name": "stdout",
     "output_type": "stream",
     "text": [
      "(0, 58)\n"
     ]
    }
   ],
   "source": [
    "print(df_cleaned.shape)\n"
   ]
  },
  {
   "cell_type": "code",
   "execution_count": 176,
   "id": "10dc6136",
   "metadata": {},
   "outputs": [
    {
     "name": "stdout",
     "output_type": "stream",
     "text": [
      "(56529, 58)\n"
     ]
    }
   ],
   "source": [
    "df_cleaned = df.dropna(subset=['day'])  # Drops only rows where 'day' is missing\n",
    "print(df_cleaned.shape)\n"
   ]
  },
  {
   "cell_type": "code",
   "execution_count": 178,
   "id": "b8425d68",
   "metadata": {},
   "outputs": [
    {
     "name": "stdout",
     "output_type": "stream",
     "text": [
      "0\n"
     ]
    },
    {
     "data": {
      "image/png": "[encoded data removed]",
      "text/plain": [
       "<Figure size 1200x600 with 1 Axes>"
      ]
     },
     "metadata": {},
     "output_type": "display_data"
    }
   ],
   "source": [
    "import pandas as pd\n",
    "import matplotlib.pyplot as plt\n",
    "\n",
    "# Ensure pandas uses the updated behavior\n",
    "pd.set_option('future.no_silent_downcasting', True)\n",
    "\n",
    "# Replace all NaN values with 0\n",
    "df_cleaned.fillna(0, inplace=True)  # This avoids the FutureWarning\n",
    "\n",
    "# Verify no null values remain\n",
    "print(df_cleaned.isnull().sum().sum())  # Should print 0 if all missing values are filled\n",
    "\n",
    "# Aggregate data by day\n",
    "df_grouped = df_cleaned.groupby(\"day\").sum()\n",
    "\n",
    "# Plot\n",
    "plt.figure(figsize=(12, 6))\n",
    "plt.plot(df_grouped.index, df_grouped[\"hh_0\"], label=\"hh_0 (Midnight Usage)\")\n",
    "plt.xlabel(\"Date\")\n",
    "plt.ylabel(\"Energy Consumption (kWh)\")\n",
    "plt.title(\"Daily Energy Consumption Over Time\")\n",
    "plt.legend()\n",
    "plt.xticks(rotation=45)\n",
    "plt.show()\n"
   ]
  },
  {
   "cell_type": "code",
   "execution_count": 179,
   "id": "71a6696e",
   "metadata": {},
   "outputs": [
    {
     "name": "stdout",
     "output_type": "stream",
     "text": [
      "✅ Cleaned dataset saved as 'cleaned_smart_meters.csv'\n"
     ]
    }
   ],
   "source": [
    "df_cleaned.to_csv(\"cleaned_smart_meters.csv\", index=False)\n",
    "print(\"✅ Cleaned dataset saved as 'cleaned_smart_meters.csv'\")\n"
   ]
  },
  {
   "cell_type": "code",
   "execution_count": 180,
   "id": "71bdc1e0",
   "metadata": {},
   "outputs": [
    {
     "name": "stdout",
     "output_type": "stream",
     "text": [
      "✅ File found and loaded.\n",
      "Columns in block_1: Index(['LCLid', 'day', 'hh_0', 'hh_1', 'hh_2', 'hh_3', 'hh_4', 'hh_5', 'hh_6',\n",
      "       'hh_7', 'hh_8', 'hh_9', 'hh_10', 'hh_11', 'hh_12', 'hh_13', 'hh_14',\n",
      "       'hh_15', 'hh_16', 'hh_17', 'hh_18', 'hh_19', 'hh_20', 'hh_21', 'hh_22',\n",
      "       'hh_23', 'hh_24', 'hh_25', 'hh_26', 'hh_27', 'hh_28', 'hh_29', 'hh_30',\n",
      "       'hh_31', 'hh_32', 'hh_33', 'hh_34', 'hh_35', 'hh_36', 'hh_37', 'hh_38',\n",
      "       'hh_39', 'hh_40', 'hh_41', 'hh_42', 'hh_43', 'hh_44', 'hh_45', 'hh_46',\n",
      "       'hh_47'],\n",
      "      dtype='object')\n"
     ]
    },
    {
     "data": {
      "image/png": "[encoded data removed]",
      "text/plain": [
       "<Figure size 1200x600 with 1 Axes>"
      ]
     },
     "metadata": {},
     "output_type": "display_data"
    }
   ],
   "source": [
    "import pandas as pd\n",
    "from pathlib import Path\n",
    "import matplotlib.pyplot as plt\n",
    "\n",
    "# Define the file path\n",
    "block_data_path = Path(\"./data/\")\n",
    "block_file = block_data_path / \"block_0.csv\"\n",
    "\n",
    "# Check if the file exists\n",
    "if block_data_path.exists():\n",
    "    block_1 = pd.read_csv(block_data_path, parse_dates=False)\n",
    "    block_1['day'] = pd.to_datetime(block_1['day'], yearfirst=True)\n",
    "    print(\"✅ File found and loaded.\")\n",
    "else:\n",
    "    print(f\"❌ File not found: {block_file}\")\n",
    "    print(\"🔧 Make sure the dataset is uploaded and the path is correct.\")\n",
    "    block_1 = None\n",
    "\n",
    "if block_1 is not None:\n",
    "    # Check the columns in the DataFrame\n",
    "    print(\"Columns in block_1:\", block_1.columns)\n",
    "\n",
    "    # Fill NaN values to avoid issues during aggregation\n",
    "    df_cleaned = block_1.fillna(0)\n",
    "\n",
    "    # Verify if 'hh_0' exists before aggregation\n",
    "    if 'hh_0' in df_cleaned.columns:\n",
    "        # Aggregate data by day\n",
    "        df_grouped = df_cleaned.groupby(\"day\").sum()\n",
    "\n",
    "        # Plot the aggregated data\n",
    "        plt.figure(figsize=(12, 6))\n",
    "        plt.plot(df_grouped.index, df_grouped[\"hh_0\"], label=\"hh_0 (Midnight Usage)\")\n",
    "        plt.xlabel(\"Date\")\n",
    "        plt.ylabel(\"Energy Consumption (kWh)\")\n",
    "        plt.title(\"Daily Energy Consumption Over Time\")\n",
    "        plt.legend()\n",
    "        plt.xticks(rotation=45)\n",
    "        plt.show()\n",
    "    else:\n",
    "        print(\"Warning: 'hh_0' column not found. Using the first available numeric column.\")\n",
    "        numeric_cols = df_cleaned.select_dtypes(include='number').columns\n",
    "        if len(numeric_cols) > 0:\n",
    "            first_numeric_col = numeric_cols[0]\n",
    "            print(f\"Using column: {first_numeric_col}\")\n",
    "\n",
    "            # Aggregate data and plot using the first numeric column\n",
    "            df_grouped = df_cleaned.groupby(\"day\").sum()\n",
    "            plt.figure(figsize=(12, 6))\n",
    "            plt.plot(df_grouped.index, df_grouped[first_numeric_col], label=first_numeric_col)\n",
    "            plt.xlabel(\"Date\")\n",
    "            plt.ylabel(\"Energy Consumption (kWh)\")\n",
    "            plt.title(\"Daily Energy Consumption Over Time\")\n",
    "            plt.legend()\n",
    "            plt.xticks(rotation=45)\n",
    "            plt.show()\n",
    "        else:\n",
    "            print(\"No numeric columns available for plotting.\")\n",
    "else:\n",
    "    print(\"Error: No data available for processing.\")\n",
    "\n",
    "\n"
   ]
  },
  {
   "cell_type": "code",
   "execution_count": 181,
   "id": "5ff25f88",
   "metadata": {},
   "outputs": [
    {
     "data": {
      "image/png": "[encoded data removed]",
      "text/plain": [
       "<Figure size 1000x600 with 1 Axes>"
      ]
     },
     "metadata": {},
     "output_type": "display_data"
    }
   ],
   "source": [
    "import seaborn as sns\n",
    "\n",
    "plt.figure(figsize=(10, 6))\n",
    "sns.histplot(df_cleaned[\"hh_0\"], bins=50, kde=True)\n",
    "plt.xlabel(\"Energy Consumption (kWh)\")\n",
    "plt.ylabel(\"Frequency\")\n",
    "plt.title(\"Distribution of Midnight Energy Consumption (hh_0)\")\n",
    "plt.show()\n"
   ]
  }
 ],
 "metadata": {
  "kernelspec": {
   "display_name": "Python 3",
   "language": "python",
   "name": "python3"
  },
  "language_info": {
   "codemirror_mode": {
    "name": "ipython",
    "version": 3
   },
   "file_extension": ".py",
   "mimetype": "text/x-python",
   "name": "python",
   "nbconvert_exporter": "python",
   "pygments_lexer": "ipython3",
   "version": "3.12.2"
  }
 },
 "nbformat": 4,
 "nbformat_minor": 5
}
